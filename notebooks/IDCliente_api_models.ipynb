{
 "cells": [
  {
   "cell_type": "markdown",
   "metadata": {},
   "source": [
    "15/03/2025"
   ]
  },
  {
   "cell_type": "code",
   "execution_count": 4,
   "metadata": {},
   "outputs": [],
   "source": [
    "import pandas as pd"
   ]
  },
  {
   "cell_type": "code",
   "execution_count": 5,
   "metadata": {},
   "outputs": [],
   "source": [
    "df_clienti = pd.read_csv(r\"C:\\Users\\enduser\\Desktop\\PythonPostLaurea\\ZOPPIS\\ZOPPIS\\data\\clienti.csv\",sep = \";\")\n"
   ]
  },
  {
   "cell_type": "markdown",
   "metadata": {},
   "source": [
    "### Full text creation"
   ]
  },
  {
   "cell_type": "code",
   "execution_count": 2,
   "metadata": {},
   "outputs": [],
   "source": [
    "import ollama\n",
    "import json\n",
    "import os"
   ]
  },
  {
   "cell_type": "code",
   "execution_count": 7,
   "metadata": {},
   "outputs": [],
   "source": [
    "def create_full_text(row, prefix=\"search_document\"):\n",
    "    return f\"{prefix}: \" + \", \".join(\n",
    "        f\"{col}: {val}\"\n",
    "        for col, val in row.items() \n",
    "        if pd.notna(val)\n",
    "    )\n",
    "\n",
    "df_clienti[\"full_text\"] = df_clienti.apply(create_full_text, axis=1)"
   ]
  },
  {
   "cell_type": "code",
   "execution_count": 8,
   "metadata": {},
   "outputs": [],
   "source": [
    "df_clienti_full_text = df_clienti[\"full_text\"]"
   ]
  },
  {
   "cell_type": "markdown",
   "metadata": {},
   "source": [
    "### Embedding generation"
   ]
  },
  {
   "cell_type": "markdown",
   "metadata": {},
   "source": [
    "NB: sulla repo di nomic-embed-text dicono che bisogna mettere una chiave per dire che tipo di task si vuole fare."
   ]
  },
  {
   "cell_type": "code",
   "execution_count": 10,
   "metadata": {},
   "outputs": [
    {
     "name": "stdout",
     "output_type": "stream",
     "text": [
      "Il path 'C:\\Users\\enduser\\Desktop\\PythonPostLaurea\\ZOPPIS\\ZOPPIS\\notebooks\\embeddings.parquet' esiste già, uscita dal ciclo.\n"
     ]
    }
   ],
   "source": [
    "def get_embedding(text):\n",
    "    try:\n",
    "        response = ollama.embeddings(model=\"nomic-embed-text\", prompt=text)\n",
    "        return response['embedding']\n",
    "    except Exception as e:\n",
    "        print(f\"Errore durante l'embedding: {e}\")\n",
    "        return None\n",
    "\n",
    "path = r\"C:\\Users\\enduser\\Desktop\\PythonPostLaurea\\ZOPPIS\\ZOPPIS\\notebooks\\embeddings.parquet\"\n",
    "\n",
    "if not os.path.exists(path):\n",
    "    df_clienti_emb = df_clienti_full_text.apply(get_embedding)\n",
    "    df_clienti_emb = pd.DataFrame(df_clienti_emb)\n",
    "    df_clienti_emb.to_parquet(\"embeddings_v2.parquet\", engine=\"pyarrow\")\n",
    "    print(\"Embeddings salvati\")\n",
    "else:\n",
    "    print(f\"Il path '{path}' esiste già, uscita dal ciclo.\")\n"
   ]
  },
  {
   "cell_type": "markdown",
   "metadata": {},
   "source": [
    "ci ha messo 13 min x 6600 clienti.\n",
    "\n",
    "la dimensione è di 768"
   ]
  },
  {
   "cell_type": "markdown",
   "metadata": {},
   "source": [
    "### OCR:"
   ]
  },
  {
   "cell_type": "markdown",
   "metadata": {},
   "source": [
    "con gemini flash"
   ]
  },
  {
   "cell_type": "code",
   "execution_count": 33,
   "metadata": {},
   "outputs": [],
   "source": [
    "import google.generativeai as genai\n",
    "import os\n",
    "import base64\n",
    "from dotenv import load_dotenv\n",
    "\n",
    "load_dotenv()\n",
    "API_KEY = os.environ.get(\"GOOGLE_API_KEY\")\n",
    "genai.configure(api_key=API_KEY)\n",
    "model = genai.GenerativeModel(\"gemini-2.0-flash\")\n",
    "doc_path = r\"C:\\Users\\enduser\\Desktop\\PythonPostLaurea\\ZOPPIS\\ZOPPIS\\data\\inputs\\otto.pdf\"\n",
    "with open(doc_path, \"rb\") as doc_file:\n",
    "    doc_data = base64.standard_b64encode(doc_file.read()).decode(\"utf-8\")\n",
    "prompt = \"\"\"\n",
    "Trascrivi fedelmente il contenuto di questo documento PDF. Non aggiungere spiegazioni, riassunti o commenti.\n",
    "Devi solo riportare il testo esattamente come appare nel documento.\n",
    "\"\"\"\n",
    "response = model.generate_content([\n",
    "    {'mime_type': 'application/pdf', 'data': doc_data},\n",
    "    prompt\n",
    "])\n",
    "#print(response.text)\n",
    "ordine = response.text\n"
   ]
  },
  {
   "cell_type": "code",
   "execution_count": 34,
   "metadata": {},
   "outputs": [
    {
     "name": "stdout",
     "output_type": "stream",
     "text": [
      "Anteprima messaggio\n",
      "...\n",
      "Rispondi Rispondi a t... Inoltra Elimina Stampa Archivio Spam Contrasse... Azioni Precedente Successivo\n",
      "X\n",
      "Nuo\n",
      "E-Mail\n",
      "Contatti\n",
      "Calendario\n",
      "Impostazi...\n",
      "Modalita s...\n",
      "?\n",
      "Informazioni\n",
      "Esci\n",
      "Webmail\n",
      "Home\n",
      "Nuovo ordine emesso dal sito Otto per il fornitore Zoppis\n",
      "Mittente\n",
      "oT To staff\n",
      "Destinatario\n",
      "alessio.atzeni@zoppis.com.ordini@zoppis.com.staff@sarpiotto.com, posta@sarpiotto.com, direzione@sarpiotto.com\n",
      "Data\n",
      "Gio 00:11\n",
      "Riepilogo Intestazioni\n",
      "Testo semplice\n",
      "\n",
      "отто\n",
      "Ciao Alessio,\n",
      "Ti mandiamo un nuovo ordine.\n",
      "Grazie!\n",
      "Fornitore: Zoppis\n",
      "ordine del: 11/12/2024\n",
      "Nome\n",
      "Qta Prezzo Totale Formato\n",
      "APERITIVO Litro SELECT\n",
      "1\n",
      "9.99\n",
      "9.99\n",
      "BIRROTTO fusto\n",
      "1\n",
      "69.95\n",
      "69.95\n",
      "vodka (taniche da 6)\n",
      "1\n",
      "8.66\n",
      "8.66\n",
      "oTTo, Via Paolo Sarpi, 8. 20154 Milano Mi\n",
      "\n"
     ]
    }
   ],
   "source": [
    "print(ordine)"
   ]
  },
  {
   "cell_type": "markdown",
   "metadata": {},
   "source": [
    "### RAG"
   ]
  },
  {
   "cell_type": "code",
   "execution_count": 35,
   "metadata": {},
   "outputs": [],
   "source": [
    "df_clienti_emb = pd.read_parquet(r\"C:\\Users\\enduser\\Desktop\\PythonPostLaurea\\ZOPPIS\\ZOPPIS\\notebooks\\embeddings_v2.parquet\")\n",
    "query = \"search_query: Trovami l'IDCliente (Codice Identificatore Cliente) del seguente ordine: \\n\" + ordine\n",
    "query_emb = get_embedding(query)"
   ]
  },
  {
   "cell_type": "code",
   "execution_count": 36,
   "metadata": {},
   "outputs": [
    {
     "name": "stdout",
     "output_type": "stream",
     "text": [
      "Shape della matrice degli embedding: (6620, 768)\n",
      "Shape dell'embedding della query: 768\n",
      "Top k Indici più simili: [5605 2044 4741 4750   25 2706  291 5423 1884 5838  172  643 4345 4956\n",
      " 6582]\n",
      "Similarità corrispondenti: [0.71814396 0.71584829 0.71088044 0.71057108 0.71007827 0.7097618\n",
      " 0.70926754 0.70830599 0.7071069  0.70681993 0.70615149 0.70406487\n",
      " 0.70384591 0.7035512  0.70341575]\n"
     ]
    }
   ],
   "source": [
    "import numpy as np\n",
    "from scipy.spatial.distance import cdist\n",
    "k = 15\n",
    "embeddings_series = df_clienti_emb[\"full_text\"]\n",
    "query_embedding = query_emb  \n",
    "embedding_matrix = np.array(embeddings_series.tolist(), dtype=np.float32)\n",
    "print(\"Shape della matrice degli embedding:\", embedding_matrix.shape)\n",
    "print(\"Shape dell'embedding della query:\", len(query_embedding))\n",
    "similarities = 1 - cdist([query_embedding], embedding_matrix, metric=\"cosine\")[0]\n",
    "top_k_indices = np.argsort(similarities)[::-1][:k]\n",
    "print(\"Top k Indici più simili:\", top_k_indices)\n",
    "print(\"Similarità corrispondenti:\", similarities[top_k_indices])\n",
    "\n",
    "rag_results = \"\\n\".join(df_clienti_full_text.loc[top_k_indices].astype(str).tolist())"
   ]
  },
  {
   "cell_type": "code",
   "execution_count": 37,
   "metadata": {},
   "outputs": [],
   "source": [
    "rag_results = \"\\n\".join(df_clienti_full_text.loc[top_k_indices].astype(str).tolist())\n",
    "prompt_rag = f\"\"\"search_query: Trovami l'IDCliente (Codice Identificatore Cliente) del seguente ordine:\n",
    "\n",
    "🚀 **IMPORTANTE: INIZIO ORDINE** 🚀\n",
    "\n",
    "{ordine}\n",
    "\n",
    " **IMPORTANTE: FINE ORDINE**\n",
    "\n",
    " \"sapendo che tramite RAG ho ottenuto i full text (stringa contenente tutti i dati strutturati tabellari) dei clienti più simili all'ordine in oggetto. Riporto di seguito i dati full text dei clienti più simili all'ordine. Dai importanza sopratutto alla destinazione dell'ordine e alla ragione sociale dell'ordine (l'Indirizzo Dest la RagSoc nella tabella) per scegliere la riga trai top-k che ti propongo! \\n\"\n",
    "  \n",
    " 🚀 **IMPORTANTE: INIZIO ELENCO DATI ESTRATTI TRAMITE RAG** 🚀\n",
    " \n",
    " {rag_results}\n",
    "\n",
    "  **IMPORTANTE: FINE ELENCO DATI ESTRATTI TRAMITE RAG**\n",
    "\n",
    "\"\\nRestituiscimi soltanto l'IDCliente, la RagSoc e l'Indirizzo Dest in formato JSON, non voglio alcun tipo di dettaglio aggiuntivo\"\" \n",
    "\"\"\""
   ]
  },
  {
   "cell_type": "code",
   "execution_count": 38,
   "metadata": {},
   "outputs": [
    {
     "name": "stdout",
     "output_type": "stream",
     "text": [
      "search_query: Trovami l'IDCliente (Codice Identificatore Cliente) del seguente ordine:\n",
      "\n",
      "🚀 **IMPORTANTE: INIZIO ORDINE** 🚀\n",
      "\n",
      "Anteprima messaggio\n",
      "...\n",
      "Rispondi Rispondi a t... Inoltra Elimina Stampa Archivio Spam Contrasse... Azioni Precedente Successivo\n",
      "X\n",
      "Nuo\n",
      "E-Mail\n",
      "Contatti\n",
      "Calendario\n",
      "Impostazi...\n",
      "Modalita s...\n",
      "?\n",
      "Informazioni\n",
      "Esci\n",
      "Webmail\n",
      "Home\n",
      "Nuovo ordine emesso dal sito Otto per il fornitore Zoppis\n",
      "Mittente\n",
      "oT To staff\n",
      "Destinatario\n",
      "alessio.atzeni@zoppis.com.ordini@zoppis.com.staff@sarpiotto.com, posta@sarpiotto.com, direzione@sarpiotto.com\n",
      "Data\n",
      "Gio 00:11\n",
      "Riepilogo Intestazioni\n",
      "Testo semplice\n",
      "\n",
      "отто\n",
      "Ciao Alessio,\n",
      "Ti mandiamo un nuovo ordine.\n",
      "Grazie!\n",
      "Fornitore: Zoppis\n",
      "ordine del: 11/12/2024\n",
      "Nome\n",
      "Qta Prezzo Totale Formato\n",
      "APERITIVO Litro SELECT\n",
      "1\n",
      "9.99\n",
      "9.99\n",
      "BIRROTTO fusto\n",
      "1\n",
      "69.95\n",
      "69.95\n",
      "vodka (taniche da 6)\n",
      "1\n",
      "8.66\n",
      "8.66\n",
      "oTTo, Via Paolo Sarpi, 8. 20154 Milano Mi\n",
      "\n",
      "\n",
      " **IMPORTANTE: FINE ORDINE**\n",
      "\n",
      " \"sapendo che tramite RAG ho ottenuto i full text (stringa contenente tutti i dati strutturati tabellari) dei clienti più simili all'ordine in oggetto. Riporto di seguito i dati full text dei clienti più simili all'ordine. Dai importanza sopratutto alla destinazione dell'ordine e alla ragione sociale dell'ordine (l'Indirizzo Dest la RagSoc nella tabella) per scegliere la riga trai top-k che ti propongo! \n",
      "\"\n",
      "  \n",
      " 🚀 **IMPORTANTE: INIZIO ELENCO DATI ESTRATTI TRAMITE RAG** 🚀\n",
      " \n",
      " search_document: IDCliente: 12371, RagSoc: ORTOFOOD SRL, Nominativo: ORTOFOOD, Categoria: GROSSISTA, NominativoContatto: UMBERTO VISCONTI, Indirizzo: VIA NOVA N. 58, CAP: 28069, Comune: TRECATE, Prov: NO, Paese: Italia, Zona: NOVARA, PIVA: 02543260034, Cellulare1: 351 3558007, Persona1: MARCO ARRIGO, emailpers1: arrigo.ortofood@gmail.com, Cellulare2: 351 3346737, Persona2: UMBERTO VISCONTI, emailpers2: umbertovisconti@ortofood.it\n",
      "search_document: IDCliente: 5991, RagSoc: CIEMME LIQUORI SPA, Categoria: FORNITORE, Indirizzo: VIA GREGORIC 28, CAP: 34170, Comune: GORIZIA, Prov: GO, Paese: Italia, Cellulare1: 335 5474053, Persona1: GIOVANNI GROVA, emailpers1: grovagiovanni@gmail.com, Persona2: LUCA ZONGAR, emailpers2: l.zongar@ciemmeliquori.it\n",
      "search_document: IDCliente: 11115, RagSoc: DISTILLERIA TUONO SRLS, Categoria: FORNITORE, NominativoContatto: SIMONE MARTINI, Indirizzo: CORSO MATTEOTTI, 4/9, CAP: 48018, Comune: FAENZA, Prov: RA, Paese: Italia, PIVA: 02658770397, Persona1: SIMONE MARTINI, emailpers1: distilleriatuono@gmail.com\n",
      "search_document: IDCliente: 11128, RagSoc: DRINKME SRL, Categoria: ALTRO, NominativoContatto: ANGELO BEVILACQUA, Indirizzo: VIA FRATELLI D' ITALIA, 5, CAP: 21052, Comune: BUSTO ARSIZIO, Prov: VA, Paese: Italia, Zona: LEGNANO, PIVA: 03835750120, Cellulare1: 347 6416853, Persona1: ANDREA MARCELLA, emailpers1: amarcella@roygroup.it, Cellulare2: 392 2031424, Persona2: ANGELO BEVILACQUA, emailpers2: angelo@shedclub.it, Cellulare3: 349 0523511, Persona3: CHIARA GIAVINI, emailpers3: chiara@shedclub.it, cellulare4: 378 3044102, persona4: DEBORAH FARINA, emailpers4: amministrazione@drinkme.cloud, persona5: FABIO BRUSA PASQUE, emailpers5: fabio.brusa@drinkme.cloud, RagSoc_Dest: DRINKME SRL, Indirizzo_Dest: VIA CASSINA SAVINA, 47\n",
      "search_document: IDCliente: 1230, RagSoc: MARTINI E ROSSI SPA, Categoria: ALTRO, NominativoContatto: ENRICO GARAVAGLIA, Indirizzo: PIAZZA LUIGI ROSSI 2, CAP: 10023, Comune: PESSIONE, Prov: TO, Paese: ITALIA, PIVA: 00488160011, Cellulare1: 333 7350442, Persona1: SIMONE CARROZZO, emailpers1: scarrozzo@bacardi.com, Cellulare2: 338 2540551, Persona2: ENRICO GARAVAGLIA, emailpers2: egaravaglia@bacardi.com, Cellulare3: 331 6314202, Persona3: GINAFRANCO FRIZZI, cellulare4: 366 6328811, persona4: ALESSANDRO CHESSA, emailpers4: achessa@bacardi.com, cellulare5: 366 6725212, persona5: DARIO FERRARESE, emailpers5: dferrarese@bacardi.com\n",
      "search_document: IDCliente: 7401, RagSoc: DISTILLERIA MARZADRO SPA, Categoria: FORNITORE, Indirizzo: VIA PER BRANCOLINO 10, CAP: 38060, Comune: NOGAREDO, Prov: TN, Paese: Italia, PIVA: 01451450223\n",
      "search_document: IDCliente: 1981, RagSoc: NONINO DISTILLATORI SPA, Categoria: FORNITORE, NominativoContatto: ALESSANDRO GIRI, Indirizzo: VIA ACQUILEIA SPA, CAP: 33050, Comune: PERCOTO, Prov: UD, Paese: Italia, PIVA: 01977640307, Cellulare1: 345 7981533, Persona1: ALESSANDRO GIRI\n",
      "search_document: IDCliente: 12102, RagSoc: OPUS S.R.L., Nominativo: OPUS, Categoria: RISTORANTE, NominativoContatto: FRANCESCO DIMOLFETTA, Indirizzo: VIA SOLFERINO,56, CAP: 20121, Comune: MILANO, Prov: MI, Paese: Italia, Zona: MI-EST ZTL, PIVA: 12596300967, Cellulare1: 342 3517699, Persona1: FRANCESCO DIMOLFETTA, Cellulare2: 328 2980591, Persona2: EDOARDO MICHELI, emailpers2: edoardo.micheli@icloud.com\n",
      "search_document: IDCliente: 5605, RagSoc: PRONTO GAS DI LUPO SALVATORE, Nominativo: RIVENDITA COMBUSTILE PER USO DOMESTICO E ALTRO, Categoria: ALTRO, NominativoContatto: LUPO SALVATORE, Indirizzo: VIA SOLFERINO 155, CAP: 96018, Comune: PACHINO, Prov: SR, Paese: Italia, PIVA: 01635750894, Cellulare1: 3288232157, Persona1: TITOLARE\n",
      "search_document: IDCliente: 12692, RagSoc: D&C SPA, Categoria: FORNITORE, NominativoContatto: ALESSANDRO FREGUGIA, Indirizzo: VIA PRIVATA TACITO, 10/B, CAP: 20094, Comune: CORSICO, Prov: MI, Paese: Italia, PIVA: 00612491209, Cellulare1: 338 8468002, Persona1: ALESSANDRO FREGUGIA, emailpers1: a.fregugia85@gmail.com, Cellulare2: 335 5731465, Persona2: ANDREA TORRES, emailpers2: andrea.torres@dec.it, Persona3: UFFICIO VENDITE, emailpers3: sve@dec.it\n",
      "search_document: IDCliente: 1667, RagSoc: TENUTE PIERALISI s.r.l. Società Agricola, Nominativo: MONTESCHIAVO, Categoria: FORNITORE, NominativoContatto: ORRU' DAVIDE A. D., Indirizzo: VIA VIVAIO F.MONTESCHIAVO, CAP: 60030, Comune: MAIOLATI SPONTINI, Prov: AN, Paese: ITALIA, PIVA: 01381030426, Cellulare1: 335 7498222, Persona1: SERGIO FRANCESCONI, emailpers1: sergio.francesconi@tenutepieralisi.it, Cellulare2: 0731 1943010, Persona2: PAMELA (ORDINI)\n",
      "search_document: IDCliente: 2622, RagSoc: RONER SPA, Categoria: FORNITORE, Indirizzo: VIA ZALLINGER 44, CAP: 39040, Comune: TERMENO, Prov: BZ, Paese: Italia, PIVA: 00120270210, Cellulare1: 339 7537868, Persona1: SIMONA TROMBETTA, emailpers1: info@simonatrombetta.it, Cellulare2: 335 1303898, Persona2: PETER WIEDMER, emailpers2: peter.wiedmer@roner.com\n",
      "search_document: IDCliente: 10484, RagSoc: EATRIGHT SRL - VIA MOSCATI, Nominativo: ERBERT, Categoria: ALTRO, NominativoContatto: DAVIDE MARCOMIN, Indirizzo: LARGO AUGUSTO, 8, CAP: 20122, Comune: MILANO, Prov: MI, Paese: Italia, Zona: MI-EST, PIVA: 10343500962, Cellulare1: 349 2357222, Persona1: DAVIDE MARCOMIN (DIRETTORE COMMERCIALE E VENDITE), Persona2: AMMINISTRAZIONE, emailpers2: amministrazione@erbert.it, Persona3: RACHELE BARBARO, emailpers3: rachele.barbaro@erbert.it, cellulare4: 340 1731356, persona4: DAVIDE QUINZI, emailpers4: davide.quinzi@erbert.it, RagSoc_Dest: EATRIGHT SRL, Indirizzo_Dest: VIA PIETRO MOSCATI, 11\n",
      "search_document: IDCliente: 11440, RagSoc: EATRIGHT SRL - VETRA, Nominativo: ERBERT VETRA, Categoria: ALTRO, NominativoContatto: DAVIDE MARCOMIN, Indirizzo: LARGO AUGUSTO, 8, CAP: 20122, Comune: MILANO, Prov: MI, Paese: Italia, Zona: MI-SUD ZTL, PIVA: 10343500962, Cellulare1: 349 2357222, Persona1: DAVIDE MARCOMIN, Persona2: AMMINISTRAZIONE, emailpers2: amministrazione@erbert.it, Persona3: RACHELE BARBARO, emailpers3: rachele.barbaro@erbert.it, cellulare4: 340 1731356, persona4: DAVIDE QUINZI, emailpers4: davide.quinzi@erbert.it, RagSoc_Dest: EATRIGHT SRL, Indirizzo_Dest: PIAZZA QUASIMODO, 2\n",
      "search_document: IDCliente: 13562, RagSoc: ORGANICA EXPERIENCE SRL, Categoria: AZIENDA, NominativoContatto: PATRICK ORIOT, Indirizzo: VIA PIETRO TAMBURINI,6, CAP: 20123, Comune: MILANO, Prov: MI, Paese: Italia, Zona: MI-EST, PIVA: 12464100960, Cellulare1: 348 6545311, Persona1: PATRICK ORIOT\n",
      "\n",
      "  **IMPORTANTE: FINE ELENCO DATI ESTRATTI TRAMITE RAG**\n",
      "\n",
      "\"\n",
      "Restituiscimi soltanto l'IDCliente, la RagSoc e l'Indirizzo Dest in formato JSON, non voglio alcun tipo di dettaglio aggiuntivo\"\" \n",
      "\n"
     ]
    }
   ],
   "source": [
    "print(prompt_rag)"
   ]
  },
  {
   "cell_type": "code",
   "execution_count": 39,
   "metadata": {},
   "outputs": [
    {
     "name": "stdout",
     "output_type": "stream",
     "text": [
      "901\n"
     ]
    }
   ],
   "source": [
    "def count_tokens_simple(text):\n",
    "    return len(text.split())\n",
    "\n",
    "print(count_tokens_simple(prompt_rag))\n"
   ]
  },
  {
   "cell_type": "code",
   "execution_count": 40,
   "metadata": {},
   "outputs": [
    {
     "name": "stdout",
     "output_type": "stream",
     "text": [
      "[\n",
      "  {\n",
      "    \"IDCliente\": \"11128\",\n",
      "    \"RagSoc\": \"DRINKME SRL\",\n",
      "    \"Indirizzo_Dest\": \"VIA CASSINA SAVINA, 47\"\n",
      "  }\n",
      "]\n"
     ]
    }
   ],
   "source": [
    "generation_config = {\n",
    "  \"temperature\": 0.1,\n",
    "  \"top_p\": 0.95,\n",
    "  \"top_k\": 40,\n",
    "  \"max_output_tokens\": 8192,\n",
    "  \"response_mime_type\": \"application/json\", # posso richiedere esplicitamente il formato strutturato della risposta\n",
    "}\n",
    "\n",
    "model = genai.GenerativeModel(\n",
    "    model_name=\"gemini-2.0-flash-exp\",\n",
    "    generation_config=generation_config,\n",
    "    #system_instruction=\"Sei un venditore, quindi i campi vuoti non li sostituisci con Null ma con valori inventati!\" # solo come esperimento..\n",
    ")\n",
    "\n",
    "output_rag = model.generate_content(prompt_rag)\n",
    "print(output_rag.text)"
   ]
  }
 ],
 "metadata": {
  "kernelspec": {
   "display_name": "zoppis",
   "language": "python",
   "name": "python3"
  },
  "language_info": {
   "codemirror_mode": {
    "name": "ipython",
    "version": 3
   },
   "file_extension": ".py",
   "mimetype": "text/x-python",
   "name": "python",
   "nbconvert_exporter": "python",
   "pygments_lexer": "ipython3",
   "version": "3.11.11"
  }
 },
 "nbformat": 4,
 "nbformat_minor": 2
}
