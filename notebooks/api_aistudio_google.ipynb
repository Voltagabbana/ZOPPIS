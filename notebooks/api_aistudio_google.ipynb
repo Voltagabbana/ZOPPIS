{
 "cells": [
  {
   "cell_type": "markdown",
   "metadata": {},
   "source": [
    "api_key --> VEDI .env # https://aistudio.google.com/apikey"
   ]
  },
  {
   "cell_type": "markdown",
   "metadata": {},
   "source": [
    "## Documentazione aistudio.google"
   ]
  },
  {
   "cell_type": "markdown",
   "metadata": {},
   "source": [
    "#### https://ai.google.dev/gemini-api/docs/quickstart?hl=it&lang=python (generale)"
   ]
  },
  {
   "cell_type": "code",
   "execution_count": 3,
   "metadata": {},
   "outputs": [],
   "source": [
    "#!pip install -q -U google-generativeai"
   ]
  },
  {
   "cell_type": "code",
   "execution_count": 1,
   "metadata": {},
   "outputs": [],
   "source": [
    "import google.generativeai as genai\n",
    "import os\n",
    "from dotenv import load_dotenv\n",
    "load_dotenv()\n",
    "\n",
    "API_KEY = os.environ.get(\"GOOGLE_API_KEY\")\n",
    "\n",
    "genai.configure(api_key=API_KEY)\n",
    "model = genai.GenerativeModel(\"gemini-1.5-flash\")\n",
    "#response = model.generate_content(\"Explain how AI works\")\n",
    "#print(response.text)"
   ]
  },
  {
   "cell_type": "markdown",
   "metadata": {},
   "source": [
    "#### https://ai.google.dev/gemini-api/docs/text-generation?hl=it&lang=python (generazione di testo)"
   ]
  },
  {
   "cell_type": "code",
   "execution_count": 2,
   "metadata": {},
   "outputs": [],
   "source": [
    "model = genai.GenerativeModel(\"gemini-1.5-flash\")\n",
    "#response = model.generate_content(\"Write a story about a magic backpack.\")\n",
    "#print(response.text)"
   ]
  },
  {
   "cell_type": "code",
   "execution_count": 3,
   "metadata": {},
   "outputs": [],
   "source": [
    "#!pip install pillow"
   ]
  },
  {
   "cell_type": "code",
   "execution_count": 6,
   "metadata": {},
   "outputs": [
    {
     "data": {
      "image/jpeg": "[encoded data removed]",
      "text/plain": [
       "<IPython.core.display.Image object>"
      ]
     },
     "metadata": {},
     "output_type": "display_data"
    }
   ],
   "source": [
    "import google.generativeai as genai\n",
    "import os\n",
    "from PIL import Image\n",
    "from IPython.display import display, Image as IPImage # Per visualizzare l'immagine nel notebook\n",
    "\n",
    "# Inserisci il percorso globale all'immagine JPEG\n",
    "image_path = R\"C:\\Users\\enduser\\Desktop\\PythonPostLaurea\\ZOPPIS\\ZOPPIS\\data\\organo copy.jpg\" \n",
    "\n",
    "# Visualizza l'immagine nel notebook\n",
    "try:\n",
    "    display(IPImage(filename=image_path))\n",
    "except Exception as e:\n",
    "    print(f\"Errore durante la visualizzazione dell'immagine: {e}\")\n"
   ]
  },
  {
   "cell_type": "markdown",
   "metadata": {},
   "source": [
    "### Google colab esempio"
   ]
  },
  {
   "cell_type": "code",
   "execution_count": 7,
   "metadata": {},
   "outputs": [],
   "source": [
    "from IPython.display import Markdown"
   ]
  },
  {
   "cell_type": "code",
   "execution_count": 11,
   "metadata": {},
   "outputs": [
    {
     "data": {
      "text/plain": [
       "WindowsPath('C:/Users/enduser/Desktop/PythonPostLaurea/zoppis/organo.jpg')"
      ]
     },
     "execution_count": 11,
     "metadata": {},
     "output_type": "execute_result"
    }
   ],
   "source": [
    "image_path"
   ]
  },
  {
   "cell_type": "code",
   "execution_count": null,
   "metadata": {},
   "outputs": [
    {
     "data": {
      "text/markdown": [
       ">This image showcases the magnificent pipe organ within a church or cathedral. The organ's facade is a stunning display of ornate woodwork and gleaming metal pipes of varying sizes, arranged symmetrically around a central cluster.  The pipes are a prominent feature, their metallic surfaces catching the light.\n",
       "\n",
       "A large arched window with intricate tracery provides a backdrop to the organ, allowing natural light to illuminate the scene. The architectural details of the window complement the decorative elements of the organ case. The overall composition emphasizes the grandeur and artistry of the instrument within its sacred setting.\n"
      ],
      "text/plain": [
       "<IPython.core.display.Markdown object>"
      ]
     },
     "execution_count": 12,
     "metadata": {},
     "output_type": "execute_result"
    }
   ],
   "source": [
    "import base64\n",
    "import httpx\n",
    "import pathlib\n",
    "\n",
    "# Percorso dell'immagine locale\n",
    "image_path = R\"C:\\Users\\enduser\\Desktop\\PythonPostLaurea\\ZOPPIS\\ZOPPIS\\data\\organo copy.jpg\" \n",
    "image_path = pathlib.Path(image_path)\n",
    "\n",
    "# Apri l'immagine\n",
    "with open(image_path, \"rb\") as img_file:\n",
    "    img_data = img_file.read()\n",
    "\n",
    "# Codifica l'immagine in base64\n",
    "img_base64 = base64.b64encode(img_data).decode(\"utf-8\")\n",
    "\n",
    "# Choose a Gemini model\n",
    "model = genai.GenerativeModel(model_name=\"gemini-1.5-pro\")\n",
    "\n",
    "# Create a prompt\n",
    "prompt = \"Caption this image.\"\n",
    "response = model.generate_content(\n",
    "    [\n",
    "        {\n",
    "            \"mime_type\": \"image/jpeg\",\n",
    "            \"data\": img_base64,\n",
    "        },\n",
    "        prompt,\n",
    "    ]\n",
    ")\n",
    "\n",
    "Markdown(response.text)"
   ]
  },
  {
   "cell_type": "markdown",
   "metadata": {},
   "source": [
    "ANDATO!!!"
   ]
  },
  {
   "cell_type": "code",
   "execution_count": 36,
   "metadata": {},
   "outputs": [
    {
     "data": {
      "text/markdown": [
       ">Ecco le informazioni più importanti dall'immagine, parsate in italiano:\n",
       "\n",
       "* **Nuovo ordine online** effettuato il 13/12/2024 alle 14:20:38.\n",
       "* **Numero d'ordine:** 2024_12_13#1421081*1428 (o 2001005703). Sembra ci siano due identificativi d'ordine.\n",
       "* **Cliente:** SUNFLOWER SRL, VIA BORGO VICO 39, 22100 COMO (CO), Italia.\n",
       "* **Contatto:** GIUSEPPE, Tel. 3936886595, Cell. 3936886595.\n",
       "* **Pagamento:** Contrassegno.\n",
       "* **Consegna:** Normale, con richiesta specifica di consegna per Martedì 17/12 insieme al resto dell'ordine.\n",
       "* **Prodotti ordinati:**\n",
       "    * 1 bottiglia di GIN KI NO BI KYOTO DRY GIN (0,70l) al prezzo di 40,95€.\n",
       "* **Totale ordine (IVA inclusa):** 49,95€.  Sembra esserci una discrepanza tra il prezzo del singolo prodotto e il totale ordine. Potrebbero esserci costi di spedizione non dettagliati.\n",
       "* **Stato dell'ordine:** Da preparare.\n",
       "\n",
       "\n",
       "Da notare la presenza di alcuni caratteri speciali \"§\" che potrebbero indicare un problema di codifica del testo. Inoltre, l'ID ordine doppio e la discrepanza di prezzo meritano attenzione per verificare la correttezza dei dati.\n"
      ],
      "text/plain": [
       "<IPython.core.display.Markdown object>"
      ]
     },
     "execution_count": 36,
     "metadata": {},
     "output_type": "execute_result"
    }
   ],
   "source": [
    "import base64\n",
    "import pathlib\n",
    "\n",
    "# Percorso dell'immagine locale\n",
    "image_path = pathlib.Path(r\"C:\\Users\\enduser\\Desktop\\PythonPostLaurea\\zoppis\\template_ordini_mail.png\")\n",
    "\n",
    "# Apri l'immagine\n",
    "with open(image_path, \"rb\") as img_file:\n",
    "    img_data = img_file.read()\n",
    "\n",
    "# Codifica l'immagine in base64\n",
    "img_base64 = base64.b64encode(img_data).decode(\"utf-8\")\n",
    "\n",
    "# Choose a Gemini model\n",
    "model = genai.GenerativeModel(model_name=\"gemini-1.5-pro\")\n",
    "\n",
    "# Create a prompt\n",
    "prompt = \"Fammi il parsing in italiano delle informazioni più importanti di questa immagine\"\n",
    "response = model.generate_content(\n",
    "    [\n",
    "        {\n",
    "            \"mime_type\": \"image/png\",\n",
    "            \"data\": img_base64,\n",
    "        },\n",
    "        prompt,\n",
    "    ]\n",
    ")\n",
    "\n",
    "Markdown(\">\" + response.text)"
   ]
  },
  {
   "cell_type": "markdown",
   "metadata": {},
   "source": [
    "#### Documenti (pdf) https://ai.google.dev/gemini-api/docs/document-processing?hl=it&lang=python"
   ]
  },
  {
   "cell_type": "code",
   "execution_count": 17,
   "metadata": {},
   "outputs": [
    {
     "data": {
      "text/markdown": [
       "Certo, ecco una descrizione pagina per pagina del PDF, con un breve riepilogo a punti elenco per ogni pagina:\n",
       "\n",
       "**Pagina 1:** Questa pagina mostra una conferma d'ordine da Zoppis.com.  I punti chiave sono:\n",
       "\n",
       "* **Dettagli dell'ordine:** Numero d'ordine, data, dettagli del cliente (SUNFLOWER SRL), indirizzo di consegna, informazioni di contatto, metodo di pagamento (contrassegno), note speciali (consegna entro il 17/12).\n",
       "* **Prodotti ordinati:**  La pagina elenca un singolo articolo (GIN KI NO BI KYOTO DRY GIN), ma il dettaglio dei prodotti ordinati è troncato.\n",
       "\n",
       "**Pagina 2:** Questa pagina è un'email da Erik Calati a Zoppis con un ordine aggiuntivo.\n",
       "\n",
       "* **Ordine aggiuntivo:** Elenca diversi tipi di bevande (birra, bibite, alcolici) e le relative quantità.\n",
       "* **Dettagli mittente:** Include il nome del mittente (Erik Calati) e i suoi contatti.\n",
       "* **Destinatario:** Zoppis Srl.\n",
       "\n",
       "**Pagina 3:** Questa pagina è una fattura da Bomaki per Zoppis.\n",
       "\n",
       "* **Fattura:**  Mostra una fattura per diverse tipologie di bevande alcoliche (Gin, Vodka, Tequila, ecc.) destinate a Zoppis.\n",
       "* **Dettagli fattura:** Include numero d'ordine, data, quantità, prezzi unitari e totali.\n",
       "\n",
       "**Pagina 4:**  Questa pagina mostra un'email da Otto a Zoppis contenente un nuovo ordine.\n",
       "\n",
       "* **Ordine da Otto:**  Il messaggio conferma un nuovo ordine emesso da Otto per Zoppis.\n",
       "* **Dettagli ordine:** Elenco degli articoli ordinati (aperitivo, birra, vodka) con quantità e prezzi.\n",
       "\n",
       "**Pagina 5:**  Questa pagina contiene una lista manoscritta di prodotti.\n",
       "\n",
       "* **Lista prodotti:** È una lista scritta a mano con il nome di alcuni prodotti (vini) e le relative quantità.  La grafia è poco leggibile.\n",
       "\n",
       "**Pagina 6:** Questa pagina è uno screenshot di una chat WhatsApp.\n",
       "\n",
       "* **Chat WhatsApp:** Mostra frammenti di conversazioni relative ad ordini, consegne e gestione di prodotti. I nomi menzionati suggeriscono che si tratta di comunicazioni interne tra collaboratori o fornitori.  I dettagli specifici sono parzialmente leggibili.\n",
       "\n",
       "\n",
       "In sintesi, il PDF raccoglie diverse informazioni relative a ordini, fatture e comunicazioni riguardanti Zoppis,  un'azienda che sembra operare nel settore delle bevande alcoliche. Le pagine mostrano diverse fasi della gestione degli ordini, dalle conferme online alle fatture e alle comunicazioni tra diversi attori (fornitori e clienti).\n"
      ],
      "text/plain": [
       "<IPython.core.display.Markdown object>"
      ]
     },
     "execution_count": 17,
     "metadata": {},
     "output_type": "execute_result"
    }
   ],
   "source": [
    "import base64\n",
    "\n",
    "model = genai.GenerativeModel(\"gemini-1.5-flash\")\n",
    "doc_path = r\"C:\\Users\\enduser\\Desktop\\PythonPostLaurea\\ZOPPIS\\ZOPPIS\\data\\A4M_15122024_006852 copy.pdf\" # Replace with the actual path to your local PDF\n",
    "\n",
    "# Read and encode the local file\n",
    "with open(doc_path, \"rb\") as doc_file:\n",
    "    doc_data = base64.standard_b64encode(doc_file.read()).decode(\"utf-8\")\n",
    "\n",
    "prompt = \"Spiegami pagina per pagina, in italiano, cosa contiene questo pdf con una spiegazione bullet point breve per ogni pagina\"\n",
    "\n",
    "response = model.generate_content([{'mime_type': 'application/pdf', 'data': doc_data}, prompt])\n",
    "\n",
    "Markdown(response.text)"
   ]
  },
  {
   "cell_type": "code",
   "execution_count": 19,
   "metadata": {},
   "outputs": [
    {
     "data": {
      "text/markdown": [
       "Ecco il JSON che rappresenta gli ordini contenuti nel PDF, suddivisi pagina per pagina, nel formato richiesto. Ho fatto del mio meglio per ricostruire le informazioni anche laddove la qualità dell'immagine era scarsa o il testo non perfettamente leggibile.  Nota che alcuni campi potrebbero essere incompleti o contenere approssimazioni a causa della qualità del PDF fornito.\n",
       "\n",
       "\n",
       "```json\n",
       "{\n",
       "  \"Pagine\": [\n",
       "    {\n",
       "      \"Pagina\": 1,\n",
       "      \"Ordini\": [\n",
       "        {\n",
       "          \"Valord\": \"#2024_12_13#1421081*14285\",\n",
       "          \"IDOrdine\": \"2001005703\",\n",
       "          \"CodUtente\": \"270002805\",\n",
       "          \"Data\": \"13/12/2024 14:20:38\",\n",
       "          \"Stato\": \"Da preparare\",\n",
       "          \"RagSoc_Dest\": \"SUNFLOWER SRL\",\n",
       "          \"Indirizzo_Dest\": \"VIA BORGO VICO 39\",\n",
       "          \"CAP_Dest\": \"22100\",\n",
       "          \"Comune_Dest\": \"COMO\",\n",
       "          \"Prov_Dest\": \"CO\",\n",
       "          \"Paese_Dest\": \"Italia\",\n",
       "          \"NumTel_Dest\": \"39368865955\",\n",
       "          \"NumCellulare_Dest\": \"39368865955\",\n",
       "          \"Persona_Dest\": \"GIUSEPPE\",\n",
       "          \"NumFax_Dest\": null,\n",
       "          \"Pagamento\": \"Contrassegno\",\n",
       "          \"TipoConsegna\": \"Normale\",\n",
       "          \"Note\": \"DA CONSEGNARE MARTEDI' 17/12 CON IL RESTO DELL'ORDINE CHE VI MANDERANNO !!! GRAZIE MILLE\",\n",
       "          \"TipoOrdine\": \"Normale\",\n",
       "          \"Messaggio\": null,\n",
       "          \"Docum\": \"1\",\n",
       "          \"IDContatto\": \"2085\",\n",
       "          \"Inviato\": \"Vero\",\n",
       "          \"TotOrdinelvalncl\": \"49,95\",\n",
       "          \"TotPesoLordo\": \"1,52\",\n",
       "          \"SpeseTrasportolvaEscl\": \"0\",\n",
       "          \"SpeselmballaggiolvaEscl\": \"0\",\n",
       "          \"SpeseAssicurazionelvaEscl\": \"0\",\n",
       "          \"SpeseConsRapidalvaEscl\": \"0\",\n",
       "          \"RigheOrdine\": [\n",
       "            {\n",
       "              \"IDProdotto\": \"18361\",\n",
       "              \"NomeProdottoCompleto\": \"GIN KI NO BI KYOTO DRY GIN\",\n",
       "              \"Quantita\": \"1\",\n",
       "              \"LivSconto\": \"0\",\n",
       "              \"Prezzo\": \"40,95\",\n",
       "              \"Offerta\": \"Falso\"\n",
       "            }\n",
       "          ]\n",
       "        }\n",
       "      ]\n",
       "    },\n",
       "    {\n",
       "      \"Pagina\": 2,\n",
       "      \"Ordini\": [\n",
       "        {\n",
       "          \"Mittente\": \"Erik Calati <erikcalati@gmail.com>\",\n",
       "          \"Destinatario\": \"Zoppis Srl-ordini <ordini@zoppis.com>\",\n",
       "          \"Cc\": \"<flavio.allaria@gmail.com>\",\n",
       "          \"Data\": \"2024-12-13 18:14\",\n",
       "          \"Articoli\": [\n",
       "            \"2 box asahi 330 ml\",\n",
       "            \"3 box nastro azzurro 330 ml\",\n",
       "            \"3 box Thomas Henry pompelmo rosa\",\n",
       "            \"1 box coca cola 200 ml\",\n",
       "            \"1 box coca cola 0 200 ml\",\n",
       "            \"1 box Espolon Blanco\",\n",
       "            \"1 box Campari\",\n",
       "            \"2 bt Maraschino\",\n",
       "            \"1 Punt e mes\",\n",
       "            \"1 Ketel One Vodka\",\n",
       "            \"1 box achillea arancia 200 ml\",\n",
       "            \"1 box achillea pera 200 ml\"\n",
       "          ]\n",
       "        }\n",
       "      ]\n",
       "    },\n",
       "    {\n",
       "      \"Pagina\": 3,\n",
       "      \"Ordini\": [\n",
       "        {\n",
       "          \"OrdineDiAcquisto\": \"F100143\",\n",
       "          \"Numero\": \"230032104\",\n",
       "          \"Data\": \"13/12/2024\",\n",
       "          \"Spettle\": \"ZOPPIS SRL\",\n",
       "          \"IndirizzoSpedizione\": \"Via Bernardino Corio 8\\n20135 MILANO\\nITALY\",\n",
       "          \"DettagliOrdine\": [\n",
       "            // Aggiungi qui i dettagli dell'ordine dalla fattura di Bomaki, come nell'esempio della pagina 1\n",
       "          ]\n",
       "        }\n",
       "      ]\n",
       "    },\n",
       "    {\n",
       "      \"Pagina\": 4,\n",
       "      \"Ordini\": [\n",
       "        {\n",
       "          \"Fornitore\": \"Zoppis\",\n",
       "          \"DataOrdine\": \"11/12/2024\",\n",
       "          \"RigheOrdine\": [\n",
       "            {\n",
       "              \"Nome\": \"APERITIVO Litro SELECT\",\n",
       "              \"Quantita\": \"1\",\n",
       "              \"Prezzo\": \"9.99\",\n",
       "              \"Totale\": \"9.99\",\n",
       "              \"Formato\": null\n",
       "            },\n",
       "            {\n",
       "              \"Nome\": \"BIRROTTO fusto\",\n",
       "              \"Quantita\": \"1\",\n",
       "              \"Prezzo\": \"69.95\",\n",
       "              \"Totale\": \"69.95\",\n",
       "              \"Formato\": null\n",
       "            },\n",
       "            {\n",
       "              \"Nome\": \"vodka (taniche da 6)\",\n",
       "              \"Quantita\": \"1\",\n",
       "              \"Prezzo\": \"8.66\",\n",
       "              \"Totale\": \"8.66\",\n",
       "              \"Formato\": null\n",
       "            }\n",
       "          ]\n",
       "        }\n",
       "      ]\n",
       "    },\n",
       "    {\n",
       "      \"Pagina\": 5,\n",
       "      \"Ordini\": [\n",
       "        {\n",
       "          \"Note\": \"Ordini Zoppis:\\nGATUNARA TRAVAGL 35lt\\nFALANGHINA Russe 3bt\\nFRAPPATO IRMANA 3bt\\nBARBARESCO Dessan 3bt\"\n",
       "        }\n",
       "      ]\n",
       "    },\n",
       "    {\n",
       "      \"Pagina\": 6,\n",
       "      \"Ordini\": [\n",
       "        //Questa pagina contiene una chat WhatsApp, non un ordine strutturato come richiesto.\n",
       "        //Non è possibile estrarre informazioni in formato JSON in questo caso.\n",
       "      ]\n",
       "    }\n",
       "  ]\n",
       "}\n",
       "```\n",
       "\n",
       "Ricorda che questo JSON è una rappresentazione approssimativa dei dati a causa della qualità del PDF di input.  Per un'estrazione più precisa, si raccomanda l'utilizzo di strumenti di estrazione dati più sofisticati.\n"
      ],
      "text/plain": [
       "<IPython.core.display.Markdown object>"
      ]
     },
     "execution_count": 19,
     "metadata": {},
     "output_type": "execute_result"
    }
   ],
   "source": [
    "import base64\n",
    "\n",
    "model = genai.GenerativeModel(\"gemini-1.5-flash\")\n",
    "doc_path = r\"C:\\Users\\enduser\\Desktop\\PythonPostLaurea\\ZOPPIS\\ZOPPIS\\data\\A4M_15122024_006852 copy.pdf\" # Replace with the actual path to your local PDF\n",
    "\n",
    "# Read and encode the local file\n",
    "with open(doc_path, \"rb\") as doc_file:\n",
    "    doc_data = base64.standard_b64encode(doc_file.read()).decode(\"utf-8\")\n",
    "\n",
    "prompt = \"\"\"Fammi un JSON pagina per pagina con gli ordini contenuti nel pdf, in Italiano,\n",
    "         la struttura del json deve essere identica a quella della prima pagina del pdf dove ci sono gli ordini relativi a zoppis.com in formato JSON.\n",
    "         Quando un campo non ti è chiaro, la grafia poco leggibile, o mancano queste informazioni, scrivi comunque il campo, seguito da N.A.\"\"\"\n",
    "\n",
    "response = model.generate_content([{'mime_type': 'application/pdf', 'data': doc_data}, prompt])\n",
    "\n",
    "Markdown(response.text)"
   ]
  },
  {
   "cell_type": "code",
   "execution_count": 15,
   "metadata": {},
   "outputs": [
    {
     "ename": "InvalidArgument",
     "evalue": "400 Provided image is not valid.",
     "output_type": "error",
     "traceback": [
      "\u001b[1;31m---------------------------------------------------------------------------\u001b[0m",
      "\u001b[1;31mInvalidArgument\u001b[0m                           Traceback (most recent call last)",
      "Cell \u001b[1;32mIn[15], line 15\u001b[0m\n\u001b[0;32m     13\u001b[0m \u001b[38;5;66;03m# Create a prompt\u001b[39;00m\n\u001b[0;32m     14\u001b[0m prompt \u001b[38;5;241m=\u001b[39m \u001b[38;5;124m\"\u001b[39m\u001b[38;5;124mFammi il parsing in italiano delle informazioni più importanti di questa immagine\u001b[39m\u001b[38;5;124m\"\u001b[39m\n\u001b[1;32m---> 15\u001b[0m response \u001b[38;5;241m=\u001b[39m \u001b[43mmodel\u001b[49m\u001b[38;5;241;43m.\u001b[39;49m\u001b[43mgenerate_content\u001b[49m\u001b[43m(\u001b[49m\n\u001b[0;32m     16\u001b[0m \u001b[43m    \u001b[49m\u001b[43m[\u001b[49m\n\u001b[0;32m     17\u001b[0m \u001b[43m        \u001b[49m\u001b[43m{\u001b[49m\n\u001b[0;32m     18\u001b[0m \u001b[43m            \u001b[49m\u001b[38;5;124;43m\"\u001b[39;49m\u001b[38;5;124;43mmime_type\u001b[39;49m\u001b[38;5;124;43m\"\u001b[39;49m\u001b[43m:\u001b[49m\u001b[43m \u001b[49m\u001b[38;5;124;43m\"\u001b[39;49m\u001b[38;5;124;43mimage/png\u001b[39;49m\u001b[38;5;124;43m\"\u001b[39;49m\u001b[43m,\u001b[49m\n\u001b[0;32m     19\u001b[0m \u001b[43m            \u001b[49m\u001b[38;5;124;43m\"\u001b[39;49m\u001b[38;5;124;43mdata\u001b[39;49m\u001b[38;5;124;43m\"\u001b[39;49m\u001b[43m:\u001b[49m\u001b[43m \u001b[49m\u001b[43mimg_base64\u001b[49m\u001b[43m,\u001b[49m\n\u001b[0;32m     20\u001b[0m \u001b[43m        \u001b[49m\u001b[43m}\u001b[49m\u001b[43m,\u001b[49m\n\u001b[0;32m     21\u001b[0m \u001b[43m        \u001b[49m\u001b[43mprompt\u001b[49m\u001b[43m,\u001b[49m\n\u001b[0;32m     22\u001b[0m \u001b[43m    \u001b[49m\u001b[43m]\u001b[49m\n\u001b[0;32m     23\u001b[0m \u001b[43m)\u001b[49m\n\u001b[0;32m     25\u001b[0m Markdown(\u001b[38;5;124m\"\u001b[39m\u001b[38;5;124m>\u001b[39m\u001b[38;5;124m\"\u001b[39m \u001b[38;5;241m+\u001b[39m response\u001b[38;5;241m.\u001b[39mtext)\n",
      "File \u001b[1;32mc:\\Users\\enduser\\miniconda3\\envs\\zoppis\\Lib\\site-packages\\google\\generativeai\\generative_models.py:331\u001b[0m, in \u001b[0;36mGenerativeModel.generate_content\u001b[1;34m(self, contents, generation_config, safety_settings, stream, tools, tool_config, request_options)\u001b[0m\n\u001b[0;32m    329\u001b[0m         \u001b[38;5;28;01mreturn\u001b[39;00m generation_types\u001b[38;5;241m.\u001b[39mGenerateContentResponse\u001b[38;5;241m.\u001b[39mfrom_iterator(iterator)\n\u001b[0;32m    330\u001b[0m     \u001b[38;5;28;01melse\u001b[39;00m:\n\u001b[1;32m--> 331\u001b[0m         response \u001b[38;5;241m=\u001b[39m \u001b[38;5;28;43mself\u001b[39;49m\u001b[38;5;241;43m.\u001b[39;49m\u001b[43m_client\u001b[49m\u001b[38;5;241;43m.\u001b[39;49m\u001b[43mgenerate_content\u001b[49m\u001b[43m(\u001b[49m\n\u001b[0;32m    332\u001b[0m \u001b[43m            \u001b[49m\u001b[43mrequest\u001b[49m\u001b[43m,\u001b[49m\n\u001b[0;32m    333\u001b[0m \u001b[43m            \u001b[49m\u001b[38;5;241;43m*\u001b[39;49m\u001b[38;5;241;43m*\u001b[39;49m\u001b[43mrequest_options\u001b[49m\u001b[43m,\u001b[49m\n\u001b[0;32m    334\u001b[0m \u001b[43m        \u001b[49m\u001b[43m)\u001b[49m\n\u001b[0;32m    335\u001b[0m         \u001b[38;5;28;01mreturn\u001b[39;00m generation_types\u001b[38;5;241m.\u001b[39mGenerateContentResponse\u001b[38;5;241m.\u001b[39mfrom_response(response)\n\u001b[0;32m    336\u001b[0m \u001b[38;5;28;01mexcept\u001b[39;00m google\u001b[38;5;241m.\u001b[39mapi_core\u001b[38;5;241m.\u001b[39mexceptions\u001b[38;5;241m.\u001b[39mInvalidArgument \u001b[38;5;28;01mas\u001b[39;00m e:\n",
      "File \u001b[1;32mc:\\Users\\enduser\\miniconda3\\envs\\zoppis\\Lib\\site-packages\\google\\ai\\generativelanguage_v1beta\\services\\generative_service\\client.py:830\u001b[0m, in \u001b[0;36mGenerativeServiceClient.generate_content\u001b[1;34m(self, request, model, contents, retry, timeout, metadata)\u001b[0m\n\u001b[0;32m    827\u001b[0m \u001b[38;5;28mself\u001b[39m\u001b[38;5;241m.\u001b[39m_validate_universe_domain()\n\u001b[0;32m    829\u001b[0m \u001b[38;5;66;03m# Send the request.\u001b[39;00m\n\u001b[1;32m--> 830\u001b[0m response \u001b[38;5;241m=\u001b[39m \u001b[43mrpc\u001b[49m\u001b[43m(\u001b[49m\n\u001b[0;32m    831\u001b[0m \u001b[43m    \u001b[49m\u001b[43mrequest\u001b[49m\u001b[43m,\u001b[49m\n\u001b[0;32m    832\u001b[0m \u001b[43m    \u001b[49m\u001b[43mretry\u001b[49m\u001b[38;5;241;43m=\u001b[39;49m\u001b[43mretry\u001b[49m\u001b[43m,\u001b[49m\n\u001b[0;32m    833\u001b[0m \u001b[43m    \u001b[49m\u001b[43mtimeout\u001b[49m\u001b[38;5;241;43m=\u001b[39;49m\u001b[43mtimeout\u001b[49m\u001b[43m,\u001b[49m\n\u001b[0;32m    834\u001b[0m \u001b[43m    \u001b[49m\u001b[43mmetadata\u001b[49m\u001b[38;5;241;43m=\u001b[39;49m\u001b[43mmetadata\u001b[49m\u001b[43m,\u001b[49m\n\u001b[0;32m    835\u001b[0m \u001b[43m\u001b[49m\u001b[43m)\u001b[49m\n\u001b[0;32m    837\u001b[0m \u001b[38;5;66;03m# Done; return the response.\u001b[39;00m\n\u001b[0;32m    838\u001b[0m \u001b[38;5;28;01mreturn\u001b[39;00m response\n",
      "File \u001b[1;32mc:\\Users\\enduser\\miniconda3\\envs\\zoppis\\Lib\\site-packages\\google\\api_core\\gapic_v1\\method.py:131\u001b[0m, in \u001b[0;36m_GapicCallable.__call__\u001b[1;34m(self, timeout, retry, compression, *args, **kwargs)\u001b[0m\n\u001b[0;32m    128\u001b[0m \u001b[38;5;28;01mif\u001b[39;00m \u001b[38;5;28mself\u001b[39m\u001b[38;5;241m.\u001b[39m_compression \u001b[38;5;129;01mis\u001b[39;00m \u001b[38;5;129;01mnot\u001b[39;00m \u001b[38;5;28;01mNone\u001b[39;00m:\n\u001b[0;32m    129\u001b[0m     kwargs[\u001b[38;5;124m\"\u001b[39m\u001b[38;5;124mcompression\u001b[39m\u001b[38;5;124m\"\u001b[39m] \u001b[38;5;241m=\u001b[39m compression\n\u001b[1;32m--> 131\u001b[0m \u001b[38;5;28;01mreturn\u001b[39;00m \u001b[43mwrapped_func\u001b[49m\u001b[43m(\u001b[49m\u001b[38;5;241;43m*\u001b[39;49m\u001b[43margs\u001b[49m\u001b[43m,\u001b[49m\u001b[43m \u001b[49m\u001b[38;5;241;43m*\u001b[39;49m\u001b[38;5;241;43m*\u001b[39;49m\u001b[43mkwargs\u001b[49m\u001b[43m)\u001b[49m\n",
      "File \u001b[1;32mc:\\Users\\enduser\\miniconda3\\envs\\zoppis\\Lib\\site-packages\\google\\api_core\\retry\\retry_unary.py:293\u001b[0m, in \u001b[0;36mRetry.__call__.<locals>.retry_wrapped_func\u001b[1;34m(*args, **kwargs)\u001b[0m\n\u001b[0;32m    289\u001b[0m target \u001b[38;5;241m=\u001b[39m functools\u001b[38;5;241m.\u001b[39mpartial(func, \u001b[38;5;241m*\u001b[39margs, \u001b[38;5;241m*\u001b[39m\u001b[38;5;241m*\u001b[39mkwargs)\n\u001b[0;32m    290\u001b[0m sleep_generator \u001b[38;5;241m=\u001b[39m exponential_sleep_generator(\n\u001b[0;32m    291\u001b[0m     \u001b[38;5;28mself\u001b[39m\u001b[38;5;241m.\u001b[39m_initial, \u001b[38;5;28mself\u001b[39m\u001b[38;5;241m.\u001b[39m_maximum, multiplier\u001b[38;5;241m=\u001b[39m\u001b[38;5;28mself\u001b[39m\u001b[38;5;241m.\u001b[39m_multiplier\n\u001b[0;32m    292\u001b[0m )\n\u001b[1;32m--> 293\u001b[0m \u001b[38;5;28;01mreturn\u001b[39;00m \u001b[43mretry_target\u001b[49m\u001b[43m(\u001b[49m\n\u001b[0;32m    294\u001b[0m \u001b[43m    \u001b[49m\u001b[43mtarget\u001b[49m\u001b[43m,\u001b[49m\n\u001b[0;32m    295\u001b[0m \u001b[43m    \u001b[49m\u001b[38;5;28;43mself\u001b[39;49m\u001b[38;5;241;43m.\u001b[39;49m\u001b[43m_predicate\u001b[49m\u001b[43m,\u001b[49m\n\u001b[0;32m    296\u001b[0m \u001b[43m    \u001b[49m\u001b[43msleep_generator\u001b[49m\u001b[43m,\u001b[49m\n\u001b[0;32m    297\u001b[0m \u001b[43m    \u001b[49m\u001b[43mtimeout\u001b[49m\u001b[38;5;241;43m=\u001b[39;49m\u001b[38;5;28;43mself\u001b[39;49m\u001b[38;5;241;43m.\u001b[39;49m\u001b[43m_timeout\u001b[49m\u001b[43m,\u001b[49m\n\u001b[0;32m    298\u001b[0m \u001b[43m    \u001b[49m\u001b[43mon_error\u001b[49m\u001b[38;5;241;43m=\u001b[39;49m\u001b[43mon_error\u001b[49m\u001b[43m,\u001b[49m\n\u001b[0;32m    299\u001b[0m \u001b[43m\u001b[49m\u001b[43m)\u001b[49m\n",
      "File \u001b[1;32mc:\\Users\\enduser\\miniconda3\\envs\\zoppis\\Lib\\site-packages\\google\\api_core\\retry\\retry_unary.py:153\u001b[0m, in \u001b[0;36mretry_target\u001b[1;34m(target, predicate, sleep_generator, timeout, on_error, exception_factory, **kwargs)\u001b[0m\n\u001b[0;32m    149\u001b[0m \u001b[38;5;66;03m# pylint: disable=broad-except\u001b[39;00m\n\u001b[0;32m    150\u001b[0m \u001b[38;5;66;03m# This function explicitly must deal with broad exceptions.\u001b[39;00m\n\u001b[0;32m    151\u001b[0m \u001b[38;5;28;01mexcept\u001b[39;00m \u001b[38;5;167;01mException\u001b[39;00m \u001b[38;5;28;01mas\u001b[39;00m exc:\n\u001b[0;32m    152\u001b[0m     \u001b[38;5;66;03m# defer to shared logic for handling errors\u001b[39;00m\n\u001b[1;32m--> 153\u001b[0m     \u001b[43m_retry_error_helper\u001b[49m\u001b[43m(\u001b[49m\n\u001b[0;32m    154\u001b[0m \u001b[43m        \u001b[49m\u001b[43mexc\u001b[49m\u001b[43m,\u001b[49m\n\u001b[0;32m    155\u001b[0m \u001b[43m        \u001b[49m\u001b[43mdeadline\u001b[49m\u001b[43m,\u001b[49m\n\u001b[0;32m    156\u001b[0m \u001b[43m        \u001b[49m\u001b[43msleep\u001b[49m\u001b[43m,\u001b[49m\n\u001b[0;32m    157\u001b[0m \u001b[43m        \u001b[49m\u001b[43merror_list\u001b[49m\u001b[43m,\u001b[49m\n\u001b[0;32m    158\u001b[0m \u001b[43m        \u001b[49m\u001b[43mpredicate\u001b[49m\u001b[43m,\u001b[49m\n\u001b[0;32m    159\u001b[0m \u001b[43m        \u001b[49m\u001b[43mon_error\u001b[49m\u001b[43m,\u001b[49m\n\u001b[0;32m    160\u001b[0m \u001b[43m        \u001b[49m\u001b[43mexception_factory\u001b[49m\u001b[43m,\u001b[49m\n\u001b[0;32m    161\u001b[0m \u001b[43m        \u001b[49m\u001b[43mtimeout\u001b[49m\u001b[43m,\u001b[49m\n\u001b[0;32m    162\u001b[0m \u001b[43m    \u001b[49m\u001b[43m)\u001b[49m\n\u001b[0;32m    163\u001b[0m     \u001b[38;5;66;03m# if exception not raised, sleep before next attempt\u001b[39;00m\n\u001b[0;32m    164\u001b[0m     time\u001b[38;5;241m.\u001b[39msleep(sleep)\n",
      "File \u001b[1;32mc:\\Users\\enduser\\miniconda3\\envs\\zoppis\\Lib\\site-packages\\google\\api_core\\retry\\retry_base.py:212\u001b[0m, in \u001b[0;36m_retry_error_helper\u001b[1;34m(exc, deadline, next_sleep, error_list, predicate_fn, on_error_fn, exc_factory_fn, original_timeout)\u001b[0m\n\u001b[0;32m    206\u001b[0m \u001b[38;5;28;01mif\u001b[39;00m \u001b[38;5;129;01mnot\u001b[39;00m predicate_fn(exc):\n\u001b[0;32m    207\u001b[0m     final_exc, source_exc \u001b[38;5;241m=\u001b[39m exc_factory_fn(\n\u001b[0;32m    208\u001b[0m         error_list,\n\u001b[0;32m    209\u001b[0m         RetryFailureReason\u001b[38;5;241m.\u001b[39mNON_RETRYABLE_ERROR,\n\u001b[0;32m    210\u001b[0m         original_timeout,\n\u001b[0;32m    211\u001b[0m     )\n\u001b[1;32m--> 212\u001b[0m     \u001b[38;5;28;01mraise\u001b[39;00m final_exc \u001b[38;5;28;01mfrom\u001b[39;00m \u001b[38;5;21;01msource_exc\u001b[39;00m\n\u001b[0;32m    213\u001b[0m \u001b[38;5;28;01mif\u001b[39;00m on_error_fn \u001b[38;5;129;01mis\u001b[39;00m \u001b[38;5;129;01mnot\u001b[39;00m \u001b[38;5;28;01mNone\u001b[39;00m:\n\u001b[0;32m    214\u001b[0m     on_error_fn(exc)\n",
      "File \u001b[1;32mc:\\Users\\enduser\\miniconda3\\envs\\zoppis\\Lib\\site-packages\\google\\api_core\\retry\\retry_unary.py:144\u001b[0m, in \u001b[0;36mretry_target\u001b[1;34m(target, predicate, sleep_generator, timeout, on_error, exception_factory, **kwargs)\u001b[0m\n\u001b[0;32m    142\u001b[0m \u001b[38;5;28;01mfor\u001b[39;00m sleep \u001b[38;5;129;01min\u001b[39;00m sleep_generator:\n\u001b[0;32m    143\u001b[0m     \u001b[38;5;28;01mtry\u001b[39;00m:\n\u001b[1;32m--> 144\u001b[0m         result \u001b[38;5;241m=\u001b[39m \u001b[43mtarget\u001b[49m\u001b[43m(\u001b[49m\u001b[43m)\u001b[49m\n\u001b[0;32m    145\u001b[0m         \u001b[38;5;28;01mif\u001b[39;00m inspect\u001b[38;5;241m.\u001b[39misawaitable(result):\n\u001b[0;32m    146\u001b[0m             warnings\u001b[38;5;241m.\u001b[39mwarn(_ASYNC_RETRY_WARNING)\n",
      "File \u001b[1;32mc:\\Users\\enduser\\miniconda3\\envs\\zoppis\\Lib\\site-packages\\google\\api_core\\timeout.py:120\u001b[0m, in \u001b[0;36mTimeToDeadlineTimeout.__call__.<locals>.func_with_timeout\u001b[1;34m(*args, **kwargs)\u001b[0m\n\u001b[0;32m    117\u001b[0m     \u001b[38;5;66;03m# Avoid setting negative timeout\u001b[39;00m\n\u001b[0;32m    118\u001b[0m     kwargs[\u001b[38;5;124m\"\u001b[39m\u001b[38;5;124mtimeout\u001b[39m\u001b[38;5;124m\"\u001b[39m] \u001b[38;5;241m=\u001b[39m \u001b[38;5;28mmax\u001b[39m(\u001b[38;5;241m0\u001b[39m, \u001b[38;5;28mself\u001b[39m\u001b[38;5;241m.\u001b[39m_timeout \u001b[38;5;241m-\u001b[39m time_since_first_attempt)\n\u001b[1;32m--> 120\u001b[0m \u001b[38;5;28;01mreturn\u001b[39;00m \u001b[43mfunc\u001b[49m\u001b[43m(\u001b[49m\u001b[38;5;241;43m*\u001b[39;49m\u001b[43margs\u001b[49m\u001b[43m,\u001b[49m\u001b[43m \u001b[49m\u001b[38;5;241;43m*\u001b[39;49m\u001b[38;5;241;43m*\u001b[39;49m\u001b[43mkwargs\u001b[49m\u001b[43m)\u001b[49m\n",
      "File \u001b[1;32mc:\\Users\\enduser\\miniconda3\\envs\\zoppis\\Lib\\site-packages\\google\\api_core\\grpc_helpers.py:78\u001b[0m, in \u001b[0;36m_wrap_unary_errors.<locals>.error_remapped_callable\u001b[1;34m(*args, **kwargs)\u001b[0m\n\u001b[0;32m     76\u001b[0m     \u001b[38;5;28;01mreturn\u001b[39;00m callable_(\u001b[38;5;241m*\u001b[39margs, \u001b[38;5;241m*\u001b[39m\u001b[38;5;241m*\u001b[39mkwargs)\n\u001b[0;32m     77\u001b[0m \u001b[38;5;28;01mexcept\u001b[39;00m grpc\u001b[38;5;241m.\u001b[39mRpcError \u001b[38;5;28;01mas\u001b[39;00m exc:\n\u001b[1;32m---> 78\u001b[0m     \u001b[38;5;28;01mraise\u001b[39;00m exceptions\u001b[38;5;241m.\u001b[39mfrom_grpc_error(exc) \u001b[38;5;28;01mfrom\u001b[39;00m \u001b[38;5;21;01mexc\u001b[39;00m\n",
      "\u001b[1;31mInvalidArgument\u001b[0m: 400 Provided image is not valid."
     ]
    }
   ],
   "source": [
    "image_path = pathlib.Path(r\"C:\\Users\\enduser\\Desktop\\PythonPostLaurea\\ZOPPIS\\ZOPPIS\\data\\A4M_15122024_006852 copy.pdf\")\n",
    "\n",
    "# Apri l'immagine\n",
    "with open(image_path, \"rb\") as img_file:\n",
    "    img_data = img_file.read()\n",
    "\n",
    "# Codifica l'immagine in base64\n",
    "img_base64 = base64.b64encode(img_data).decode(\"utf-8\")\n",
    "\n",
    "# Choose a Gemini model\n",
    "model = genai.GenerativeModel(model_name=\"gemini-1.5-pro\")\n",
    "\n",
    "# Create a prompt\n",
    "prompt = \"Fammi il parsing in italiano delle informazioni più importanti di questa immagine\"\n",
    "response = model.generate_content(\n",
    "    [\n",
    "        {\n",
    "            \"mime_type\": \"image/png\",\n",
    "            \"data\": img_base64,\n",
    "        },\n",
    "        prompt,\n",
    "    ]\n",
    ")\n",
    "\n",
    "Markdown(response.text)"
   ]
  }
 ],
 "metadata": {
  "kernelspec": {
   "display_name": "zoppis",
   "language": "python",
   "name": "python3"
  },
  "language_info": {
   "codemirror_mode": {
    "name": "ipython",
    "version": 3
   },
   "file_extension": ".py",
   "mimetype": "text/x-python",
   "name": "python",
   "nbconvert_exporter": "python",
   "pygments_lexer": "ipython3",
   "version": "3.11.11"
  }
 },
 "nbformat": 4,
 "nbformat_minor": 2
}
