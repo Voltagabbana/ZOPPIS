{
 "cells": [
  {
   "cell_type": "markdown",
   "metadata": {},
   "source": [
    "15/03/2025"
   ]
  },
  {
   "cell_type": "code",
   "execution_count": 2,
   "metadata": {},
   "outputs": [],
   "source": [
    "import pandas as pd"
   ]
  },
  {
   "cell_type": "code",
   "execution_count": 3,
   "metadata": {},
   "outputs": [],
   "source": [
    "df_clienti = pd.read_csv(r\"C:\\Users\\enduser\\Desktop\\PythonPostLaurea\\ZOPPIS\\ZOPPIS\\data\\clienti.csv\",sep = \";\")\n"
   ]
  },
  {
   "cell_type": "markdown",
   "metadata": {},
   "source": [
    "### Full text creation"
   ]
  },
  {
   "cell_type": "code",
   "execution_count": 18,
   "metadata": {},
   "outputs": [],
   "source": [
    "import ollama\n",
    "import json\n",
    "import os"
   ]
  },
  {
   "cell_type": "code",
   "execution_count": null,
   "metadata": {},
   "outputs": [],
   "source": [
    "def create_full_text(row, prefix=\"search_document\"):\n",
    "    return f\"{prefix}: \" + \", \".join(\n",
    "        f\"{col}: {val}\"\n",
    "        for col, val in row.items() \n",
    "        if pd.notna(val)\n",
    "    )\n",
    "\n",
    "df_clienti[\"full_text\"] = df_clienti.apply(create_full_text, axis=1)"
   ]
  },
  {
   "cell_type": "code",
   "execution_count": 16,
   "metadata": {},
   "outputs": [],
   "source": [
    "df_clienti_full_text = df_clienti[\"full_text\"]"
   ]
  },
  {
   "cell_type": "markdown",
   "metadata": {},
   "source": [
    "### Embedding generation"
   ]
  },
  {
   "cell_type": "markdown",
   "metadata": {},
   "source": [
    "NB: sulla repo di nomic-embed-text dicono che bisogna mettere una chiave per dire che tipo di task si vuole fare."
   ]
  },
  {
   "cell_type": "code",
   "execution_count": null,
   "metadata": {},
   "outputs": [
    {
     "name": "stdout",
     "output_type": "stream",
     "text": [
      "Il path 'C:\\Users\\enduser\\Desktop\\PythonPostLaurea\\ZOPPIS\\ZOPPIS\\notebooks\\embeddings.parquet' esiste già, uscita dal ciclo.\n"
     ]
    }
   ],
   "source": [
    "def get_embedding(text):\n",
    "    try:\n",
    "        response = ollama.embeddings(model=\"nomic-embed-text\", prompt=text)\n",
    "        return response['embedding']\n",
    "    except Exception as e:\n",
    "        print(f\"Errore durante l'embedding: {e}\")\n",
    "        return None\n",
    "\n",
    "path = r\"C:\\Users\\enduser\\Desktop\\PythonPostLaurea\\ZOPPIS\\ZOPPIS\\notebooks\\embeddings.parquet\"\n",
    "\n",
    "if not os.path.exists(path):\n",
    "    df_clienti_emb = df_clienti_full_text.apply(get_embedding)\n",
    "    df_clienti_emb = pd.DataFrame(df_clienti_emb)\n",
    "    df_clienti_emb.to_parquet(\"embeddings_v2.parquet\", engine=\"pyarrow\")\n",
    "    print(\"Embeddings salvati\")\n",
    "else:\n",
    "    print(f\"Il path '{path}' esiste già, uscita dal ciclo.\")\n"
   ]
  },
  {
   "cell_type": "markdown",
   "metadata": {},
   "source": [
    "ci ha messo 13 min x 6600 clienti.\n",
    "\n",
    "la dimensione è di 768"
   ]
  },
  {
   "cell_type": "markdown",
   "metadata": {},
   "source": [
    "### OCR:"
   ]
  },
  {
   "cell_type": "markdown",
   "metadata": {},
   "source": [
    "con gemini flash"
   ]
  },
  {
   "cell_type": "code",
   "execution_count": null,
   "metadata": {},
   "outputs": [
    {
     "name": "stdout",
     "output_type": "stream",
     "text": [
      "BOMAKI\n",
      "URAMAKERIA NIPPO BRASILIANA\n",
      "\n",
      "Ordine di\n",
      "acquisto\n",
      "Cod. Fornitore\n",
      "F100143\n",
      "Numero\n",
      "230032104\n",
      "P.IVA/Cod. fisc.\n",
      "IT01576310039\n",
      "Data\n",
      "13/12/2024\n",
      "\n",
      "Vs. Riferimento\n",
      "Valuta\n",
      "EUR\n",
      "Agente\n",
      "Pag.\n",
      "1 of 1\n",
      "Condizioni e modalità di pagamento\n",
      "Bonifico SEPA 30 GG DF FM\n",
      "\n",
      "10I Srl\n",
      "Sede legale Corso Sempione 20154 Milano (MI) - Italia\n",
      "P.IVA/C Fiscale IT04995690965\n",
      "R.Ε.Α. 561011\n",
      "Tel. 0289071703\n",
      "Email: amministrazione@bomaki.it\n",
      "Web: www.bomaki.it\n",
      "\n",
      "Spett.le\n",
      "ZOPPIS SRL\n",
      "VIA PER ALZO 21\n",
      "28017 SAN MAURIZIO D'OPAGLIO (NO) -\n",
      "ITALY\n",
      "\n",
      "Indirizzo di spedizione\n",
      "Bomaki di:\n",
      "Via Bernardino Corio 8\n",
      "20135 MILANO\n",
      "ITALYVia Bernardino Corio 8\n",
      "20135 MILANO\n",
      "\n",
      "Cod. articolo Descrizione articolo Qta U.M. Prezzo netto Cod.IVA Imponibile\n",
      "19675 ACQUA BRILLANTE TONICA VAP 1.00 CT 11.95 22.00 14.58\n",
      "15061 CACHACA LEBLON 70 MAISON LEBLON 6.00 CT 603.00 22.00 735.66\n",
      "8729 GIN HENDRICK'S CL100 2.00 PZ 65.90 22.00 80.40\n",
      "15666 HIERBAS DE IBIZA Litro AROMATICAS DE IBIZA! 12.00 PZ 203.40 22.00 248.15\n",
      "24626 SAMBUCA RAMAZZOTI CL70 3.00 PZ 20.85 22.00 25.44\n",
      "24945 SHARIS FELLUGA VENEZIE 30.00 PZ 289.50 22.00 353.19\n",
      "13035 TEQUILA PATRON Silver CL70 2.00 PZ 67.50 22.00 82.35\n",
      "20577 VODKA 42 BELOW LITRO 30.00 PZ 436.50 22.00 532.53\n",
      "\n"
     ]
    }
   ],
   "source": [
    "import google.generativeai as genai\n",
    "import os\n",
    "import base64\n",
    "from dotenv import load_dotenv\n",
    "\n",
    "load_dotenv()\n",
    "API_KEY = os.environ.get(\"GOOGLE_API_KEY\")\n",
    "genai.configure(api_key=API_KEY)\n",
    "model = genai.GenerativeModel(\"gemini-2.0-flash\")\n",
    "doc_path = r\"C:\\Users\\enduser\\Desktop\\PythonPostLaurea\\ZOPPIS\\ZOPPIS\\data\\inputs\\bomaki.pdf\"\n",
    "with open(doc_path, \"rb\") as doc_file:\n",
    "    doc_data = base64.standard_b64encode(doc_file.read()).decode(\"utf-8\")\n",
    "prompt = \"\"\"\n",
    "Trascrivi fedelmente il contenuto di questo documento PDF. Non aggiungere spiegazioni, riassunti o commenti.\n",
    "Devi solo riportare il testo esattamente come appare nel documento.\n",
    "\"\"\"\n",
    "response = model.generate_content([\n",
    "    {'mime_type': 'application/pdf', 'data': doc_data},\n",
    "    prompt\n",
    "])\n",
    "#print(response.text)\n",
    "ordine = response.text\n"
   ]
  },
  {
   "cell_type": "markdown",
   "metadata": {},
   "source": [
    "### RAG"
   ]
  },
  {
   "cell_type": "code",
   "execution_count": null,
   "metadata": {},
   "outputs": [],
   "source": [
    "df_clienti_emb = pd.read_parquet(r\"C:\\Users\\enduser\\Desktop\\PythonPostLaurea\\ZOPPIS\\ZOPPIS\\notebooks\\embeddings_v2.parquet\")\n",
    "query = \"search_query: Trovami l'IDCliente (Codice Identificatore Cliente) del seguente ordine: \\n\" + ordine\n",
    "query_emb = get_embedding(query)"
   ]
  },
  {
   "cell_type": "code",
   "execution_count": 54,
   "metadata": {},
   "outputs": [
    {
     "name": "stdout",
     "output_type": "stream",
     "text": [
      "Shape della matrice degli embedding: (6620, 768)\n",
      "Shape dell'embedding della query: 768\n",
      "Top 5 Indici più simili: [4128 5703 4103 3830 4104 3829 5490 5569 4555 3828 4923 4780 5957 3541\n",
      " 6560]\n",
      "Similarità corrispondenti: [0.7846898  0.78333956 0.77841131 0.76946964 0.76844218 0.76806016\n",
      " 0.76721181 0.76580816 0.76169685 0.76137881 0.75861737 0.755783\n",
      " 0.75376836 0.75115813 0.74996912]\n"
     ]
    }
   ],
   "source": [
    "import numpy as np\n",
    "from scipy.spatial.distance import cdist\n",
    "k = 15\n",
    "embeddings_series = df_clienti_emb[\"full_text\"]\n",
    "query_embedding = query_emb  \n",
    "embedding_matrix = np.array(embeddings_series.tolist(), dtype=np.float32)\n",
    "print(\"Shape della matrice degli embedding:\", embedding_matrix.shape)\n",
    "print(\"Shape dell'embedding della query:\", len(query_embedding))\n",
    "similarities = 1 - cdist([query_embedding], embedding_matrix, metric=\"cosine\")[0]\n",
    "top_k_indices = np.argsort(similarities)[::-1][:k]\n",
    "print(\"Top 5 Indici più simili:\", top_k_indices)\n",
    "print(\"Similarità corrispondenti:\", similarities[top_k_indices])\n",
    "\n",
    "rag_results = \"\\n\".join(df_clienti_full_text.loc[top_k_indices].astype(str).tolist())"
   ]
  },
  {
   "cell_type": "code",
   "execution_count": 55,
   "metadata": {},
   "outputs": [],
   "source": [
    "rag_results = \"\\n\".join(df_clienti_full_text.loc[top_k_indices].astype(str).tolist())\n",
    "prompt_rag = f\"\"\"search_query: Trovami l'IDCliente (Codice Identificatore Cliente) del seguente ordine:\n",
    "\n",
    "🚀 **IMPORTANTE: INIZIO ORDINE** 🚀\n",
    "\n",
    "\\nBOMAKI\\nURAMAKERIA NIPPO BRASILIANA\\nOrdine di\\nacquisto\\nCod. Fornitore\\nF100143\\nVs. Riferimento\\nAgente\\nCondizioni e modalità di pagamento\\nBonifico SEPA 30 GG DF FM\\nNumero\\n230032104\\nP.IVA/Cod. fisc.\\nIT01576310039\\nData\\n13/12/2024\\nValuta\\nEUR\\nPag.\\n1 of 1\\n101 Srl\\nSede legale Corso Sempione 20154 Milano (MI) - Italia\\nP.IVA/C Fiscale IT04995690965\\nR.Ε.Α. 561011\\nTel. 0289071703\\nEmail: amministrazione@bomaki.it\\nWeb: www.bomaki.it\\nSpett.le\\nZOPPIS SRL\\nVIA PER ALZO 21\\n28017 SAN MAURIZIO D'OPAGLIO (NO) -\\nITALY\\nIndirizzo di spedizione\\nBomaki di:\\nVia Bernardino Corio 8\\n20135 MILANO\\nITALYVia Bernardino Corio 8\\n20135 MILANO\\n\\nCod. articola Descrizione articolo Qta U.M. Prezzo netto Cod. IVA Imponibile\\n19675 ACQUA BRILLANTE TONICA VAP 1.00 CT 11.95 22.00 14.58\\n15061 CACHACA LEBLON 70 MAISON LEBLON 6.00 CT 603.00 22.00 735.66\\n8729 GIN HENDRICK'S CL100 2.00 PZ 65.90 22.00 80.40\\n15666 HIERBAS DE IBIZA Litro AROMATICAS DE IBIZA! 12.00 PZ 203.40 22.00 248.15\\n24626 SAMBUCA RAMAZZOTI CL70 3.00 PZ 20.85 22.00 25.44\\n24945 SHARIS FELLUGA VENEZIE 30.00 PZ 289.50 22.00 353.19\\n13035 TEQUILA PATRON Silver CL70 2.00 PZ 67.50 22.00 82.35\\n20577 VODKA 42 BELOW LITRO 30.00 PZ 436.50 22.00 532.53\\n\n",
    "\n",
    " **IMPORTANTE: FINE ORDINE**\n",
    "\n",
    " \"sapendo che tramite RAG ho ottenuto i full text (stringa contenente tutti i dati strutturati tabellari) dei clienti più simili all'ordine in oggetto. Riporto di seguito i dati full text dei clienti più simili all'ordine. Dai importanza sopratutto alla destinazione dell'ordine e alla ragione sociale dell'ordine (l'Indirizzo Dest la RagSoc nella tabella) per scegliere la riga trai top-k che ti propongo! \\n\"\n",
    "  \n",
    " 🚀 **IMPORTANTE: INIZIO ELENCO DATI ESTRATTI TRAMITE RAG** 🚀\n",
    " \n",
    " {rag_results}\n",
    "\n",
    "  **IMPORTANTE: FINE ELENCO DATI ESTRATTI TRAMITE RAG**\n",
    "\n",
    "\"\\nRestituiscimi soltanto l'IDCliente, la RagSoc e l'Indirizzo Dest in formato JSON, non voglio alcun tipo di dettaglio aggiuntivo\"\" \n",
    "\"\"\""
   ]
  },
  {
   "cell_type": "code",
   "execution_count": 61,
   "metadata": {},
   "outputs": [
    {
     "name": "stdout",
     "output_type": "stream",
     "text": [
      "1761\n"
     ]
    }
   ],
   "source": [
    "def count_tokens_simple(text):\n",
    "    return len(text.split())\n",
    "\n",
    "print(count_tokens_simple(prompt_rag))\n"
   ]
  },
  {
   "cell_type": "code",
   "execution_count": 60,
   "metadata": {},
   "outputs": [
    {
     "name": "stdout",
     "output_type": "stream",
     "text": [
      "search_query: Trovami l'IDCliente (Codice Identificatore Cliente) del seguente ordine:\n",
      "\n",
      "🚀 **IMPORTANTE: INIZIO ORDINE** 🚀\n",
      "\n",
      "\n",
      "BOMAKI\n",
      "URAMAKERIA NIPPO BRASILIANA\n",
      "Ordine di\n",
      "acquisto\n",
      "Cod. Fornitore\n",
      "F100143\n",
      "Vs. Riferimento\n",
      "Agente\n",
      "Condizioni e modalità di pagamento\n",
      "Bonifico SEPA 30 GG DF FM\n",
      "Numero\n",
      "230032104\n",
      "P.IVA/Cod. fisc.\n",
      "IT01576310039\n",
      "Data\n",
      "13/12/2024\n",
      "Valuta\n",
      "EUR\n",
      "Pag.\n",
      "1 of 1\n",
      "101 Srl\n",
      "Sede legale Corso Sempione 20154 Milano (MI) - Italia\n",
      "P.IVA/C Fiscale IT04995690965\n",
      "R.Ε.Α. 561011\n",
      "Tel. 0289071703\n",
      "Email: amministrazione@bomaki.it\n",
      "Web: www.bomaki.it\n",
      "Spett.le\n",
      "ZOPPIS SRL\n",
      "VIA PER ALZO 21\n",
      "28017 SAN MAURIZIO D'OPAGLIO (NO) -\n",
      "ITALY\n",
      "Indirizzo di spedizione\n",
      "Bomaki di:\n",
      "Via Bernardino Corio 8\n",
      "20135 MILANO\n",
      "ITALYVia Bernardino Corio 8\n",
      "20135 MILANO\n",
      "\n",
      "Cod. articola Descrizione articolo Qta U.M. Prezzo netto Cod. IVA Imponibile\n",
      "19675 ACQUA BRILLANTE TONICA VAP 1.00 CT 11.95 22.00 14.58\n",
      "15061 CACHACA LEBLON 70 MAISON LEBLON 6.00 CT 603.00 22.00 735.66\n",
      "8729 GIN HENDRICK'S CL100 2.00 PZ 65.90 22.00 80.40\n",
      "15666 HIERBAS DE IBIZA Litro AROMATICAS DE IBIZA! 12.00 PZ 203.40 22.00 248.15\n",
      "24626 SAMBUCA RAMAZZOTI CL70 3.00 PZ 20.85 22.00 25.44\n",
      "24945 SHARIS FELLUGA VENEZIE 30.00 PZ 289.50 22.00 353.19\n",
      "13035 TEQUILA PATRON Silver CL70 2.00 PZ 67.50 22.00 82.35\n",
      "20577 VODKA 42 BELOW LITRO 30.00 PZ 436.50 22.00 532.53\n",
      "\n",
      "\n",
      " **IMPORTANTE: FINE ORDINE**\n",
      "\n",
      " \"sapendo che tramite RAG ho ottenuto i full text (stringa contenente tutti i dati strutturati tabellari) dei clienti più simili all'ordine in oggetto. Riporto di seguito i dati full text dei clienti più simili all'ordine. Dai importanza sopratutto alla destinazione dell'ordine e alla ragione sociale dell'ordine (l'Indirizzo Dest la RagSoc nella tabella) per scegliere la riga trai top-k che ti propongo! \n",
      "\"\n",
      "  \n",
      " 🚀 **IMPORTANTE: INIZIO ELENCO DATI ESTRATTI TRAMITE RAG** 🚀\n",
      " \n",
      " search_document: IDCliente: 10044, RagSoc: IOI S.R.L. - BOMAKI MELZO, Nominativo: BOMAKI, Categoria: RISTORANTE, NominativoContatto: ROBERTA GIACOMINO, Indirizzo: CORSO SEMPIONE, 8, CAP: 20154, Comune: MILANO, Prov: MI, Paese: Italia, Zona: MI-EST, PIVA: 04995690965, Cellulare1: 347 0495915, Persona1: FRANCESCO, emailpers2: amministrazione@bomaki.it, RagSoc_Dest: IDEM, Indirizzo_Dest: VIA MELZO, 28, full_text: search_document: IDCliente: 10044, RagSoc: IOI S.R.L. - BOMAKI MELZO, Nominativo: BOMAKI, Categoria: RISTORANTE, NominativoContatto: ROBERTA GIACOMINO, Indirizzo: CORSO SEMPIONE, 8, CAP: 20154, Comune: MILANO, Prov: MI, Paese: Italia, Zona: MI-EST, PIVA: 04995690965, Cellulare1: 347 0495915, Persona1: FRANCESCO, emailpers2: amministrazione@bomaki.it, RagSoc_Dest: IDEM, Indirizzo_Dest: VIA MELZO, 28\n",
      "search_document: IDCliente: 12518, RagSoc: IOI S.R.L. - BOMAKI TOR DI QUINTO, Nominativo: BOMAKI, Categoria: RISTORANTE, NominativoContatto: SIG. MARCO PERROTTA, Indirizzo: CORSO SEMPIONE,8, CAP: 20154, Comune: MILANO, Prov: MI, Paese: Italia, Zona: ROMA, PIVA: 04995690965, Cellulare1: 346 8443085, Persona1: MARCO PERROTTA, Cellulare2: 366 6514832, Persona2: ROBERTA GIACOMINO, RagSoc_Dest: IOI S.R.L. - BOMAKI TOR DI QUINTO, Indirizzo_Dest: VIALE TOR DI QUINTO,35, full_text: search_document: IDCliente: 12518, RagSoc: IOI S.R.L. - BOMAKI TOR DI QUINTO, Nominativo: BOMAKI, Categoria: RISTORANTE, NominativoContatto: SIG. MARCO PERROTTA, Indirizzo: CORSO SEMPIONE,8, CAP: 20154, Comune: MILANO, Prov: MI, Paese: Italia, Zona: ROMA, PIVA: 04995690965, Cellulare1: 346 8443085, Persona1: MARCO PERROTTA, Cellulare2: 366 6514832, Persona2: ROBERTA GIACOMINO, RagSoc_Dest: IOI S.R.L. - BOMAKI TOR DI QUINTO, Indirizzo_Dest: VIALE TOR DI QUINTO,35\n",
      "search_document: IDCliente: 10009, RagSoc: IOI S.R.L. - BOMAKI CITY LIFE, Categoria: RISTORANTE, NominativoContatto: FRANCESCO, Indirizzo: CORSO SEMPIONE, 8, CAP: 20154, Comune: MILANO, Prov: MI, Paese: Italia, Zona: MI-OVEST ZTL, PIVA: 04995690965, Cellulare1: 347 0495915, Persona1: FRANCESCO, Persona2: ROBERTA GIACOMINO, emailpers2: r.giacomino@bomaki.it, RagSoc_Dest: IDEM, Indirizzo_Dest: P.ZZA TRE TORRI, 1/L, full_text: search_document: IDCliente: 10009, RagSoc: IOI S.R.L. - BOMAKI CITY LIFE, Categoria: RISTORANTE, NominativoContatto: FRANCESCO, Indirizzo: CORSO SEMPIONE, 8, CAP: 20154, Comune: MILANO, Prov: MI, Paese: Italia, Zona: MI-OVEST ZTL, PIVA: 04995690965, Cellulare1: 347 0495915, Persona1: FRANCESCO, Persona2: ROBERTA GIACOMINO, emailpers2: r.giacomino@bomaki.it, RagSoc_Dest: IDEM, Indirizzo_Dest: P.ZZA TRE TORRI, 1/L\n",
      "search_document: IDCliente: 9551, RagSoc: IOI SRL - BOMAKI FOPPA, Nominativo: BOMAKI, Categoria: RISTORANTE, NominativoContatto: FRANCESCO, Indirizzo: CORSO SEMPIONE, 8, CAP: 20154, Comune: MILANO, Prov: MI, Paese: Italia, Zona: MI-OVEST ZTL, PIVA: 04995690965, Cellulare1: 347 0495915, Persona1: FRANCESCO, RagSoc_Dest: IOI SRL - BOMAKI FOPPA, Indirizzo_Dest: LARGO LA FOPPA,1, full_text: search_document: IDCliente: 9551, RagSoc: IOI SRL - BOMAKI FOPPA, Nominativo: BOMAKI, Categoria: RISTORANTE, NominativoContatto: FRANCESCO, Indirizzo: CORSO SEMPIONE, 8, CAP: 20154, Comune: MILANO, Prov: MI, Paese: Italia, Zona: MI-OVEST ZTL, PIVA: 04995690965, Cellulare1: 347 0495915, Persona1: FRANCESCO, RagSoc_Dest: IOI SRL - BOMAKI FOPPA, Indirizzo_Dest: LARGO LA FOPPA,1\n",
      "search_document: IDCliente: 10010, RagSoc: IOI S.R.L. - BOMAKI SEMPIONE, Nominativo: BOMAKI, Categoria: RISTORANTE, NominativoContatto: FRANCESCO, Indirizzo: CORSO SEMPIONE, 8, CAP: 20154, Comune: MILANO, Prov: MI, Paese: Italia, Zona: MI-OVEST ZTL, PIVA: 04995690965, Cellulare1: 347 0495915, Persona1: FRANCESCO, RagSoc_Dest: IDEM, Indirizzo_Dest: CORSO SEMPIONE, 10, full_text: search_document: IDCliente: 10010, RagSoc: IOI S.R.L. - BOMAKI SEMPIONE, Nominativo: BOMAKI, Categoria: RISTORANTE, NominativoContatto: FRANCESCO, Indirizzo: CORSO SEMPIONE, 8, CAP: 20154, Comune: MILANO, Prov: MI, Paese: Italia, Zona: MI-OVEST ZTL, PIVA: 04995690965, Cellulare1: 347 0495915, Persona1: FRANCESCO, RagSoc_Dest: IDEM, Indirizzo_Dest: CORSO SEMPIONE, 10\n",
      "search_document: IDCliente: 9550, RagSoc: IOI SRL - BOMAKI PORTA ROMANA, Nominativo: BOMAKI, Categoria: RISTORANTE, NominativoContatto: FRANCESCO, Indirizzo: CORSO SEMPIONE, 8, CAP: 20154, Comune: MILANO, Prov: MI, Paese: Italia, Zona: MI-SUD, PIVA: 04995690965, Cellulare1: 347 0495915, Persona1: FRANCESCO, RagSoc_Dest: IDEM, Indirizzo_Dest: VIA BERNARDINO CORIO, 8, full_text: search_document: IDCliente: 9550, RagSoc: IOI SRL - BOMAKI PORTA ROMANA, Nominativo: BOMAKI, Categoria: RISTORANTE, NominativoContatto: FRANCESCO, Indirizzo: CORSO SEMPIONE, 8, CAP: 20154, Comune: MILANO, Prov: MI, Paese: Italia, Zona: MI-SUD, PIVA: 04995690965, Cellulare1: 347 0495915, Persona1: FRANCESCO, RagSoc_Dest: IDEM, Indirizzo_Dest: VIA BERNARDINO CORIO, 8\n",
      "search_document: IDCliente: 12205, RagSoc: IOI SRL - BOMAKI NAVIGLIO, Nominativo: BOMAKI, Categoria: RISTORANTE, NominativoContatto: FRANCESCO, Indirizzo: CORSO SEMPIONE, 8, CAP: 20154, Comune: MILANO, Prov: MI, Paese: Italia, Zona: MI-SUD ZTL, PIVA: 04995690965, Cellulare1: 347 0495915, Persona1: FRANCESCO, RagSoc_Dest: IOI SRL - BOMAKI NAVIGLIO, Indirizzo_Dest: VIA ALZAIA NAVIGLIO GRANDE, 36, full_text: search_document: IDCliente: 12205, RagSoc: IOI SRL - BOMAKI NAVIGLIO, Nominativo: BOMAKI, Categoria: RISTORANTE, NominativoContatto: FRANCESCO, Indirizzo: CORSO SEMPIONE, 8, CAP: 20154, Comune: MILANO, Prov: MI, Paese: Italia, Zona: MI-SUD ZTL, PIVA: 04995690965, Cellulare1: 347 0495915, Persona1: FRANCESCO, RagSoc_Dest: IOI SRL - BOMAKI NAVIGLIO, Indirizzo_Dest: VIA ALZAIA NAVIGLIO GRANDE, 36\n",
      "search_document: IDCliente: 12312, RagSoc: IOI S.R.L. - BOMAKI ROMA PROPERZIO, Nominativo: BOMAKI, Categoria: RISTORANTE, NominativoContatto: ROBERTA GIACOMINO, Indirizzo: CORSO SEMPIONE,8, CAP: 20154, Comune: MILANO, Prov: MI, Paese: Italia, Zona: ROMA, PIVA: 04995690965, Cellulare1: 3457896785, Persona1: ROBERTA GIACOMINO, RagSoc_Dest: IOI S.R.L. -BOMAKI ROMA PROPERZIO, Indirizzo_Dest: VIA PROPERZIO,20, full_text: search_document: IDCliente: 12312, RagSoc: IOI S.R.L. - BOMAKI ROMA PROPERZIO, Nominativo: BOMAKI, Categoria: RISTORANTE, NominativoContatto: ROBERTA GIACOMINO, Indirizzo: CORSO SEMPIONE,8, CAP: 20154, Comune: MILANO, Prov: MI, Paese: Italia, Zona: ROMA, PIVA: 04995690965, Cellulare1: 3457896785, Persona1: ROBERTA GIACOMINO, RagSoc_Dest: IOI S.R.L. -BOMAKI ROMA PROPERZIO, Indirizzo_Dest: VIA PROPERZIO,20\n",
      "search_document: IDCliente: 10841, RagSoc: IOI S.R.L. - BOMAKI TORINO MURAZZI, Nominativo: BOMAKI, Categoria: RISTORANTE, NominativoContatto: ROBERTA GIACOMINO, Indirizzo: CORSO SEMPIONE,8, CAP: 20154, Comune: MILANO, Prov: MI, Paese: Italia, Zona: TORINO, PIVA: 04995690965, Cellulare1: 345 7896785, Persona1: ROBERTA GIACOMINO, Cellulare2: 349 5251146, Persona2: ALBERTO, RagSoc_Dest: IOI S.R.L. BOMAKI TORINO MURAZZI, Indirizzo_Dest: VIA MURAZZI DEL PO,29  SUL FIUME DEL PO, full_text: search_document: IDCliente: 10841, RagSoc: IOI S.R.L. - BOMAKI TORINO MURAZZI, Nominativo: BOMAKI, Categoria: RISTORANTE, NominativoContatto: ROBERTA GIACOMINO, Indirizzo: CORSO SEMPIONE,8, CAP: 20154, Comune: MILANO, Prov: MI, Paese: Italia, Zona: TORINO, PIVA: 04995690965, Cellulare1: 345 7896785, Persona1: ROBERTA GIACOMINO, Cellulare2: 349 5251146, Persona2: ALBERTO, RagSoc_Dest: IOI S.R.L. BOMAKI TORINO MURAZZI, Indirizzo_Dest: VIA MURAZZI DEL PO,29  SUL FIUME DEL PO\n",
      "search_document: IDCliente: 9549, RagSoc: IOI SRL - BOMAKI SANZIO, Nominativo: BOMAKI, Categoria: RISTORANTE, NominativoContatto: FRANCESCO, Indirizzo: CORSO SEMPIONE, 8, CAP: 20154, Comune: MILANO, Prov: MI, Paese: Italia, Zona: MI-OVEST, PIVA: 04995690965, Cellulare1: 347 0495915, Persona1: FRANCESCO, RagSoc_Dest: IDEM, Indirizzo_Dest: VIA RAFFAELLO SANZIO, 24, full_text: search_document: IDCliente: 9549, RagSoc: IOI SRL - BOMAKI SANZIO, Nominativo: BOMAKI, Categoria: RISTORANTE, NominativoContatto: FRANCESCO, Indirizzo: CORSO SEMPIONE, 8, CAP: 20154, Comune: MILANO, Prov: MI, Paese: Italia, Zona: MI-OVEST, PIVA: 04995690965, Cellulare1: 347 0495915, Persona1: FRANCESCO, RagSoc_Dest: IDEM, Indirizzo_Dest: VIA RAFFAELLO SANZIO, 24\n",
      "search_document: IDCliente: 11397, RagSoc: IOI S.R.L. - BOMAKI GARIBALDI, Nominativo: BOMAKI, Categoria: RISTORANTE, NominativoContatto: ROBERTA GIACOMINO, Indirizzo: CORSO SEMPIONE,8, CAP: 20154, Comune: MILANO, Prov: MI, Paese: Italia, Zona: MI-OVEST ZTL, PIVA: 04995690965, Cellulare1: 345 7896785, Persona1: ROBERTA GIACOMINO, Cellulare2: 351 7122636, Persona2: NATASHA, RagSoc_Dest: IOI S.R.L. - BOMAKI GARIBALDI, Indirizzo_Dest: CORSO GARIBALDI ,79, full_text: search_document: IDCliente: 11397, RagSoc: IOI S.R.L. - BOMAKI GARIBALDI, Nominativo: BOMAKI, Categoria: RISTORANTE, NominativoContatto: ROBERTA GIACOMINO, Indirizzo: CORSO SEMPIONE,8, CAP: 20154, Comune: MILANO, Prov: MI, Paese: Italia, Zona: MI-OVEST ZTL, PIVA: 04995690965, Cellulare1: 345 7896785, Persona1: ROBERTA GIACOMINO, Cellulare2: 351 7122636, Persona2: NATASHA, RagSoc_Dest: IOI S.R.L. - BOMAKI GARIBALDI, Indirizzo_Dest: CORSO GARIBALDI ,79\n",
      "search_document: IDCliente: 11181, RagSoc: IOI S.R.L. - BOMAKI BATTISTI TORINO, Nominativo: BOMAKI, Categoria: RISTORANTE, NominativoContatto: ROBERTA GIACOMINO, Indirizzo: CORSO SEMPIONE,8, CAP: 20154, Comune: MILANO, Prov: MI, Paese: Italia, Zona: TORINO, PIVA: 04995690965, Cellulare1: 345 7896785, Persona1: ROBERTA GIACOMINO, Cellulare2: 3939792247, Persona2: MARIO MONGIOJ, RagSoc_Dest: IOI S.R.L. - BOMAKI BATTISTI TORINO, Indirizzo_Dest: VIA CESARE BATTISTI,3 E, full_text: search_document: IDCliente: 11181, RagSoc: IOI S.R.L. - BOMAKI BATTISTI TORINO, Nominativo: BOMAKI, Categoria: RISTORANTE, NominativoContatto: ROBERTA GIACOMINO, Indirizzo: CORSO SEMPIONE,8, CAP: 20154, Comune: MILANO, Prov: MI, Paese: Italia, Zona: TORINO, PIVA: 04995690965, Cellulare1: 345 7896785, Persona1: ROBERTA GIACOMINO, Cellulare2: 3939792247, Persona2: MARIO MONGIOJ, RagSoc_Dest: IOI S.R.L. - BOMAKI BATTISTI TORINO, Indirizzo_Dest: VIA CESARE BATTISTI,3 E\n",
      "search_document: IDCliente: 12830, RagSoc: DEA SRL - BOMAKI CARUGATE, Nominativo: BOMAKI, Categoria: RISTORANTE, NominativoContatto: ELIE CHAMMAI, Indirizzo: VICOLO DE GRADI,2, CAP: 20900, Comune: MONZA, Prov: MB, Paese: Italia, Zona: MONZA, PIVA: 13167950966, Cellulare1: 348 3200393, Persona1: ELIE CHAMMAI, RagSoc_Dest: DEA SRL - BOMAKI CARUGATE, Indirizzo_Dest: CENTRO COMMERCIALE CAROSELLO SP 208 KM2, full_text: search_document: IDCliente: 12830, RagSoc: DEA SRL - BOMAKI CARUGATE, Nominativo: BOMAKI, Categoria: RISTORANTE, NominativoContatto: ELIE CHAMMAI, Indirizzo: VICOLO DE GRADI,2, CAP: 20900, Comune: MONZA, Prov: MB, Paese: Italia, Zona: MONZA, PIVA: 13167950966, Cellulare1: 348 3200393, Persona1: ELIE CHAMMAI, RagSoc_Dest: DEA SRL - BOMAKI CARUGATE, Indirizzo_Dest: CENTRO COMMERCIALE CAROSELLO SP 208 KM2\n",
      "search_document: IDCliente: 8983, RagSoc: STI INTERNAZIONALE SPA, Categoria: AZIENDA, Indirizzo: VIALE DEL LAVORO 57, CAP: 37051, Comune: BOVOLONE, Prov: VR, Paese: Italia, PIVA: 01609740236, Cellulare1: 335 243737, Persona1: De majo Joseph, full_text: search_document: IDCliente: 8983, RagSoc: STI INTERNAZIONALE SPA, Categoria: AZIENDA, Indirizzo: VIALE DEL LAVORO 57, CAP: 37051, Comune: BOVOLONE, Prov: VR, Paese: Italia, PIVA: 01609740236, Cellulare1: 335 243737, Persona1: De majo Joseph\n",
      "search_document: IDCliente: 13536, RagSoc: BOMAKI DEV SRL - SERRAVALLE SCRIVIA, Nominativo: BOMAKI SERRAVALLE SCRIVIA, Categoria: RISTORANTE, NominativoContatto: ELIE CHAMMAY, Indirizzo: CORSO SEMPIONE,8, CAP: 20154, Comune: MILANO, Prov: MI, Paese: Italia, Zona: VERCELLI, PIVA: 13788550963, Cellulare1: 348 3200393, Persona1: ELIE CHAMMAI, emailpers1: elie.chammai@bomakidev.it, RagSoc_Dest: BOMAKI DEV S.R.L. - SERRAVALE SCRIVIA, Indirizzo_Dest: VIA DELLA MODA,1, full_text: search_document: IDCliente: 13536, RagSoc: BOMAKI DEV SRL - SERRAVALLE SCRIVIA, Nominativo: BOMAKI SERRAVALLE SCRIVIA, Categoria: RISTORANTE, NominativoContatto: ELIE CHAMMAY, Indirizzo: CORSO SEMPIONE,8, CAP: 20154, Comune: MILANO, Prov: MI, Paese: Italia, Zona: VERCELLI, PIVA: 13788550963, Cellulare1: 348 3200393, Persona1: ELIE CHAMMAI, emailpers1: elie.chammai@bomakidev.it, RagSoc_Dest: BOMAKI DEV S.R.L. - SERRAVALE SCRIVIA, Indirizzo_Dest: VIA DELLA MODA,1\n",
      "\n",
      "  **IMPORTANTE: FINE ELENCO DATI ESTRATTI TRAMITE RAG**\n",
      "\n",
      "\"\n",
      "Restituiscimi soltanto l'IDCliente, la RagSoc e l'Indirizzo Dest in formato JSON, non voglio alcun tipo di dettaglio aggiuntivo\"\" \n",
      "\n"
     ]
    }
   ],
   "source": [
    "print(prompt_rag)"
   ]
  },
  {
   "cell_type": "code",
   "execution_count": 57,
   "metadata": {},
   "outputs": [
    {
     "name": "stdout",
     "output_type": "stream",
     "text": [
      "[\n",
      "  {\n",
      "    \"IDCliente\": \"9550\",\n",
      "    \"RagSoc\": \"IOI SRL - BOMAKI PORTA ROMANA\",\n",
      "    \"Indirizzo_Dest\": \"VIA BERNARDINO CORIO, 8\"\n",
      "  }\n",
      "]\n"
     ]
    }
   ],
   "source": [
    "generation_config = {\n",
    "  \"temperature\": 0.1,\n",
    "  \"top_p\": 0.95,\n",
    "  \"top_k\": 40,\n",
    "  \"max_output_tokens\": 8192,\n",
    "  \"response_mime_type\": \"application/json\", # posso richiedere esplicitamente il formato strutturato della risposta\n",
    "}\n",
    "\n",
    "model = genai.GenerativeModel(\n",
    "    model_name=\"gemini-2.0-flash-exp\",\n",
    "    generation_config=generation_config,\n",
    "    #system_instruction=\"Sei un venditore, quindi i campi vuoti non li sostituisci con Null ma con valori inventati!\" # solo come esperimento..\n",
    ")\n",
    "\n",
    "output_rag = model.generate_content(prompt_rag)\n",
    "print(output_rag.text)"
   ]
  }
 ],
 "metadata": {
  "kernelspec": {
   "display_name": "zoppis",
   "language": "python",
   "name": "python3"
  },
  "language_info": {
   "codemirror_mode": {
    "name": "ipython",
    "version": 3
   },
   "file_extension": ".py",
   "mimetype": "text/x-python",
   "name": "python",
   "nbconvert_exporter": "python",
   "pygments_lexer": "ipython3",
   "version": "3.11.11"
  }
 },
 "nbformat": 4,
 "nbformat_minor": 2
}
