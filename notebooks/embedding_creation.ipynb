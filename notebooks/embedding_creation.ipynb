{
 "cells": [
  {
   "cell_type": "markdown",
   "metadata": {},
   "source": [
    "15/03/2025"
   ]
  },
  {
   "cell_type": "code",
   "execution_count": 1,
   "metadata": {},
   "outputs": [],
   "source": [
    "import pandas as pd"
   ]
  },
  {
   "cell_type": "code",
   "execution_count": 2,
   "metadata": {},
   "outputs": [],
   "source": [
    "df_clienti = pd.read_csv(r\"C:\\Users\\enduser\\Desktop\\PythonPostLaurea\\ZOPPIS\\ZOPPIS\\data\\clienti.csv\",sep = \";\")\n"
   ]
  },
  {
   "cell_type": "code",
   "execution_count": 3,
   "metadata": {},
   "outputs": [
    {
     "data": {
      "text/plain": [
       "IDCliente                0\n",
       "RagSoc                   0\n",
       "Nominativo            3319\n",
       "Categoria                0\n",
       "NominativoContatto    1697\n",
       "Indirizzo               73\n",
       "CAP                    152\n",
       "Comune                  56\n",
       "Prov                   180\n",
       "Paese                    2\n",
       "Zona                  1773\n",
       "PIVA                   247\n",
       "Cellulare1            2971\n",
       "Persona1              3021\n",
       "emailpers1            6192\n",
       "Cellulare2            5517\n",
       "Persona2              5413\n",
       "emailpers2            6304\n",
       "Cellulare3            6349\n",
       "Persona3              6287\n",
       "emailpers3            6471\n",
       "cellulare4            6547\n",
       "persona4              6522\n",
       "emailpers4            6546\n",
       "cellulare5            6601\n",
       "persona5              6584\n",
       "emailpers5            6593\n",
       "RagSoc_Dest           4916\n",
       "Indirizzo_Dest        4883\n",
       "dtype: int64"
      ]
     },
     "execution_count": 3,
     "metadata": {},
     "output_type": "execute_result"
    }
   ],
   "source": [
    "df_clienti.isna().sum()"
   ]
  },
  {
   "cell_type": "markdown",
   "metadata": {},
   "source": [
    "### Full text creation"
   ]
  },
  {
   "cell_type": "code",
   "execution_count": 5,
   "metadata": {},
   "outputs": [],
   "source": [
    "# Funzione per creare la colonna full_text\n",
    "def create_full_text(row, prefix=\"search_document\"):\n",
    "    return f\"{prefix}: \" + \", \".join(\n",
    "        f\"{col}: {val}\"\n",
    "        for col, val in row.items() \n",
    "        if pd.notna(val)\n",
    "    )\n",
    "\n",
    "\n",
    "# Creazione della nuova colonna full_text\n",
    "df_clienti[\"full_text\"] = df_clienti.apply(create_full_text, axis=1)"
   ]
  },
  {
   "cell_type": "code",
   "execution_count": 7,
   "metadata": {},
   "outputs": [],
   "source": [
    "df_clienti_full_text = df_clienti[\"full_text\"]"
   ]
  },
  {
   "cell_type": "code",
   "execution_count": 8,
   "metadata": {},
   "outputs": [
    {
     "data": {
      "text/plain": [
       "0       search_document: IDCliente: 1184, RagSoc: CIRC...\n",
       "1       search_document: IDCliente: 1185, RagSoc: CIMB...\n",
       "2       search_document: IDCliente: 1187, RagSoc: CIRC...\n",
       "3       search_document: IDCliente: 1190, RagSoc: CIRC...\n",
       "4       search_document: IDCliente: 1193, RagSoc: CIRC...\n",
       "                              ...                        \n",
       "6615    search_document: IDCliente: 13599, RagSoc: DFM...\n",
       "6616    search_document: IDCliente: 13600, RagSoc: OST...\n",
       "6617    search_document: IDCliente: 13601, RagSoc: JOI...\n",
       "6618    search_document: IDCliente: 13602, RagSoc: ACQ...\n",
       "6619    search_document: IDCliente: 13603, RagSoc: CLI...\n",
       "Name: full_text, Length: 6620, dtype: object"
      ]
     },
     "execution_count": 8,
     "metadata": {},
     "output_type": "execute_result"
    }
   ],
   "source": [
    "df_clienti_full_text"
   ]
  },
  {
   "cell_type": "markdown",
   "metadata": {},
   "source": [
    "### Embedding generation"
   ]
  },
  {
   "cell_type": "markdown",
   "metadata": {},
   "source": [
    "NB: sulla repo di nomic-embed-text dicono che bisogna mettere una chiave per dire che tipo di task si vuole fare."
   ]
  },
  {
   "cell_type": "code",
   "execution_count": 9,
   "metadata": {},
   "outputs": [],
   "source": [
    "import ollama\n",
    "import json"
   ]
  },
  {
   "cell_type": "code",
   "execution_count": 11,
   "metadata": {},
   "outputs": [],
   "source": [
    "def get_embedding(text):\n",
    "    try:\n",
    "        response = ollama.embeddings(model=\"nomic-embed-text\", prompt=text)\n",
    "        return response['embedding']\n",
    "    except Exception as e:\n",
    "        print(f\"Errore durante l'embedding: {e}\")\n",
    "        return None\n",
    "\n",
    "# Creazione della colonna con gli embeddings\n",
    "df_clienti_emb = df_clienti_full_text.apply(get_embedding)"
   ]
  },
  {
   "cell_type": "code",
   "execution_count": 12,
   "metadata": {},
   "outputs": [
    {
     "name": "stdout",
     "output_type": "stream",
     "text": [
      "Embeddings salvati\n"
     ]
    }
   ],
   "source": [
    "df_clienti_emb = pd.DataFrame(df_clienti_emb)\n",
    "# Salvataggio su file Parquet\n",
    "df_clienti_emb.to_parquet(\"embeddings_v2.parquet\", engine=\"pyarrow\")\n",
    "\n",
    "print(\"Embeddings salvati\")"
   ]
  },
  {
   "cell_type": "markdown",
   "metadata": {},
   "source": [
    "ci ha messo 13 min x 6600 clienti.\n",
    "\n",
    "la dimensione è di 768"
   ]
  },
  {
   "cell_type": "markdown",
   "metadata": {},
   "source": [
    "### OCR:"
   ]
  },
  {
   "cell_type": "markdown",
   "metadata": {},
   "source": [
    "per pdf scritti"
   ]
  },
  {
   "cell_type": "code",
   "execution_count": null,
   "metadata": {},
   "outputs": [],
   "source": [
    "# from langchain.document_loaders import PyPDFLoader\n",
    "\n",
    "# # Percorso del file PDF\n",
    "# pdf_path = r\"C:\\Users\\enduser\\Desktop\\PythonPostLaurea\\ZOPPIS\\ZOPPIS\\langchain-ollama-elasticsearch\\data\\press-physics-nobel-prize-2024.pdf\"\n",
    "\n",
    "# # Carica il PDF\n",
    "# loader = PyPDFLoader(pdf_path)\n",
    "# docs = loader.load()\n",
    "\n",
    "# # Unisce tutto il testo in una sola stringa\n",
    "# full_text = \"\\n\".join([doc.page_content for doc in docs])\n",
    "\n",
    "# # Stampa i primi 1000 caratteri per verifica\n",
    "# print(full_text)  # Stampiamo solo una parte per evitare output troppo lungo\n"
   ]
  },
  {
   "cell_type": "markdown",
   "metadata": {},
   "source": [
    "risultati pessimi"
   ]
  },
  {
   "cell_type": "code",
   "execution_count": null,
   "metadata": {},
   "outputs": [],
   "source": [
    "# import fitz  # PyMuPDF\n",
    "# from PIL import Image\n",
    "# import pytesseract\n",
    "# import io\n",
    "\n",
    "# pdf_path = r\"C:\\Users\\enduser\\Desktop\\PythonPostLaurea\\ZOPPIS\\ZOPPIS\\data\\inputs\\A4M_15122024_006852 copy.pdf\"\n",
    "\n",
    "# # Apri il PDF\n",
    "# doc = fitz.open(pdf_path)\n",
    "\n",
    "# # Lista per salvare il testo OCR estratto\n",
    "# ocr_text = []\n",
    "\n",
    "# for page in doc:\n",
    "#     pix = page.get_pixmap()\n",
    "    \n",
    "#     # Converti in immagine PIL\n",
    "#     img = Image.frombytes(\"RGB\", [pix.width, pix.height], pix.samples)\n",
    "\n",
    "#     # OCR con Tesseract\n",
    "#     text = pytesseract.image_to_string(img, lang=\"eng\")  # Usa \"ita\" se il testo è in italiano\n",
    "#     ocr_text.append(text)\n",
    "\n",
    "# # Unisci tutto il testo OCR\n",
    "# full_text = \"\\n\".join(ocr_text)\n",
    "\n",
    "# # Stampa il risultato\n",
    "# print(full_text)\n"
   ]
  },
  {
   "cell_type": "markdown",
   "metadata": {},
   "source": [
    "con gemini flash"
   ]
  },
  {
   "cell_type": "code",
   "execution_count": 13,
   "metadata": {},
   "outputs": [
    {
     "name": "stdout",
     "output_type": "stream",
     "text": [
      "BOMAKI\n",
      "URAMAKERIA NIPPO BRASILIANA\n",
      "Ordine di\n",
      "acquisto\n",
      "Cod. Fornitore\n",
      "F100143\n",
      "Vs. Riferimento\n",
      "Agente\n",
      "Condizioni e modalità di pagamento\n",
      "Bonifico SEPA 30 GG DF FM\n",
      "Numero\n",
      "230032104\n",
      "P.IVA/Cod. fisc.\n",
      "IT01576310039\n",
      "Data\n",
      "13/12/2024\n",
      "Valuta\n",
      "EUR\n",
      "Pag.\n",
      "1 of 1\n",
      "101 Srl\n",
      "Sede legale Corso Sempione 20154 Milano (MI) - Italia\n",
      "P.IVA/C Fiscale IT04995690965\n",
      "R.Ε.Α. 561011\n",
      "Tel. 0289071703\n",
      "Email: amministrazione@bomaki.it\n",
      "Web: www.bomaki.it\n",
      "Spett.le\n",
      "ZOPPIS SRL\n",
      "VIA PER ALZO 21\n",
      "28017 SAN MAURIZIO D'OPAGLIO (NO) -\n",
      "ITALY\n",
      "Indirizzo di spedizione\n",
      "Bomaki di:\n",
      "Via Bernardino Corio 8\n",
      "20135 MILANO\n",
      "ITALYVia Bernardino Corio 8\n",
      "20135 MILANO\n",
      "\n",
      "Cod. articola Descrizione articolo Qta U.M. Prezzo netto Cod. IVA Imponibile\n",
      "19675 ACQUA BRILLANTE TONICA VAP 1.00 CT 11.95 22.00 14.58\n",
      "15061 CACHACA LEBLON 70 MAISON LEBLON 6.00 CT 603.00 22.00 735.66\n",
      "8729 GIN HENDRICK'S CL100 2.00 PZ 65.90 22.00 80.40\n",
      "15666 HIERBAS DE IBIZA Litro AROMATICAS DE IBIZA! 12.00 PZ 203.40 22.00 248.15\n",
      "24626 SAMBUCA RAMAZZOTI CL70 3.00 PZ 20.85 22.00 25.44\n",
      "24945 SHARIS FELLUGA VENEZIE 30.00 PZ 289.50 22.00 353.19\n",
      "13035 TEQUILA PATRON Silver CL70 2.00 PZ 67.50 22.00 82.35\n",
      "20577 VODKA 42 BELOW LITRO 30.00 PZ 436.50 22.00 532.53\n",
      "\n"
     ]
    }
   ],
   "source": [
    "import google.generativeai as genai\n",
    "import os\n",
    "import base64\n",
    "from dotenv import load_dotenv\n",
    "\n",
    "# Carica la chiave API da variabili d'ambiente\n",
    "load_dotenv()\n",
    "API_KEY = os.environ.get(\"GOOGLE_API_KEY\")\n",
    "\n",
    "# Configura Gemini\n",
    "genai.configure(api_key=API_KEY)\n",
    "model = genai.GenerativeModel(\"gemini-2.0-flash\")\n",
    "\n",
    "# Percorso del PDF\n",
    "doc_path = r\"C:\\Users\\enduser\\Desktop\\PythonPostLaurea\\ZOPPIS\\ZOPPIS\\data\\inputs\\bomaki.pdf\"\n",
    "\n",
    "# Leggi e codifica il file in Base64\n",
    "with open(doc_path, \"rb\") as doc_file:\n",
    "    doc_data = base64.standard_b64encode(doc_file.read()).decode(\"utf-8\")\n",
    "\n",
    "# Prompt per forzare solo la trascrizione\n",
    "prompt = \"\"\"\n",
    "Trascrivi fedelmente il contenuto di questo documento PDF. Non aggiungere spiegazioni, riassunti o commenti.\n",
    "Devi solo riportare il testo esattamente come appare nel documento.\n",
    "\"\"\"\n",
    "\n",
    "# Genera il contenuto\n",
    "response = model.generate_content([\n",
    "    {'mime_type': 'application/pdf', 'data': doc_data},\n",
    "    prompt\n",
    "])\n",
    "\n",
    "# Stampa la trascrizione\n",
    "print(response.text)\n"
   ]
  },
  {
   "cell_type": "markdown",
   "metadata": {},
   "source": [
    "### RAG"
   ]
  },
  {
   "cell_type": "code",
   "execution_count": 18,
   "metadata": {},
   "outputs": [],
   "source": [
    "df_clienti_emb_v2 = pd.read_parquet(r\"C:\\Users\\enduser\\Desktop\\PythonPostLaurea\\ZOPPIS\\ZOPPIS\\notebooks\\embeddings_v2.parquet\")"
   ]
  },
  {
   "cell_type": "code",
   "execution_count": 19,
   "metadata": {},
   "outputs": [],
   "source": [
    "df_clienti_emb_v1 = pd.read_parquet(r\"C:\\Users\\enduser\\Desktop\\PythonPostLaurea\\ZOPPIS\\ZOPPIS\\notebooks\\embeddings.parquet\")"
   ]
  },
  {
   "cell_type": "code",
   "execution_count": 22,
   "metadata": {},
   "outputs": [
    {
     "name": "stdout",
     "output_type": "stream",
     "text": [
      "       cosine_similarity\n",
      "count        6620.000000\n",
      "mean            0.917193\n",
      "std             0.010179\n",
      "min             0.881335\n",
      "25%             0.910358\n",
      "50%             0.917172\n",
      "75%             0.924128\n",
      "max             0.950927\n"
     ]
    }
   ],
   "source": [
    "import numpy as np\n",
    "import pandas as pd\n",
    "from scipy.spatial.distance import cosine\n",
    "\n",
    "def cosine_similarity(vec1, vec2):\n",
    "    \"\"\"Calcola la similarità coseno tra due vettori di embedding.\"\"\"\n",
    "    return 1 - cosine(vec1, vec2)\n",
    "\n",
    "# Supponiamo di avere due dataframe con la colonna \"full_text\" contenente i vettori di embedding\n",
    "df1 = df_clienti_emb_v1\n",
    "df2 = df_clienti_emb_v2\n",
    "\n",
    "# Converto gli embedding in array numpy\n",
    "embeddings1 = np.array(df1[\"full_text\"].tolist())\n",
    "embeddings2 = np.array(df2[\"full_text\"].tolist())\n",
    "\n",
    "# Calcolo la similarità coseno per ogni coppia di embeddings corrispondenti\n",
    "cosine_similarities = np.array([\n",
    "    cosine_similarity(emb1, emb2) for emb1, emb2 in zip(embeddings1, embeddings2)\n",
    "])\n",
    "\n",
    "# Aggiungo i risultati al dataframe per analisi\n",
    "df_similarity = pd.DataFrame({\n",
    "    \"cosine_similarity\": cosine_similarities\n",
    "})\n",
    "\n",
    "# Visualizza statistiche sulle similarità\n",
    "print(df_similarity.describe())\n"
   ]
  },
  {
   "cell_type": "markdown",
   "metadata": {},
   "source": [
    "Queste sono le differenze fra v1 (senza l'item \"document search:\") e v2 (con l'item \"document search:\")"
   ]
  },
  {
   "cell_type": "code",
   "execution_count": 14,
   "metadata": {},
   "outputs": [],
   "source": [
    "ordine = response.text"
   ]
  },
  {
   "cell_type": "code",
   "execution_count": 16,
   "metadata": {},
   "outputs": [],
   "source": [
    "query = \"search_query: Trovami l'IDCliente (Codice Identificatore Cliente) del seguente ordine: \\n\" + ordine"
   ]
  },
  {
   "cell_type": "code",
   "execution_count": 25,
   "metadata": {},
   "outputs": [],
   "source": [
    "query_emb = get_embedding(query)"
   ]
  },
  {
   "cell_type": "code",
   "execution_count": 28,
   "metadata": {},
   "outputs": [],
   "source": [
    "import numpy as np\n",
    "from scipy.spatial.distance import cdist"
   ]
  },
  {
   "cell_type": "code",
   "execution_count": 30,
   "metadata": {},
   "outputs": [
    {
     "name": "stdout",
     "output_type": "stream",
     "text": [
      "Shape della matrice degli embedding: (6620, 768)\n",
      "Shape dell'embedding della query: 768\n",
      "Top 5 Indici più simili: [4128 5703 4103 3830 3829]\n",
      "Similarità corrispondenti: [0.78400688 0.7827887  0.77768747 0.77200334 0.7709059 ]\n"
     ]
    }
   ],
   "source": [
    "# Simuliamo la Serie di embedding\n",
    "embeddings_series = df_clienti_emb[\"full_text\"]\n",
    "\n",
    "# Embedding della query\n",
    "query_embedding = query_emb  # Modifica con il tuo embedding\n",
    "\n",
    "\n",
    "# Converti la Serie in un array NumPy con dtype=float\n",
    "embedding_matrix = np.array(embeddings_series.tolist(), dtype=np.float32)\n",
    "\n",
    "# Assicuriamoci che la dimensione sia corretta\n",
    "print(\"Shape della matrice degli embedding:\", embedding_matrix.shape)\n",
    "print(\"Shape dell'embedding della query:\", len(query_embedding))\n",
    "\n",
    "# Calcola la similarità del coseno\n",
    "similarities = 1 - cdist([query_embedding], embedding_matrix, metric=\"cosine\")[0]\n",
    "\n",
    "# Ottieni i top 5 indici ordinati per similarità\n",
    "top_5_indices = np.argsort(similarities)[::-1][:5]\n",
    "\n",
    "# Mostra i risultati\n",
    "print(\"Top 5 Indici più simili:\", top_5_indices)\n",
    "print(\"Similarità corrispondenti:\", similarities[top_5_indices])"
   ]
  },
  {
   "cell_type": "code",
   "execution_count": 37,
   "metadata": {},
   "outputs": [
    {
     "data": {
      "text/plain": [
       "array([4128, 5703, 4103, 3830, 3829], dtype=int64)"
      ]
     },
     "execution_count": 37,
     "metadata": {},
     "output_type": "execute_result"
    }
   ],
   "source": [
    "top_5_indices"
   ]
  },
  {
   "cell_type": "code",
   "execution_count": 54,
   "metadata": {},
   "outputs": [
    {
     "data": {
      "text/plain": [
       "401"
      ]
     },
     "execution_count": 54,
     "metadata": {},
     "output_type": "execute_result"
    }
   ],
   "source": [
    "len(df_clienti_full_text.loc[top_5_indices].to_list()[0])"
   ]
  },
  {
   "cell_type": "code",
   "execution_count": 56,
   "metadata": {},
   "outputs": [
    {
     "data": {
      "text/plain": [
       "0       search_document: IDCliente: 1184, RagSoc: CIRC...\n",
       "1       search_document: IDCliente: 1185, RagSoc: CIMB...\n",
       "2       search_document: IDCliente: 1187, RagSoc: CIRC...\n",
       "3       search_document: IDCliente: 1190, RagSoc: CIRC...\n",
       "4       search_document: IDCliente: 1193, RagSoc: CIRC...\n",
       "                              ...                        \n",
       "6615    search_document: IDCliente: 13599, RagSoc: DFM...\n",
       "6616    search_document: IDCliente: 13600, RagSoc: OST...\n",
       "6617    search_document: IDCliente: 13601, RagSoc: JOI...\n",
       "6618    search_document: IDCliente: 13602, RagSoc: ACQ...\n",
       "6619    search_document: IDCliente: 13603, RagSoc: CLI...\n",
       "Name: full_text, Length: 6620, dtype: object"
      ]
     },
     "execution_count": 56,
     "metadata": {},
     "output_type": "execute_result"
    }
   ],
   "source": [
    "df_clienti_full_text"
   ]
  },
  {
   "cell_type": "code",
   "execution_count": 57,
   "metadata": {},
   "outputs": [],
   "source": [
    "rag_results = \"\\n\".join(df_clienti_full_text.loc[top_5_indices].astype(str).tolist())\n"
   ]
  },
  {
   "cell_type": "code",
   "execution_count": 58,
   "metadata": {},
   "outputs": [
    {
     "data": {
      "text/plain": [
       "'search_document: IDCliente: 10044, RagSoc: IOI S.R.L. - BOMAKI MELZO, Nominativo: BOMAKI, Categoria: RISTORANTE, NominativoContatto: ROBERTA GIACOMINO, Indirizzo: CORSO SEMPIONE, 8, CAP: 20154, Comune: MILANO, Prov: MI, Paese: Italia, Zona: MI-EST, PIVA: 04995690965, Cellulare1: 347 0495915, Persona1: FRANCESCO, emailpers2: amministrazione@bomaki.it, RagSoc_Dest: IDEM, Indirizzo_Dest: VIA MELZO, 28\\nsearch_document: IDCliente: 12518, RagSoc: IOI S.R.L. - BOMAKI TOR DI QUINTO, Nominativo: BOMAKI, Categoria: RISTORANTE, NominativoContatto: SIG. MARCO PERROTTA, Indirizzo: CORSO SEMPIONE,8, CAP: 20154, Comune: MILANO, Prov: MI, Paese: Italia, Zona: ROMA, PIVA: 04995690965, Cellulare1: 346 8443085, Persona1: MARCO PERROTTA, Cellulare2: 366 6514832, Persona2: ROBERTA GIACOMINO, RagSoc_Dest: IOI S.R.L. - BOMAKI TOR DI QUINTO, Indirizzo_Dest: VIALE TOR DI QUINTO,35\\nsearch_document: IDCliente: 10009, RagSoc: IOI S.R.L. - BOMAKI CITY LIFE, Categoria: RISTORANTE, NominativoContatto: FRANCESCO, Indirizzo: CORSO SEMPIONE, 8, CAP: 20154, Comune: MILANO, Prov: MI, Paese: Italia, Zona: MI-OVEST ZTL, PIVA: 04995690965, Cellulare1: 347 0495915, Persona1: FRANCESCO, Persona2: ROBERTA GIACOMINO, emailpers2: r.giacomino@bomaki.it, RagSoc_Dest: IDEM, Indirizzo_Dest: P.ZZA TRE TORRI, 1/L\\nsearch_document: IDCliente: 9551, RagSoc: IOI SRL - BOMAKI FOPPA, Nominativo: BOMAKI, Categoria: RISTORANTE, NominativoContatto: FRANCESCO, Indirizzo: CORSO SEMPIONE, 8, CAP: 20154, Comune: MILANO, Prov: MI, Paese: Italia, Zona: MI-OVEST ZTL, PIVA: 04995690965, Cellulare1: 347 0495915, Persona1: FRANCESCO, RagSoc_Dest: IOI SRL - BOMAKI FOPPA, Indirizzo_Dest: LARGO LA FOPPA,1\\nsearch_document: IDCliente: 9550, RagSoc: IOI SRL - BOMAKI PORTA ROMANA, Nominativo: BOMAKI, Categoria: RISTORANTE, NominativoContatto: FRANCESCO, Indirizzo: CORSO SEMPIONE, 8, CAP: 20154, Comune: MILANO, Prov: MI, Paese: Italia, Zona: MI-SUD, PIVA: 04995690965, Cellulare1: 347 0495915, Persona1: FRANCESCO, RagSoc_Dest: IDEM, Indirizzo_Dest: VIA BERNARDINO CORIO, 8'"
      ]
     },
     "execution_count": 58,
     "metadata": {},
     "output_type": "execute_result"
    }
   ],
   "source": [
    "rag_results"
   ]
  },
  {
   "cell_type": "code",
   "execution_count": 51,
   "metadata": {},
   "outputs": [
    {
     "data": {
      "text/plain": [
       "289"
      ]
     },
     "execution_count": 51,
     "metadata": {},
     "output_type": "execute_result"
    }
   ],
   "source": [
    "len(df_clienti_full_text.loc[top_5_indices].to_string())"
   ]
  },
  {
   "cell_type": "code",
   "execution_count": 60,
   "metadata": {},
   "outputs": [
    {
     "data": {
      "text/plain": [
       "'search_document: IDCliente: 10044, RagSoc: IOI S.R.L. - BOMAKI MELZO, Nominativo: BOMAKI, Categoria: RISTORANTE, NominativoContatto: ROBERTA GIACOMINO, Indirizzo: CORSO SEMPIONE, 8, CAP: 20154, Comune: MILANO, Prov: MI, Paese: Italia, Zona: MI-EST, PIVA: 04995690965, Cellulare1: 347 0495915, Persona1: FRANCESCO, emailpers2: amministrazione@bomaki.it, RagSoc_Dest: IDEM, Indirizzo_Dest: VIA MELZO, 28\\nsearch_document: IDCliente: 12518, RagSoc: IOI S.R.L. - BOMAKI TOR DI QUINTO, Nominativo: BOMAKI, Categoria: RISTORANTE, NominativoContatto: SIG. MARCO PERROTTA, Indirizzo: CORSO SEMPIONE,8, CAP: 20154, Comune: MILANO, Prov: MI, Paese: Italia, Zona: ROMA, PIVA: 04995690965, Cellulare1: 346 8443085, Persona1: MARCO PERROTTA, Cellulare2: 366 6514832, Persona2: ROBERTA GIACOMINO, RagSoc_Dest: IOI S.R.L. - BOMAKI TOR DI QUINTO, Indirizzo_Dest: VIALE TOR DI QUINTO,35\\nsearch_document: IDCliente: 10009, RagSoc: IOI S.R.L. - BOMAKI CITY LIFE, Categoria: RISTORANTE, NominativoContatto: FRANCESCO, Indirizzo: CORSO SEMPIONE, 8, CAP: 20154, Comune: MILANO, Prov: MI, Paese: Italia, Zona: MI-OVEST ZTL, PIVA: 04995690965, Cellulare1: 347 0495915, Persona1: FRANCESCO, Persona2: ROBERTA GIACOMINO, emailpers2: r.giacomino@bomaki.it, RagSoc_Dest: IDEM, Indirizzo_Dest: P.ZZA TRE TORRI, 1/L\\nsearch_document: IDCliente: 9551, RagSoc: IOI SRL - BOMAKI FOPPA, Nominativo: BOMAKI, Categoria: RISTORANTE, NominativoContatto: FRANCESCO, Indirizzo: CORSO SEMPIONE, 8, CAP: 20154, Comune: MILANO, Prov: MI, Paese: Italia, Zona: MI-OVEST ZTL, PIVA: 04995690965, Cellulare1: 347 0495915, Persona1: FRANCESCO, RagSoc_Dest: IOI SRL - BOMAKI FOPPA, Indirizzo_Dest: LARGO LA FOPPA,1\\nsearch_document: IDCliente: 9550, RagSoc: IOI SRL - BOMAKI PORTA ROMANA, Nominativo: BOMAKI, Categoria: RISTORANTE, NominativoContatto: FRANCESCO, Indirizzo: CORSO SEMPIONE, 8, CAP: 20154, Comune: MILANO, Prov: MI, Paese: Italia, Zona: MI-SUD, PIVA: 04995690965, Cellulare1: 347 0495915, Persona1: FRANCESCO, RagSoc_Dest: IDEM, Indirizzo_Dest: VIA BERNARDINO CORIO, 8'"
      ]
     },
     "execution_count": 60,
     "metadata": {},
     "output_type": "execute_result"
    }
   ],
   "source": [
    "rag_results"
   ]
  },
  {
   "cell_type": "code",
   "execution_count": 100,
   "metadata": {},
   "outputs": [
    {
     "data": {
      "text/plain": [
       "\"search_query: Trovami l'IDCliente (Codice Identificatore Cliente) del seguente ordine: \\nBOMAKI\\nURAMAKERIA NIPPO BRASILIANA\\nOrdine di\\nacquisto\\nCod. Fornitore\\nF100143\\nVs. Riferimento\\nAgente\\nCondizioni e modalità di pagamento\\nBonifico SEPA 30 GG DF FM\\nNumero\\n230032104\\nP.IVA/Cod. fisc.\\nIT01576310039\\nData\\n13/12/2024\\nValuta\\nEUR\\nPag.\\n1 of 1\\n101 Srl\\nSede legale Corso Sempione 20154 Milano (MI) - Italia\\nP.IVA/C Fiscale IT04995690965\\nR.Ε.Α. 561011\\nTel. 0289071703\\nEmail: amministrazione@bomaki.it\\nWeb: www.bomaki.it\\nSpett.le\\nZOPPIS SRL\\nVIA PER ALZO 21\\n28017 SAN MAURIZIO D'OPAGLIO (NO) -\\nITALY\\nIndirizzo di spedizione\\nBomaki di:\\nVia Bernardino Corio 8\\n20135 MILANO\\nITALYVia Bernardino Corio 8\\n20135 MILANO\\n\\nCod. articola Descrizione articolo Qta U.M. Prezzo netto Cod. IVA Imponibile\\n19675 ACQUA BRILLANTE TONICA VAP 1.00 CT 11.95 22.00 14.58\\n15061 CACHACA LEBLON 70 MAISON LEBLON 6.00 CT 603.00 22.00 735.66\\n8729 GIN HENDRICK'S CL100 2.00 PZ 65.90 22.00 80.40\\n15666 HIERBAS DE IBIZA Litro AROMATICAS DE IBIZA! 12.00 PZ 203.40 22.00 248.15\\n24626 SAMBUCA RAMAZZOTI CL70 3.00 PZ 20.85 22.00 25.44\\n24945 SHARIS FELLUGA VENEZIE 30.00 PZ 289.50 22.00 353.19\\n13035 TEQUILA PATRON Silver CL70 2.00 PZ 67.50 22.00 82.35\\n20577 VODKA 42 BELOW LITRO 30.00 PZ 436.50 22.00 532.53\\n\""
      ]
     },
     "execution_count": 100,
     "metadata": {},
     "output_type": "execute_result"
    }
   ],
   "source": [
    "query"
   ]
  },
  {
   "cell_type": "code",
   "execution_count": null,
   "metadata": {},
   "outputs": [],
   "source": [
    "rag_results = \"\\n\".join(df_clienti_full_text.loc[top_5_indices].astype(str).tolist())\n",
    "prompt_rag = f\"\"\"search_query: Trovami l'IDCliente (Codice Identificatore Cliente) del seguente ordine:\n",
    "🚀 **IMPORTANTE: INIZIO ORDINE** 🚀\n",
    "\n",
    "\\nBOMAKI\\nURAMAKERIA NIPPO BRASILIANA\\nOrdine di\\nacquisto\\nCod. Fornitore\\nF100143\\nVs. Riferimento\\nAgente\\nCondizioni e modalità di pagamento\\nBonifico SEPA 30 GG DF FM\\nNumero\\n230032104\\nP.IVA/Cod. fisc.\\nIT01576310039\\nData\\n13/12/2024\\nValuta\\nEUR\\nPag.\\n1 of 1\\n101 Srl\\nSede legale Corso Sempione 20154 Milano (MI) - Italia\\nP.IVA/C Fiscale IT04995690965\\nR.Ε.Α. 561011\\nTel. 0289071703\\nEmail: amministrazione@bomaki.it\\nWeb: www.bomaki.it\\nSpett.le\\nZOPPIS SRL\\nVIA PER ALZO 21\\n28017 SAN MAURIZIO D'OPAGLIO (NO) -\\nITALY\\nIndirizzo di spedizione\\nBomaki di:\\nVia Bernardino Corio 8\\n20135 MILANO\\nITALYVia Bernardino Corio 8\\n20135 MILANO\\n\\nCod. articola Descrizione articolo Qta U.M. Prezzo netto Cod. IVA Imponibile\\n19675 ACQUA BRILLANTE TONICA VAP 1.00 CT 11.95 22.00 14.58\\n15061 CACHACA LEBLON 70 MAISON LEBLON 6.00 CT 603.00 22.00 735.66\\n8729 GIN HENDRICK'S CL100 2.00 PZ 65.90 22.00 80.40\\n15666 HIERBAS DE IBIZA Litro AROMATICAS DE IBIZA! 12.00 PZ 203.40 22.00 248.15\\n24626 SAMBUCA RAMAZZOTI CL70 3.00 PZ 20.85 22.00 25.44\\n24945 SHARIS FELLUGA VENEZIE 30.00 PZ 289.50 22.00 353.19\\n13035 TEQUILA PATRON Silver CL70 2.00 PZ 67.50 22.00 82.35\\n20577 VODKA 42 BELOW LITRO 30.00 PZ 436.50 22.00 532.53\\n\n",
    "\n",
    " **IMPORTANTE: FINE ORDINE**\n",
    "\n",
    " \"sapendo che tramite RAG ho ottenuto i full text (stringa contenente tutti i dati strutturati tabellari) dei clienti più simili all'ordine in oggetto. Riporto di seguito i dati full text dei clienti più simili all'ordine. Dai importanza sopratutto alla destinazione dell'ordine e alla ragione sociale dell'ordine (l'Indirizzo Dest la RagSoc nella tabella) per scegliere la riga trai top-k che ti propongo! \\n\"\n",
    "  \n",
    " 🚀 **IMPORTANTE: INIZIO ELENCO DATI ESTRATTI TRAMITE RAG** 🚀\n",
    " {rag_results}\n",
    "\n",
    "  **IMPORTANTE: FINE ELENCO DATI ESTRATTI TRAMITE RAG**\n",
    "\n",
    "\"\\nRestituiscimi soltanto l'IDCliente, la RagSoc e l'Indirizzo Dest\"\" \n",
    "\"\"\""
   ]
  },
  {
   "cell_type": "code",
   "execution_count": 104,
   "metadata": {},
   "outputs": [
    {
     "data": {
      "text/plain": [
       "'search_query: Trovami l\\'IDCliente (Codice Identificatore Cliente) del seguente ordine:\\n🚀 **IMPORTANTE: INIZIO ORDINE** 🚀\\n\\n\\nBOMAKI\\nURAMAKERIA NIPPO BRASILIANA\\nOrdine di\\nacquisto\\nCod. Fornitore\\nF100143\\nVs. Riferimento\\nAgente\\nCondizioni e modalità di pagamento\\nBonifico SEPA 30 GG DF FM\\nNumero\\n230032104\\nP.IVA/Cod. fisc.\\nIT01576310039\\nData\\n13/12/2024\\nValuta\\nEUR\\nPag.\\n1 of 1\\n101 Srl\\nSede legale Corso Sempione 20154 Milano (MI) - Italia\\nP.IVA/C Fiscale IT04995690965\\nR.Ε.Α. 561011\\nTel. 0289071703\\nEmail: amministrazione@bomaki.it\\nWeb: www.bomaki.it\\nSpett.le\\nZOPPIS SRL\\nVIA PER ALZO 21\\n28017 SAN MAURIZIO D\\'OPAGLIO (NO) -\\nITALY\\nIndirizzo di spedizione\\nBomaki di:\\nVia Bernardino Corio 8\\n20135 MILANO\\nITALYVia Bernardino Corio 8\\n20135 MILANO\\n\\nCod. articola Descrizione articolo Qta U.M. Prezzo netto Cod. IVA Imponibile\\n19675 ACQUA BRILLANTE TONICA VAP 1.00 CT 11.95 22.00 14.58\\n15061 CACHACA LEBLON 70 MAISON LEBLON 6.00 CT 603.00 22.00 735.66\\n8729 GIN HENDRICK\\'S CL100 2.00 PZ 65.90 22.00 80.40\\n15666 HIERBAS DE IBIZA Litro AROMATICAS DE IBIZA! 12.00 PZ 203.40 22.00 248.15\\n24626 SAMBUCA RAMAZZOTI CL70 3.00 PZ 20.85 22.00 25.44\\n24945 SHARIS FELLUGA VENEZIE 30.00 PZ 289.50 22.00 353.19\\n13035 TEQUILA PATRON Silver CL70 2.00 PZ 67.50 22.00 82.35\\n20577 VODKA 42 BELOW LITRO 30.00 PZ 436.50 22.00 532.53\\n\\n\\n **IMPORTANTE: FINE ORDINE**\\n\\n \"sapendo che tramite RAG ho ottenuto i full text (stringa contenente tutti i dati strutturati tabellari) dei clienti più simili all\\'ordine in oggetto. Riporto di seguito i dati full text dei clienti più simili all\\'ordine. Dai importanza sopratutto alla destinazione dell\\'ordine e alla ragione sociale dell\\'ordine (l\\'Indirizzo Dest la RagSoc nella tabella) per scegliere la riga trai top-k che ti propongo! \\n\"\\n  \\n 🚀 **IMPORTANTE: INIZIO ELENCO DATI ESTRATTI TRAMITE RAG** 🚀\\n search_document: IDCliente: 10044, RagSoc: IOI S.R.L. - BOMAKI MELZO, Nominativo: BOMAKI, Categoria: RISTORANTE, NominativoContatto: ROBERTA GIACOMINO, Indirizzo: CORSO SEMPIONE, 8, CAP: 20154, Comune: MILANO, Prov: MI, Paese: Italia, Zona: MI-EST, PIVA: 04995690965, Cellulare1: 347 0495915, Persona1: FRANCESCO, emailpers2: amministrazione@bomaki.it, RagSoc_Dest: IDEM, Indirizzo_Dest: VIA MELZO, 28\\nsearch_document: IDCliente: 12518, RagSoc: IOI S.R.L. - BOMAKI TOR DI QUINTO, Nominativo: BOMAKI, Categoria: RISTORANTE, NominativoContatto: SIG. MARCO PERROTTA, Indirizzo: CORSO SEMPIONE,8, CAP: 20154, Comune: MILANO, Prov: MI, Paese: Italia, Zona: ROMA, PIVA: 04995690965, Cellulare1: 346 8443085, Persona1: MARCO PERROTTA, Cellulare2: 366 6514832, Persona2: ROBERTA GIACOMINO, RagSoc_Dest: IOI S.R.L. - BOMAKI TOR DI QUINTO, Indirizzo_Dest: VIALE TOR DI QUINTO,35\\nsearch_document: IDCliente: 10009, RagSoc: IOI S.R.L. - BOMAKI CITY LIFE, Categoria: RISTORANTE, NominativoContatto: FRANCESCO, Indirizzo: CORSO SEMPIONE, 8, CAP: 20154, Comune: MILANO, Prov: MI, Paese: Italia, Zona: MI-OVEST ZTL, PIVA: 04995690965, Cellulare1: 347 0495915, Persona1: FRANCESCO, Persona2: ROBERTA GIACOMINO, emailpers2: r.giacomino@bomaki.it, RagSoc_Dest: IDEM, Indirizzo_Dest: P.ZZA TRE TORRI, 1/L\\nsearch_document: IDCliente: 9551, RagSoc: IOI SRL - BOMAKI FOPPA, Nominativo: BOMAKI, Categoria: RISTORANTE, NominativoContatto: FRANCESCO, Indirizzo: CORSO SEMPIONE, 8, CAP: 20154, Comune: MILANO, Prov: MI, Paese: Italia, Zona: MI-OVEST ZTL, PIVA: 04995690965, Cellulare1: 347 0495915, Persona1: FRANCESCO, RagSoc_Dest: IOI SRL - BOMAKI FOPPA, Indirizzo_Dest: LARGO LA FOPPA,1\\nsearch_document: IDCliente: 9550, RagSoc: IOI SRL - BOMAKI PORTA ROMANA, Nominativo: BOMAKI, Categoria: RISTORANTE, NominativoContatto: FRANCESCO, Indirizzo: CORSO SEMPIONE, 8, CAP: 20154, Comune: MILANO, Prov: MI, Paese: Italia, Zona: MI-SUD, PIVA: 04995690965, Cellulare1: 347 0495915, Persona1: FRANCESCO, RagSoc_Dest: IDEM, Indirizzo_Dest: VIA BERNARDINO CORIO, 8\\n\\n  **IMPORTANTE: FINE ELENCO DATI ESTRATTI TRAMITE RAG**\\n\\n\"\\nRestituiscimi soltanto l\\'IDCliente, la RagSoc e l\\'Indirizzo Dest\"\" '"
      ]
     },
     "execution_count": 104,
     "metadata": {},
     "output_type": "execute_result"
    }
   ],
   "source": [
    "prompt_rag"
   ]
  },
  {
   "cell_type": "code",
   "execution_count": null,
   "metadata": {},
   "outputs": [],
   "source": [
    "rag_results = \"\\n\".join(df_clienti_full_text.loc[top_5_indices].astype(str).tolist())\n",
    "prompt_rag = query + \"sapendo che tramite RAG ho ottenuto i full text (stringa contenente tutti i dati strutturati tabellari) dei clienti più simili all'ordine in oggetto. Riporto di seguito i dati full text dei clienti più simili all'ordine. Dai importanza sopratutto alla destinazione dell'ordine e alla ragione sociale dell'ordine (l'Indirizzo Dest la RagSoc nella tabella) per scegliere la riga trai top-k che ti propongo! \\n\" + rag_results + \"\\nRestituiscimi soltanto l'IDCliente, la RagSoc e l'Indirizzo Dest\""
   ]
  },
  {
   "cell_type": "code",
   "execution_count": 93,
   "metadata": {},
   "outputs": [],
   "source": [
    "rag_results = \"\\n\".join(df_clienti_full_text.loc[top_5_indices].astype(str).tolist())\n",
    "prompt_rag = query + \"sapendo che tramite RAG ho ottenuto i full text (stringa contenente tutti i dati strutturati tabellari) dei clienti più simili all'ordine in oggetto. Riporto di seguito i dati full text dei clienti più simili all'ordine. GUARDA LA destinazione dell'ordine (la via e in base a quello scegli la riga giusta) e alla ragione sociale dell'ordine (l'Indirizzo Dest la RagSoc nella tabella) per scegliere la riga trai top-k che ti propongo! \\n\" + rag_results + \"\\nRestituiscimi soltanto l'IDCliente, la RagSoc e l'Indirizzo Dest. SPiegami poi il perchè della tua scelta motivando su quali elementi dell'ordine ti sei affidato\""
   ]
  },
  {
   "cell_type": "code",
   "execution_count": 105,
   "metadata": {},
   "outputs": [
    {
     "name": "stdout",
     "output_type": "stream",
     "text": [
      "search_query: Trovami l'IDCliente (Codice Identificatore Cliente) del seguente ordine:\n",
      "🚀 **IMPORTANTE: INIZIO ORDINE** 🚀\n",
      "\n",
      "\n",
      "BOMAKI\n",
      "URAMAKERIA NIPPO BRASILIANA\n",
      "Ordine di\n",
      "acquisto\n",
      "Cod. Fornitore\n",
      "F100143\n",
      "Vs. Riferimento\n",
      "Agente\n",
      "Condizioni e modalità di pagamento\n",
      "Bonifico SEPA 30 GG DF FM\n",
      "Numero\n",
      "230032104\n",
      "P.IVA/Cod. fisc.\n",
      "IT01576310039\n",
      "Data\n",
      "13/12/2024\n",
      "Valuta\n",
      "EUR\n",
      "Pag.\n",
      "1 of 1\n",
      "101 Srl\n",
      "Sede legale Corso Sempione 20154 Milano (MI) - Italia\n",
      "P.IVA/C Fiscale IT04995690965\n",
      "R.Ε.Α. 561011\n",
      "Tel. 0289071703\n",
      "Email: amministrazione@bomaki.it\n",
      "Web: www.bomaki.it\n",
      "Spett.le\n",
      "ZOPPIS SRL\n",
      "VIA PER ALZO 21\n",
      "28017 SAN MAURIZIO D'OPAGLIO (NO) -\n",
      "ITALY\n",
      "Indirizzo di spedizione\n",
      "Bomaki di:\n",
      "Via Bernardino Corio 8\n",
      "20135 MILANO\n",
      "ITALYVia Bernardino Corio 8\n",
      "20135 MILANO\n",
      "\n",
      "Cod. articola Descrizione articolo Qta U.M. Prezzo netto Cod. IVA Imponibile\n",
      "19675 ACQUA BRILLANTE TONICA VAP 1.00 CT 11.95 22.00 14.58\n",
      "15061 CACHACA LEBLON 70 MAISON LEBLON 6.00 CT 603.00 22.00 735.66\n",
      "8729 GIN HENDRICK'S CL100 2.00 PZ 65.90 22.00 80.40\n",
      "15666 HIERBAS DE IBIZA Litro AROMATICAS DE IBIZA! 12.00 PZ 203.40 22.00 248.15\n",
      "24626 SAMBUCA RAMAZZOTI CL70 3.00 PZ 20.85 22.00 25.44\n",
      "24945 SHARIS FELLUGA VENEZIE 30.00 PZ 289.50 22.00 353.19\n",
      "13035 TEQUILA PATRON Silver CL70 2.00 PZ 67.50 22.00 82.35\n",
      "20577 VODKA 42 BELOW LITRO 30.00 PZ 436.50 22.00 532.53\n",
      "\n",
      "\n",
      " **IMPORTANTE: FINE ORDINE**\n",
      "\n",
      " \"sapendo che tramite RAG ho ottenuto i full text (stringa contenente tutti i dati strutturati tabellari) dei clienti più simili all'ordine in oggetto. Riporto di seguito i dati full text dei clienti più simili all'ordine. Dai importanza sopratutto alla destinazione dell'ordine e alla ragione sociale dell'ordine (l'Indirizzo Dest la RagSoc nella tabella) per scegliere la riga trai top-k che ti propongo! \n",
      "\"\n",
      "  \n",
      " 🚀 **IMPORTANTE: INIZIO ELENCO DATI ESTRATTI TRAMITE RAG** 🚀\n",
      " search_document: IDCliente: 10044, RagSoc: IOI S.R.L. - BOMAKI MELZO, Nominativo: BOMAKI, Categoria: RISTORANTE, NominativoContatto: ROBERTA GIACOMINO, Indirizzo: CORSO SEMPIONE, 8, CAP: 20154, Comune: MILANO, Prov: MI, Paese: Italia, Zona: MI-EST, PIVA: 04995690965, Cellulare1: 347 0495915, Persona1: FRANCESCO, emailpers2: amministrazione@bomaki.it, RagSoc_Dest: IDEM, Indirizzo_Dest: VIA MELZO, 28\n",
      "search_document: IDCliente: 12518, RagSoc: IOI S.R.L. - BOMAKI TOR DI QUINTO, Nominativo: BOMAKI, Categoria: RISTORANTE, NominativoContatto: SIG. MARCO PERROTTA, Indirizzo: CORSO SEMPIONE,8, CAP: 20154, Comune: MILANO, Prov: MI, Paese: Italia, Zona: ROMA, PIVA: 04995690965, Cellulare1: 346 8443085, Persona1: MARCO PERROTTA, Cellulare2: 366 6514832, Persona2: ROBERTA GIACOMINO, RagSoc_Dest: IOI S.R.L. - BOMAKI TOR DI QUINTO, Indirizzo_Dest: VIALE TOR DI QUINTO,35\n",
      "search_document: IDCliente: 10009, RagSoc: IOI S.R.L. - BOMAKI CITY LIFE, Categoria: RISTORANTE, NominativoContatto: FRANCESCO, Indirizzo: CORSO SEMPIONE, 8, CAP: 20154, Comune: MILANO, Prov: MI, Paese: Italia, Zona: MI-OVEST ZTL, PIVA: 04995690965, Cellulare1: 347 0495915, Persona1: FRANCESCO, Persona2: ROBERTA GIACOMINO, emailpers2: r.giacomino@bomaki.it, RagSoc_Dest: IDEM, Indirizzo_Dest: P.ZZA TRE TORRI, 1/L\n",
      "search_document: IDCliente: 9551, RagSoc: IOI SRL - BOMAKI FOPPA, Nominativo: BOMAKI, Categoria: RISTORANTE, NominativoContatto: FRANCESCO, Indirizzo: CORSO SEMPIONE, 8, CAP: 20154, Comune: MILANO, Prov: MI, Paese: Italia, Zona: MI-OVEST ZTL, PIVA: 04995690965, Cellulare1: 347 0495915, Persona1: FRANCESCO, RagSoc_Dest: IOI SRL - BOMAKI FOPPA, Indirizzo_Dest: LARGO LA FOPPA,1\n",
      "search_document: IDCliente: 9550, RagSoc: IOI SRL - BOMAKI PORTA ROMANA, Nominativo: BOMAKI, Categoria: RISTORANTE, NominativoContatto: FRANCESCO, Indirizzo: CORSO SEMPIONE, 8, CAP: 20154, Comune: MILANO, Prov: MI, Paese: Italia, Zona: MI-SUD, PIVA: 04995690965, Cellulare1: 347 0495915, Persona1: FRANCESCO, RagSoc_Dest: IDEM, Indirizzo_Dest: VIA BERNARDINO CORIO, 8\n",
      "\n",
      "  **IMPORTANTE: FINE ELENCO DATI ESTRATTI TRAMITE RAG**\n",
      "\n",
      "\"\n",
      "Restituiscimi soltanto l'IDCliente, la RagSoc e l'Indirizzo Dest\"\" \n"
     ]
    }
   ],
   "source": [
    "print(prompt_rag)"
   ]
  },
  {
   "cell_type": "code",
   "execution_count": 91,
   "metadata": {},
   "outputs": [
    {
     "data": {
      "text/plain": [
       "3792"
      ]
     },
     "execution_count": 91,
     "metadata": {},
     "output_type": "execute_result"
    }
   ],
   "source": [
    "len(prompt_rag)"
   ]
  },
  {
   "cell_type": "code",
   "execution_count": 106,
   "metadata": {},
   "outputs": [
    {
     "name": "stdout",
     "output_type": "stream",
     "text": [
      "10044\n"
     ]
    }
   ],
   "source": [
    "response = ollama.chat(model=\"gemma3:4b\", messages=[{\"role\": \"user\", \"content\": prompt_rag}])\n",
    "\n",
    "print(response[\"message\"][\"content\"])\n"
   ]
  },
  {
   "cell_type": "code",
   "execution_count": 107,
   "metadata": {},
   "outputs": [
    {
     "name": "stdout",
     "output_type": "stream",
     "text": [
      "<think>\n",
      "Alright, I need to help the user find the IDCliente (Codice Identificatore Cliente) for a specific order. Let me break down what they've provided.\n",
      "\n",
      "First, there's an order with several details: product codes, quantities, unit prices, and some payment information. The order is from BOMAKI, and it seems to be related to a restaurant, given the terms like \"RISORANTA\" which translates to restaurant in Italian.\n",
      "\n",
      "The user also included results from RAG (which I assume is a tool or method they use to extract customer data), providing several customer entries with IDs like 10044, 12518, etc. Each entry has details like RagSoc (a company name), contact person, and destination address.\n",
      "\n",
      "The user's request is to return only the IDCliente, RagSoc, and Indirizzo Dest. From the RAG results provided:\n",
      "\n",
      "- IDCliente: 10044, RagSoc: IOI S.R.L. - BOMAKI TOR DI QUINTO, Indirizzo_Dest: VIALE TOR DI QUINTO,35\n",
      "- IDCliente: 12518, RagSoc: IOI S.R.L. - BOMAKI TOR DI QUINTO, Indirizzo_Dest: VIALE TOR DI QUINTO,35\n",
      "\n",
      "However, there's another entry for IDCliente:9550 with RagSoc Dest as \"VIA BERNARDINO CORIO, 8\". I need to determine which one is relevant. The order provided by the user doesn't specify a destination zone or area, but it does mention MI-SUD (Southern Milano) in its contact details.\n",
      "\n",
      "Looking at the RAG results for IDCliente:9550, their destination address is \"VIA BERNARDINO CORIO, 8\", which aligns with the MI-SUD region. This makes sense since the order includes a product from FOPPA, which might be specific to that area.\n",
      "\n",
      "Therefore, I should focus on this entry as it matches the regional context of the order.\n",
      "</think>\n",
      "\n",
      "Per ottenere l'IDCliente (Codice Identificatore Cliente) corrispondente all'ordine specifico richiesto, seguiamo i passaggi seguenti:\n",
      "\n",
      "1. **Riferimenti al documento della ricerca di query**: L'utente ha fornito diversi riferimenti che coinvolgono vari clienti e le loro informazioni contattative, tra cui IDCliente, RagSoc (denominazionesocialeggiante) e Indirizzo Dest.\n",
      "\n",
      "2. **Analisi del documento della ricerca di query**: Dall'analisi delle diverse righe di ricerca di query, possiamo ottenere una serie di informazioni relative ai clienti che si sono associati all'attività di BOMAKI.\n",
      "\n",
      "3. **Ricerca specifica dell'IDCliente**: Attraverso l'uso del campo \"IDCliente\" presente nelle diverse ricerche di query, possiamo isolare i clienti che si riferiscono all'attività di BOMAKI.\n",
      "\n",
      "4. **Valutazione delle informazioni correlate**: Tra gli IDClienti forniti (10044, 12518, 10009, 9551, 9550),RTFASSIA necessario individuare il cliente che si riferisce all'ordine specifico richiesto.\n",
      "\n",
      "5. **Confronto con i dettagli dell'ordine di invio**: L'utente ha fornito informazioni relative all'ordine di invio, tra cui l'indirizzo di contatto: CORSO SEMPIONE, 8, CAP: 20154, Comune: MILANO.\n",
      "\n",
      "6. **Determinazione dell'IDCliente corretto**: Attraverso il confronto delle informazioni fornite (documento della ricerca di query) con le informazioni relative all'ordine di invio, possiamo determinare che l'IDCliente corrispondente all'ordine richiesto è **9550**.\n",
      "\n",
      "**Risposta finale**: L'IDCliente (Codice Identificatore Cliente) corrispondente all'ordine specifico richiesto è 9550."
     ]
    }
   ],
   "source": [
    "for chunk in ollama.chat(model=\"deepseek-r1:7b\", messages=[{\"role\": \"user\", \"content\": prompt_rag}], stream=True):\n",
    "    print(chunk[\"message\"][\"content\"], end=\"\", flush=True)\n"
   ]
  },
  {
   "cell_type": "code",
   "execution_count": null,
   "metadata": {},
   "outputs": [],
   "source": []
  },
  {
   "cell_type": "code",
   "execution_count": 97,
   "metadata": {},
   "outputs": [
    {
     "name": "stdout",
     "output_type": "stream",
     "text": [
      "NAME                       ID              SIZE      MODIFIED     \n",
      "nomic-embed-text:latest    0a109f422b47    274 MB    25 hours ago    \n",
      "gemma3:1b                  2d27a774bc62    815 MB    2 days ago      \n",
      "llava-phi3:3.8b            c7edd7b87593    2.9 GB    2 days ago      \n",
      "gemma3:4b                  c0494fe00251    3.3 GB    2 days ago      \n",
      "deepseek-r1:7b             0a8c26691023    4.7 GB    2 days ago      \n",
      "gemma3:12b                 6fd036cefda5    8.1 GB    2 days ago      \n",
      "llama3.2:3b                a80c4f17acd5    2.0 GB    6 days ago      \n",
      "llama3.2:latest            a80c4f17acd5    2.0 GB    2 months ago    \n"
     ]
    }
   ],
   "source": [
    "!ollama list"
   ]
  },
  {
   "cell_type": "code",
   "execution_count": 108,
   "metadata": {},
   "outputs": [
    {
     "name": "stdout",
     "output_type": "stream",
     "text": [
      "529\n"
     ]
    }
   ],
   "source": [
    "def count_tokens_simple(text):\n",
    "    return len(text.split())\n",
    "\n",
    "print(count_tokens_simple(prompt_rag))\n"
   ]
  },
  {
   "cell_type": "code",
   "execution_count": 111,
   "metadata": {},
   "outputs": [
    {
     "data": {
      "text/plain": [
       "'search_query: Trovami l\\'IDCliente (Codice Identificatore Cliente) del seguente ordine:\\n🚀 **IMPORTANTE: INIZIO ORDINE** 🚀\\n\\n\\nBOMAKI\\nURAMAKERIA NIPPO BRASILIANA\\nOrdine di\\nacquisto\\nCod. Fornitore\\nF100143\\nVs. Riferimento\\nAgente\\nCondizioni e modalità di pagamento\\nBonifico SEPA 30 GG DF FM\\nNumero\\n230032104\\nP.IVA/Cod. fisc.\\nIT01576310039\\nData\\n13/12/2024\\nValuta\\nEUR\\nPag.\\n1 of 1\\n101 Srl\\nSede legale Corso Sempione 20154 Milano (MI) - Italia\\nP.IVA/C Fiscale IT04995690965\\nR.Ε.Α. 561011\\nTel. 0289071703\\nEmail: amministrazione@bomaki.it\\nWeb: www.bomaki.it\\nSpett.le\\nZOPPIS SRL\\nVIA PER ALZO 21\\n28017 SAN MAURIZIO D\\'OPAGLIO (NO) -\\nITALY\\nIndirizzo di spedizione\\nBomaki di:\\nVia Bernardino Corio 8\\n20135 MILANO\\nITALYVia Bernardino Corio 8\\n20135 MILANO\\n\\nCod. articola Descrizione articolo Qta U.M. Prezzo netto Cod. IVA Imponibile\\n19675 ACQUA BRILLANTE TONICA VAP 1.00 CT 11.95 22.00 14.58\\n15061 CACHACA LEBLON 70 MAISON LEBLON 6.00 CT 603.00 22.00 735.66\\n8729 GIN HENDRICK\\'S CL100 2.00 PZ 65.90 22.00 80.40\\n15666 HIERBAS DE IBIZA Litro AROMATICAS DE IBIZA! 12.00 PZ 203.40 22.00 248.15\\n24626 SAMBUCA RAMAZZOTI CL70 3.00 PZ 20.85 22.00 25.44\\n24945 SHARIS FELLUGA VENEZIE 30.00 PZ 289.50 22.00 353.19\\n13035 TEQUILA PATRON Silver CL70 2.00 PZ 67.50 22.00 82.35\\n20577 VODKA 42 BELOW LITRO 30.00 PZ 436.50 22.00 532.53\\n\\n\\n **IMPORTANTE: FINE ORDINE**\\n\\n \"sapendo che tramite RAG ho ottenuto i full text (stringa contenente tutti i dati strutturati tabellari) dei clienti più simili all\\'ordine in oggetto. Riporto di seguito i dati full text dei clienti più simili all\\'ordine. Dai importanza sopratutto alla destinazione dell\\'ordine e alla ragione sociale dell\\'ordine (l\\'Indirizzo Dest la RagSoc nella tabella) per scegliere la riga trai top-k che ti propongo! \\n\"\\n  \\n 🚀 **IMPORTANTE: INIZIO ELENCO DATI ESTRATTI TRAMITE RAG** 🚀\\n search_document: IDCliente: 10044, RagSoc: IOI S.R.L. - BOMAKI MELZO, Nominativo: BOMAKI, Categoria: RISTORANTE, NominativoContatto: ROBERTA GIACOMINO, Indirizzo: CORSO SEMPIONE, 8, CAP: 20154, Comune: MILANO, Prov: MI, Paese: Italia, Zona: MI-EST, PIVA: 04995690965, Cellulare1: 347 0495915, Persona1: FRANCESCO, emailpers2: amministrazione@bomaki.it, RagSoc_Dest: IDEM, Indirizzo_Dest: VIA MELZO, 28\\nsearch_document: IDCliente: 12518, RagSoc: IOI S.R.L. - BOMAKI TOR DI QUINTO, Nominativo: BOMAKI, Categoria: RISTORANTE, NominativoContatto: SIG. MARCO PERROTTA, Indirizzo: CORSO SEMPIONE,8, CAP: 20154, Comune: MILANO, Prov: MI, Paese: Italia, Zona: ROMA, PIVA: 04995690965, Cellulare1: 346 8443085, Persona1: MARCO PERROTTA, Cellulare2: 366 6514832, Persona2: ROBERTA GIACOMINO, RagSoc_Dest: IOI S.R.L. - BOMAKI TOR DI QUINTO, Indirizzo_Dest: VIALE TOR DI QUINTO,35\\nsearch_document: IDCliente: 10009, RagSoc: IOI S.R.L. - BOMAKI CITY LIFE, Categoria: RISTORANTE, NominativoContatto: FRANCESCO, Indirizzo: CORSO SEMPIONE, 8, CAP: 20154, Comune: MILANO, Prov: MI, Paese: Italia, Zona: MI-OVEST ZTL, PIVA: 04995690965, Cellulare1: 347 0495915, Persona1: FRANCESCO, Persona2: ROBERTA GIACOMINO, emailpers2: r.giacomino@bomaki.it, RagSoc_Dest: IDEM, Indirizzo_Dest: P.ZZA TRE TORRI, 1/L\\nsearch_document: IDCliente: 9551, RagSoc: IOI SRL - BOMAKI FOPPA, Nominativo: BOMAKI, Categoria: RISTORANTE, NominativoContatto: FRANCESCO, Indirizzo: CORSO SEMPIONE, 8, CAP: 20154, Comune: MILANO, Prov: MI, Paese: Italia, Zona: MI-OVEST ZTL, PIVA: 04995690965, Cellulare1: 347 0495915, Persona1: FRANCESCO, RagSoc_Dest: IOI SRL - BOMAKI FOPPA, Indirizzo_Dest: LARGO LA FOPPA,1\\nsearch_document: IDCliente: 9550, RagSoc: IOI SRL - BOMAKI PORTA ROMANA, Nominativo: BOMAKI, Categoria: RISTORANTE, NominativoContatto: FRANCESCO, Indirizzo: CORSO SEMPIONE, 8, CAP: 20154, Comune: MILANO, Prov: MI, Paese: Italia, Zona: MI-SUD, PIVA: 04995690965, Cellulare1: 347 0495915, Persona1: FRANCESCO, RagSoc_Dest: IDEM, Indirizzo_Dest: VIA BERNARDINO CORIO, 8\\n\\n  **IMPORTANTE: FINE ELENCO DATI ESTRATTI TRAMITE RAG**\\n\\n\"\\nRestituiscimi soltanto l\\'IDCliente, la RagSoc e l\\'Indirizzo Dest\"\" '"
      ]
     },
     "execution_count": 111,
     "metadata": {},
     "output_type": "execute_result"
    }
   ],
   "source": [
    "prompt_rag"
   ]
  },
  {
   "cell_type": "code",
   "execution_count": 112,
   "metadata": {},
   "outputs": [
    {
     "name": "stdout",
     "output_type": "stream",
     "text": [
      "IDCliente: 9550, RagSoc: IOI SRL - BOMAKI PORTA ROMANA, Indirizzo Dest: VIA BERNARDINO CORIO, 8\n",
      "\n"
     ]
    }
   ],
   "source": [
    "import google.generativeai as genai\n",
    "import os\n",
    "import base64\n",
    "from dotenv import load_dotenv\n",
    "\n",
    "# Carica la chiave API da variabili d'ambiente\n",
    "load_dotenv()\n",
    "API_KEY = os.environ.get(\"GOOGLE_API_KEY\")\n",
    "\n",
    "# Configura Gemini\n",
    "genai.configure(api_key=API_KEY)\n",
    "model = genai.GenerativeModel(\"gemini-2.0-flash\")\n",
    "response = model.generate_content(prompt_rag)\n",
    "print(response.text)\n"
   ]
  },
  {
   "cell_type": "markdown",
   "metadata": {},
   "source": [
    "### verifiche"
   ]
  },
  {
   "cell_type": "code",
   "execution_count": 34,
   "metadata": {},
   "outputs": [
    {
     "data": {
      "text/plain": [
       "4128    search_document: IDCliente: 10044, RagSoc: IOI...\n",
       "5703    search_document: IDCliente: 12518, RagSoc: IOI...\n",
       "4103    search_document: IDCliente: 10009, RagSoc: IOI...\n",
       "3830    search_document: IDCliente: 9551, RagSoc: IOI ...\n",
       "3829    search_document: IDCliente: 9550, RagSoc: IOI ...\n",
       "Name: full_text, dtype: object"
      ]
     },
     "execution_count": 34,
     "metadata": {},
     "output_type": "execute_result"
    }
   ],
   "source": [
    "df_clienti_full_text.loc[[4128, 5703, 4103, 3830, 3829]]"
   ]
  },
  {
   "cell_type": "code",
   "execution_count": 130,
   "metadata": {},
   "outputs": [
    {
     "data": {
      "text/plain": [
       "4128    IDCliente: 10044, RagSoc: IOI S.R.L. - BOMAKI ...\n",
       "4103    IDCliente: 10009, RagSoc: IOI S.R.L. - BOMAKI ...\n",
       "5703    IDCliente: 12518, RagSoc: IOI S.R.L. - BOMAKI ...\n",
       "5569    IDCliente: 12312, RagSoc: IOI S.R.L. - BOMAKI ...\n",
       "4104    IDCliente: 10010, RagSoc: IOI S.R.L. - BOMAKI ...\n",
       "Name: full_text, dtype: object"
      ]
     },
     "execution_count": 130,
     "metadata": {},
     "output_type": "execute_result"
    }
   ],
   "source": [
    "df_clienti_full_text.loc[[4128,4103,5703,5569,4104]]"
   ]
  },
  {
   "cell_type": "code",
   "execution_count": 35,
   "metadata": {},
   "outputs": [
    {
     "data": {
      "text/html": [
       "<div>\n",
       "<style scoped>\n",
       "    .dataframe tbody tr th:only-of-type {\n",
       "        vertical-align: middle;\n",
       "    }\n",
       "\n",
       "    .dataframe tbody tr th {\n",
       "        vertical-align: top;\n",
       "    }\n",
       "\n",
       "    .dataframe thead th {\n",
       "        text-align: right;\n",
       "    }\n",
       "</style>\n",
       "<table border=\"1\" class=\"dataframe\">\n",
       "  <thead>\n",
       "    <tr style=\"text-align: right;\">\n",
       "      <th></th>\n",
       "      <th>IDCliente</th>\n",
       "      <th>RagSoc</th>\n",
       "      <th>Nominativo</th>\n",
       "      <th>Categoria</th>\n",
       "      <th>NominativoContatto</th>\n",
       "      <th>Indirizzo</th>\n",
       "      <th>CAP</th>\n",
       "      <th>Comune</th>\n",
       "      <th>Prov</th>\n",
       "      <th>Paese</th>\n",
       "      <th>...</th>\n",
       "      <th>emailpers3</th>\n",
       "      <th>cellulare4</th>\n",
       "      <th>persona4</th>\n",
       "      <th>emailpers4</th>\n",
       "      <th>cellulare5</th>\n",
       "      <th>persona5</th>\n",
       "      <th>emailpers5</th>\n",
       "      <th>RagSoc_Dest</th>\n",
       "      <th>Indirizzo_Dest</th>\n",
       "      <th>full_text</th>\n",
       "    </tr>\n",
       "  </thead>\n",
       "  <tbody>\n",
       "    <tr>\n",
       "      <th>4128</th>\n",
       "      <td>10044</td>\n",
       "      <td>IOI S.R.L. - BOMAKI MELZO</td>\n",
       "      <td>BOMAKI</td>\n",
       "      <td>RISTORANTE</td>\n",
       "      <td>ROBERTA GIACOMINO</td>\n",
       "      <td>CORSO SEMPIONE, 8</td>\n",
       "      <td>20154</td>\n",
       "      <td>MILANO</td>\n",
       "      <td>MI</td>\n",
       "      <td>Italia</td>\n",
       "      <td>...</td>\n",
       "      <td>NaN</td>\n",
       "      <td>NaN</td>\n",
       "      <td>NaN</td>\n",
       "      <td>NaN</td>\n",
       "      <td>NaN</td>\n",
       "      <td>NaN</td>\n",
       "      <td>NaN</td>\n",
       "      <td>IDEM</td>\n",
       "      <td>VIA MELZO, 28</td>\n",
       "      <td>search_document: IDCliente: 10044, RagSoc: IOI...</td>\n",
       "    </tr>\n",
       "    <tr>\n",
       "      <th>5703</th>\n",
       "      <td>12518</td>\n",
       "      <td>IOI S.R.L. - BOMAKI TOR DI QUINTO</td>\n",
       "      <td>BOMAKI</td>\n",
       "      <td>RISTORANTE</td>\n",
       "      <td>SIG. MARCO PERROTTA</td>\n",
       "      <td>CORSO SEMPIONE,8</td>\n",
       "      <td>20154</td>\n",
       "      <td>MILANO</td>\n",
       "      <td>MI</td>\n",
       "      <td>Italia</td>\n",
       "      <td>...</td>\n",
       "      <td>NaN</td>\n",
       "      <td>NaN</td>\n",
       "      <td>NaN</td>\n",
       "      <td>NaN</td>\n",
       "      <td>NaN</td>\n",
       "      <td>NaN</td>\n",
       "      <td>NaN</td>\n",
       "      <td>IOI S.R.L. - BOMAKI TOR DI QUINTO</td>\n",
       "      <td>VIALE TOR DI QUINTO,35</td>\n",
       "      <td>search_document: IDCliente: 12518, RagSoc: IOI...</td>\n",
       "    </tr>\n",
       "    <tr>\n",
       "      <th>4103</th>\n",
       "      <td>10009</td>\n",
       "      <td>IOI S.R.L. - BOMAKI CITY LIFE</td>\n",
       "      <td>NaN</td>\n",
       "      <td>RISTORANTE</td>\n",
       "      <td>FRANCESCO</td>\n",
       "      <td>CORSO SEMPIONE, 8</td>\n",
       "      <td>20154</td>\n",
       "      <td>MILANO</td>\n",
       "      <td>MI</td>\n",
       "      <td>Italia</td>\n",
       "      <td>...</td>\n",
       "      <td>NaN</td>\n",
       "      <td>NaN</td>\n",
       "      <td>NaN</td>\n",
       "      <td>NaN</td>\n",
       "      <td>NaN</td>\n",
       "      <td>NaN</td>\n",
       "      <td>NaN</td>\n",
       "      <td>IDEM</td>\n",
       "      <td>P.ZZA TRE TORRI, 1/L</td>\n",
       "      <td>search_document: IDCliente: 10009, RagSoc: IOI...</td>\n",
       "    </tr>\n",
       "    <tr>\n",
       "      <th>3830</th>\n",
       "      <td>9551</td>\n",
       "      <td>IOI SRL - BOMAKI FOPPA</td>\n",
       "      <td>BOMAKI</td>\n",
       "      <td>RISTORANTE</td>\n",
       "      <td>FRANCESCO</td>\n",
       "      <td>CORSO SEMPIONE, 8</td>\n",
       "      <td>20154</td>\n",
       "      <td>MILANO</td>\n",
       "      <td>MI</td>\n",
       "      <td>Italia</td>\n",
       "      <td>...</td>\n",
       "      <td>NaN</td>\n",
       "      <td>NaN</td>\n",
       "      <td>NaN</td>\n",
       "      <td>NaN</td>\n",
       "      <td>NaN</td>\n",
       "      <td>NaN</td>\n",
       "      <td>NaN</td>\n",
       "      <td>IOI SRL - BOMAKI FOPPA</td>\n",
       "      <td>LARGO LA FOPPA,1</td>\n",
       "      <td>search_document: IDCliente: 9551, RagSoc: IOI ...</td>\n",
       "    </tr>\n",
       "    <tr>\n",
       "      <th>3829</th>\n",
       "      <td>9550</td>\n",
       "      <td>IOI SRL - BOMAKI PORTA ROMANA</td>\n",
       "      <td>BOMAKI</td>\n",
       "      <td>RISTORANTE</td>\n",
       "      <td>FRANCESCO</td>\n",
       "      <td>CORSO SEMPIONE, 8</td>\n",
       "      <td>20154</td>\n",
       "      <td>MILANO</td>\n",
       "      <td>MI</td>\n",
       "      <td>Italia</td>\n",
       "      <td>...</td>\n",
       "      <td>NaN</td>\n",
       "      <td>NaN</td>\n",
       "      <td>NaN</td>\n",
       "      <td>NaN</td>\n",
       "      <td>NaN</td>\n",
       "      <td>NaN</td>\n",
       "      <td>NaN</td>\n",
       "      <td>IDEM</td>\n",
       "      <td>VIA BERNARDINO CORIO, 8</td>\n",
       "      <td>search_document: IDCliente: 9550, RagSoc: IOI ...</td>\n",
       "    </tr>\n",
       "  </tbody>\n",
       "</table>\n",
       "<p>5 rows × 30 columns</p>\n",
       "</div>"
      ],
      "text/plain": [
       "      IDCliente                             RagSoc Nominativo   Categoria  \\\n",
       "4128      10044          IOI S.R.L. - BOMAKI MELZO     BOMAKI  RISTORANTE   \n",
       "5703      12518  IOI S.R.L. - BOMAKI TOR DI QUINTO     BOMAKI  RISTORANTE   \n",
       "4103      10009      IOI S.R.L. - BOMAKI CITY LIFE        NaN  RISTORANTE   \n",
       "3830       9551             IOI SRL - BOMAKI FOPPA     BOMAKI  RISTORANTE   \n",
       "3829       9550      IOI SRL - BOMAKI PORTA ROMANA     BOMAKI  RISTORANTE   \n",
       "\n",
       "       NominativoContatto          Indirizzo    CAP  Comune Prov   Paese  ...  \\\n",
       "4128    ROBERTA GIACOMINO  CORSO SEMPIONE, 8  20154  MILANO   MI  Italia  ...   \n",
       "5703  SIG. MARCO PERROTTA   CORSO SEMPIONE,8  20154  MILANO   MI  Italia  ...   \n",
       "4103            FRANCESCO  CORSO SEMPIONE, 8  20154  MILANO   MI  Italia  ...   \n",
       "3830            FRANCESCO  CORSO SEMPIONE, 8  20154  MILANO   MI  Italia  ...   \n",
       "3829            FRANCESCO  CORSO SEMPIONE, 8  20154  MILANO   MI  Italia  ...   \n",
       "\n",
       "     emailpers3 cellulare4 persona4 emailpers4 cellulare5 persona5 emailpers5  \\\n",
       "4128        NaN        NaN      NaN        NaN        NaN      NaN        NaN   \n",
       "5703        NaN        NaN      NaN        NaN        NaN      NaN        NaN   \n",
       "4103        NaN        NaN      NaN        NaN        NaN      NaN        NaN   \n",
       "3830        NaN        NaN      NaN        NaN        NaN      NaN        NaN   \n",
       "3829        NaN        NaN      NaN        NaN        NaN      NaN        NaN   \n",
       "\n",
       "                            RagSoc_Dest           Indirizzo_Dest  \\\n",
       "4128                               IDEM            VIA MELZO, 28   \n",
       "5703  IOI S.R.L. - BOMAKI TOR DI QUINTO   VIALE TOR DI QUINTO,35   \n",
       "4103                               IDEM     P.ZZA TRE TORRI, 1/L   \n",
       "3830             IOI SRL - BOMAKI FOPPA         LARGO LA FOPPA,1   \n",
       "3829                               IDEM  VIA BERNARDINO CORIO, 8   \n",
       "\n",
       "                                              full_text  \n",
       "4128  search_document: IDCliente: 10044, RagSoc: IOI...  \n",
       "5703  search_document: IDCliente: 12518, RagSoc: IOI...  \n",
       "4103  search_document: IDCliente: 10009, RagSoc: IOI...  \n",
       "3830  search_document: IDCliente: 9551, RagSoc: IOI ...  \n",
       "3829  search_document: IDCliente: 9550, RagSoc: IOI ...  \n",
       "\n",
       "[5 rows x 30 columns]"
      ]
     },
     "execution_count": 35,
     "metadata": {},
     "output_type": "execute_result"
    }
   ],
   "source": [
    "df_clienti.loc[[4128, 5703, 4103, 3830, 3829]]"
   ]
  },
  {
   "cell_type": "code",
   "execution_count": 131,
   "metadata": {},
   "outputs": [
    {
     "data": {
      "text/html": [
       "<div>\n",
       "<style scoped>\n",
       "    .dataframe tbody tr th:only-of-type {\n",
       "        vertical-align: middle;\n",
       "    }\n",
       "\n",
       "    .dataframe tbody tr th {\n",
       "        vertical-align: top;\n",
       "    }\n",
       "\n",
       "    .dataframe thead th {\n",
       "        text-align: right;\n",
       "    }\n",
       "</style>\n",
       "<table border=\"1\" class=\"dataframe\">\n",
       "  <thead>\n",
       "    <tr style=\"text-align: right;\">\n",
       "      <th></th>\n",
       "      <th>IDCliente</th>\n",
       "      <th>RagSoc</th>\n",
       "      <th>Nominativo</th>\n",
       "      <th>Categoria</th>\n",
       "      <th>NominativoContatto</th>\n",
       "      <th>Indirizzo</th>\n",
       "      <th>CAP</th>\n",
       "      <th>Comune</th>\n",
       "      <th>Prov</th>\n",
       "      <th>Paese</th>\n",
       "      <th>...</th>\n",
       "      <th>emailpers3</th>\n",
       "      <th>cellulare4</th>\n",
       "      <th>persona4</th>\n",
       "      <th>emailpers4</th>\n",
       "      <th>cellulare5</th>\n",
       "      <th>persona5</th>\n",
       "      <th>emailpers5</th>\n",
       "      <th>RagSoc_Dest</th>\n",
       "      <th>Indirizzo_Dest</th>\n",
       "      <th>full_text</th>\n",
       "    </tr>\n",
       "  </thead>\n",
       "  <tbody>\n",
       "    <tr>\n",
       "      <th>4128</th>\n",
       "      <td>10044</td>\n",
       "      <td>IOI S.R.L. - BOMAKI MELZO</td>\n",
       "      <td>BOMAKI</td>\n",
       "      <td>RISTORANTE</td>\n",
       "      <td>ROBERTA GIACOMINO</td>\n",
       "      <td>CORSO SEMPIONE, 8</td>\n",
       "      <td>20154</td>\n",
       "      <td>MILANO</td>\n",
       "      <td>MI</td>\n",
       "      <td>Italia</td>\n",
       "      <td>...</td>\n",
       "      <td>NaN</td>\n",
       "      <td>NaN</td>\n",
       "      <td>NaN</td>\n",
       "      <td>NaN</td>\n",
       "      <td>NaN</td>\n",
       "      <td>NaN</td>\n",
       "      <td>NaN</td>\n",
       "      <td>IDEM</td>\n",
       "      <td>VIA MELZO, 28</td>\n",
       "      <td>IDCliente: 10044, RagSoc: IOI S.R.L. - BOMAKI ...</td>\n",
       "    </tr>\n",
       "    <tr>\n",
       "      <th>4103</th>\n",
       "      <td>10009</td>\n",
       "      <td>IOI S.R.L. - BOMAKI CITY LIFE</td>\n",
       "      <td>NaN</td>\n",
       "      <td>RISTORANTE</td>\n",
       "      <td>FRANCESCO</td>\n",
       "      <td>CORSO SEMPIONE, 8</td>\n",
       "      <td>20154</td>\n",
       "      <td>MILANO</td>\n",
       "      <td>MI</td>\n",
       "      <td>Italia</td>\n",
       "      <td>...</td>\n",
       "      <td>NaN</td>\n",
       "      <td>NaN</td>\n",
       "      <td>NaN</td>\n",
       "      <td>NaN</td>\n",
       "      <td>NaN</td>\n",
       "      <td>NaN</td>\n",
       "      <td>NaN</td>\n",
       "      <td>IDEM</td>\n",
       "      <td>P.ZZA TRE TORRI, 1/L</td>\n",
       "      <td>IDCliente: 10009, RagSoc: IOI S.R.L. - BOMAKI ...</td>\n",
       "    </tr>\n",
       "    <tr>\n",
       "      <th>5703</th>\n",
       "      <td>12518</td>\n",
       "      <td>IOI S.R.L. - BOMAKI TOR DI QUINTO</td>\n",
       "      <td>BOMAKI</td>\n",
       "      <td>RISTORANTE</td>\n",
       "      <td>SIG. MARCO PERROTTA</td>\n",
       "      <td>CORSO SEMPIONE,8</td>\n",
       "      <td>20154</td>\n",
       "      <td>MILANO</td>\n",
       "      <td>MI</td>\n",
       "      <td>Italia</td>\n",
       "      <td>...</td>\n",
       "      <td>NaN</td>\n",
       "      <td>NaN</td>\n",
       "      <td>NaN</td>\n",
       "      <td>NaN</td>\n",
       "      <td>NaN</td>\n",
       "      <td>NaN</td>\n",
       "      <td>NaN</td>\n",
       "      <td>IOI S.R.L. - BOMAKI TOR DI QUINTO</td>\n",
       "      <td>VIALE TOR DI QUINTO,35</td>\n",
       "      <td>IDCliente: 12518, RagSoc: IOI S.R.L. - BOMAKI ...</td>\n",
       "    </tr>\n",
       "    <tr>\n",
       "      <th>5569</th>\n",
       "      <td>12312</td>\n",
       "      <td>IOI S.R.L. - BOMAKI ROMA PROPERZIO</td>\n",
       "      <td>BOMAKI</td>\n",
       "      <td>RISTORANTE</td>\n",
       "      <td>ROBERTA GIACOMINO</td>\n",
       "      <td>CORSO SEMPIONE,8</td>\n",
       "      <td>20154</td>\n",
       "      <td>MILANO</td>\n",
       "      <td>MI</td>\n",
       "      <td>Italia</td>\n",
       "      <td>...</td>\n",
       "      <td>NaN</td>\n",
       "      <td>NaN</td>\n",
       "      <td>NaN</td>\n",
       "      <td>NaN</td>\n",
       "      <td>NaN</td>\n",
       "      <td>NaN</td>\n",
       "      <td>NaN</td>\n",
       "      <td>IOI S.R.L. -BOMAKI ROMA PROPERZIO</td>\n",
       "      <td>VIA PROPERZIO,20</td>\n",
       "      <td>IDCliente: 12312, RagSoc: IOI S.R.L. - BOMAKI ...</td>\n",
       "    </tr>\n",
       "    <tr>\n",
       "      <th>4104</th>\n",
       "      <td>10010</td>\n",
       "      <td>IOI S.R.L. - BOMAKI SEMPIONE</td>\n",
       "      <td>BOMAKI</td>\n",
       "      <td>RISTORANTE</td>\n",
       "      <td>FRANCESCO</td>\n",
       "      <td>CORSO SEMPIONE, 8</td>\n",
       "      <td>20154</td>\n",
       "      <td>MILANO</td>\n",
       "      <td>MI</td>\n",
       "      <td>Italia</td>\n",
       "      <td>...</td>\n",
       "      <td>NaN</td>\n",
       "      <td>NaN</td>\n",
       "      <td>NaN</td>\n",
       "      <td>NaN</td>\n",
       "      <td>NaN</td>\n",
       "      <td>NaN</td>\n",
       "      <td>NaN</td>\n",
       "      <td>IDEM</td>\n",
       "      <td>CORSO SEMPIONE, 10</td>\n",
       "      <td>IDCliente: 10010, RagSoc: IOI S.R.L. - BOMAKI ...</td>\n",
       "    </tr>\n",
       "  </tbody>\n",
       "</table>\n",
       "<p>5 rows × 30 columns</p>\n",
       "</div>"
      ],
      "text/plain": [
       "      IDCliente                              RagSoc Nominativo   Categoria  \\\n",
       "4128      10044           IOI S.R.L. - BOMAKI MELZO     BOMAKI  RISTORANTE   \n",
       "4103      10009       IOI S.R.L. - BOMAKI CITY LIFE        NaN  RISTORANTE   \n",
       "5703      12518   IOI S.R.L. - BOMAKI TOR DI QUINTO     BOMAKI  RISTORANTE   \n",
       "5569      12312  IOI S.R.L. - BOMAKI ROMA PROPERZIO     BOMAKI  RISTORANTE   \n",
       "4104      10010        IOI S.R.L. - BOMAKI SEMPIONE     BOMAKI  RISTORANTE   \n",
       "\n",
       "       NominativoContatto          Indirizzo    CAP  Comune Prov   Paese  ...  \\\n",
       "4128    ROBERTA GIACOMINO  CORSO SEMPIONE, 8  20154  MILANO   MI  Italia  ...   \n",
       "4103            FRANCESCO  CORSO SEMPIONE, 8  20154  MILANO   MI  Italia  ...   \n",
       "5703  SIG. MARCO PERROTTA   CORSO SEMPIONE,8  20154  MILANO   MI  Italia  ...   \n",
       "5569    ROBERTA GIACOMINO   CORSO SEMPIONE,8  20154  MILANO   MI  Italia  ...   \n",
       "4104            FRANCESCO  CORSO SEMPIONE, 8  20154  MILANO   MI  Italia  ...   \n",
       "\n",
       "     emailpers3 cellulare4 persona4 emailpers4 cellulare5 persona5 emailpers5  \\\n",
       "4128        NaN        NaN      NaN        NaN        NaN      NaN        NaN   \n",
       "4103        NaN        NaN      NaN        NaN        NaN      NaN        NaN   \n",
       "5703        NaN        NaN      NaN        NaN        NaN      NaN        NaN   \n",
       "5569        NaN        NaN      NaN        NaN        NaN      NaN        NaN   \n",
       "4104        NaN        NaN      NaN        NaN        NaN      NaN        NaN   \n",
       "\n",
       "                            RagSoc_Dest          Indirizzo_Dest  \\\n",
       "4128                               IDEM           VIA MELZO, 28   \n",
       "4103                               IDEM    P.ZZA TRE TORRI, 1/L   \n",
       "5703  IOI S.R.L. - BOMAKI TOR DI QUINTO  VIALE TOR DI QUINTO,35   \n",
       "5569  IOI S.R.L. -BOMAKI ROMA PROPERZIO        VIA PROPERZIO,20   \n",
       "4104                               IDEM      CORSO SEMPIONE, 10   \n",
       "\n",
       "                                              full_text  \n",
       "4128  IDCliente: 10044, RagSoc: IOI S.R.L. - BOMAKI ...  \n",
       "4103  IDCliente: 10009, RagSoc: IOI S.R.L. - BOMAKI ...  \n",
       "5703  IDCliente: 12518, RagSoc: IOI S.R.L. - BOMAKI ...  \n",
       "5569  IDCliente: 12312, RagSoc: IOI S.R.L. - BOMAKI ...  \n",
       "4104  IDCliente: 10010, RagSoc: IOI S.R.L. - BOMAKI ...  \n",
       "\n",
       "[5 rows x 30 columns]"
      ]
     },
     "execution_count": 131,
     "metadata": {},
     "output_type": "execute_result"
    }
   ],
   "source": [
    "df_clienti.loc[[4128,4103,5703,5569,4104]]"
   ]
  },
  {
   "cell_type": "code",
   "execution_count": null,
   "metadata": {},
   "outputs": [
    {
     "data": {
      "text/html": [
       "<div>\n",
       "<style scoped>\n",
       "    .dataframe tbody tr th:only-of-type {\n",
       "        vertical-align: middle;\n",
       "    }\n",
       "\n",
       "    .dataframe tbody tr th {\n",
       "        vertical-align: top;\n",
       "    }\n",
       "\n",
       "    .dataframe thead th {\n",
       "        text-align: right;\n",
       "    }\n",
       "</style>\n",
       "<table border=\"1\" class=\"dataframe\">\n",
       "  <thead>\n",
       "    <tr style=\"text-align: right;\">\n",
       "      <th></th>\n",
       "      <th>IDCliente</th>\n",
       "      <th>RagSoc</th>\n",
       "      <th>Nominativo</th>\n",
       "      <th>Categoria</th>\n",
       "      <th>NominativoContatto</th>\n",
       "      <th>Indirizzo</th>\n",
       "      <th>CAP</th>\n",
       "      <th>Comune</th>\n",
       "      <th>Prov</th>\n",
       "      <th>Paese</th>\n",
       "      <th>...</th>\n",
       "      <th>emailpers3</th>\n",
       "      <th>cellulare4</th>\n",
       "      <th>persona4</th>\n",
       "      <th>emailpers4</th>\n",
       "      <th>cellulare5</th>\n",
       "      <th>persona5</th>\n",
       "      <th>emailpers5</th>\n",
       "      <th>RagSoc_Dest</th>\n",
       "      <th>Indirizzo_Dest</th>\n",
       "      <th>full_text</th>\n",
       "    </tr>\n",
       "  </thead>\n",
       "  <tbody>\n",
       "  </tbody>\n",
       "</table>\n",
       "<p>0 rows × 30 columns</p>\n",
       "</div>"
      ],
      "text/plain": [
       "Empty DataFrame\n",
       "Columns: [IDCliente, RagSoc, Nominativo, Categoria, NominativoContatto, Indirizzo, CAP, Comune, Prov, Paese, Zona, PIVA, Cellulare1, Persona1, emailpers1, Cellulare2, Persona2, emailpers2, Cellulare3, Persona3, emailpers3, cellulare4, persona4, emailpers4, cellulare5, persona5, emailpers5, RagSoc_Dest, Indirizzo_Dest, full_text]\n",
       "Index: []\n",
       "\n",
       "[0 rows x 30 columns]"
      ]
     },
     "metadata": {},
     "output_type": "display_data"
    }
   ],
   "source": [
    "df_clienti[df_clienti[\"CAP\"]==20135]"
   ]
  },
  {
   "cell_type": "code",
   "execution_count": null,
   "metadata": {},
   "outputs": [],
   "source": [
    "f_filtered = df_clienti[df_clienti[\"RagSoc\"].str.contains(r\"\\bBOMAKI\\b\", case=False, na=False, regex=True)]\n"
   ]
  },
  {
   "cell_type": "code",
   "execution_count": null,
   "metadata": {},
   "outputs": [
    {
     "data": {
      "text/html": [
       "<div>\n",
       "<style scoped>\n",
       "    .dataframe tbody tr th:only-of-type {\n",
       "        vertical-align: middle;\n",
       "    }\n",
       "\n",
       "    .dataframe tbody tr th {\n",
       "        vertical-align: top;\n",
       "    }\n",
       "\n",
       "    .dataframe thead th {\n",
       "        text-align: right;\n",
       "    }\n",
       "</style>\n",
       "<table border=\"1\" class=\"dataframe\">\n",
       "  <thead>\n",
       "    <tr style=\"text-align: right;\">\n",
       "      <th></th>\n",
       "      <th>IDCliente</th>\n",
       "      <th>RagSoc</th>\n",
       "      <th>Nominativo</th>\n",
       "      <th>Categoria</th>\n",
       "      <th>NominativoContatto</th>\n",
       "      <th>Indirizzo</th>\n",
       "      <th>CAP</th>\n",
       "      <th>Comune</th>\n",
       "      <th>Prov</th>\n",
       "      <th>Paese</th>\n",
       "      <th>...</th>\n",
       "      <th>emailpers3</th>\n",
       "      <th>cellulare4</th>\n",
       "      <th>persona4</th>\n",
       "      <th>emailpers4</th>\n",
       "      <th>cellulare5</th>\n",
       "      <th>persona5</th>\n",
       "      <th>emailpers5</th>\n",
       "      <th>RagSoc_Dest</th>\n",
       "      <th>Indirizzo_Dest</th>\n",
       "      <th>full_text</th>\n",
       "    </tr>\n",
       "  </thead>\n",
       "  <tbody>\n",
       "    <tr>\n",
       "      <th>3828</th>\n",
       "      <td>9549</td>\n",
       "      <td>IOI SRL - BOMAKI SANZIO</td>\n",
       "      <td>BOMAKI</td>\n",
       "      <td>RISTORANTE</td>\n",
       "      <td>FRANCESCO</td>\n",
       "      <td>CORSO SEMPIONE, 8</td>\n",
       "      <td>20154</td>\n",
       "      <td>MILANO</td>\n",
       "      <td>MI</td>\n",
       "      <td>Italia</td>\n",
       "      <td>...</td>\n",
       "      <td>NaN</td>\n",
       "      <td>NaN</td>\n",
       "      <td>NaN</td>\n",
       "      <td>NaN</td>\n",
       "      <td>NaN</td>\n",
       "      <td>NaN</td>\n",
       "      <td>NaN</td>\n",
       "      <td>IDEM</td>\n",
       "      <td>VIA RAFFAELLO SANZIO, 24</td>\n",
       "      <td>IDCliente: 9549, RagSoc: IOI SRL - BOMAKI SANZ...</td>\n",
       "    </tr>\n",
       "    <tr>\n",
       "      <th>3829</th>\n",
       "      <td>9550</td>\n",
       "      <td>IOI SRL - BOMAKI PORTA ROMANA</td>\n",
       "      <td>BOMAKI</td>\n",
       "      <td>RISTORANTE</td>\n",
       "      <td>FRANCESCO</td>\n",
       "      <td>CORSO SEMPIONE, 8</td>\n",
       "      <td>20154</td>\n",
       "      <td>MILANO</td>\n",
       "      <td>MI</td>\n",
       "      <td>Italia</td>\n",
       "      <td>...</td>\n",
       "      <td>NaN</td>\n",
       "      <td>NaN</td>\n",
       "      <td>NaN</td>\n",
       "      <td>NaN</td>\n",
       "      <td>NaN</td>\n",
       "      <td>NaN</td>\n",
       "      <td>NaN</td>\n",
       "      <td>IDEM</td>\n",
       "      <td>VIA BERNARDINO CORIO, 8</td>\n",
       "      <td>IDCliente: 9550, RagSoc: IOI SRL - BOMAKI PORT...</td>\n",
       "    </tr>\n",
       "    <tr>\n",
       "      <th>3830</th>\n",
       "      <td>9551</td>\n",
       "      <td>IOI SRL - BOMAKI FOPPA</td>\n",
       "      <td>BOMAKI</td>\n",
       "      <td>RISTORANTE</td>\n",
       "      <td>FRANCESCO</td>\n",
       "      <td>CORSO SEMPIONE, 8</td>\n",
       "      <td>20154</td>\n",
       "      <td>MILANO</td>\n",
       "      <td>MI</td>\n",
       "      <td>Italia</td>\n",
       "      <td>...</td>\n",
       "      <td>NaN</td>\n",
       "      <td>NaN</td>\n",
       "      <td>NaN</td>\n",
       "      <td>NaN</td>\n",
       "      <td>NaN</td>\n",
       "      <td>NaN</td>\n",
       "      <td>NaN</td>\n",
       "      <td>IOI SRL - BOMAKI FOPPA</td>\n",
       "      <td>LARGO LA FOPPA,1</td>\n",
       "      <td>IDCliente: 9551, RagSoc: IOI SRL - BOMAKI FOPP...</td>\n",
       "    </tr>\n",
       "    <tr>\n",
       "      <th>4103</th>\n",
       "      <td>10009</td>\n",
       "      <td>IOI S.R.L. - BOMAKI CITY LIFE</td>\n",
       "      <td>NaN</td>\n",
       "      <td>RISTORANTE</td>\n",
       "      <td>FRANCESCO</td>\n",
       "      <td>CORSO SEMPIONE, 8</td>\n",
       "      <td>20154</td>\n",
       "      <td>MILANO</td>\n",
       "      <td>MI</td>\n",
       "      <td>Italia</td>\n",
       "      <td>...</td>\n",
       "      <td>NaN</td>\n",
       "      <td>NaN</td>\n",
       "      <td>NaN</td>\n",
       "      <td>NaN</td>\n",
       "      <td>NaN</td>\n",
       "      <td>NaN</td>\n",
       "      <td>NaN</td>\n",
       "      <td>IDEM</td>\n",
       "      <td>P.ZZA TRE TORRI, 1/L</td>\n",
       "      <td>IDCliente: 10009, RagSoc: IOI S.R.L. - BOMAKI ...</td>\n",
       "    </tr>\n",
       "    <tr>\n",
       "      <th>4104</th>\n",
       "      <td>10010</td>\n",
       "      <td>IOI S.R.L. - BOMAKI SEMPIONE</td>\n",
       "      <td>BOMAKI</td>\n",
       "      <td>RISTORANTE</td>\n",
       "      <td>FRANCESCO</td>\n",
       "      <td>CORSO SEMPIONE, 8</td>\n",
       "      <td>20154</td>\n",
       "      <td>MILANO</td>\n",
       "      <td>MI</td>\n",
       "      <td>Italia</td>\n",
       "      <td>...</td>\n",
       "      <td>NaN</td>\n",
       "      <td>NaN</td>\n",
       "      <td>NaN</td>\n",
       "      <td>NaN</td>\n",
       "      <td>NaN</td>\n",
       "      <td>NaN</td>\n",
       "      <td>NaN</td>\n",
       "      <td>IDEM</td>\n",
       "      <td>CORSO SEMPIONE, 10</td>\n",
       "      <td>IDCliente: 10010, RagSoc: IOI S.R.L. - BOMAKI ...</td>\n",
       "    </tr>\n",
       "    <tr>\n",
       "      <th>4128</th>\n",
       "      <td>10044</td>\n",
       "      <td>IOI S.R.L. - BOMAKI MELZO</td>\n",
       "      <td>BOMAKI</td>\n",
       "      <td>RISTORANTE</td>\n",
       "      <td>ROBERTA GIACOMINO</td>\n",
       "      <td>CORSO SEMPIONE, 8</td>\n",
       "      <td>20154</td>\n",
       "      <td>MILANO</td>\n",
       "      <td>MI</td>\n",
       "      <td>Italia</td>\n",
       "      <td>...</td>\n",
       "      <td>NaN</td>\n",
       "      <td>NaN</td>\n",
       "      <td>NaN</td>\n",
       "      <td>NaN</td>\n",
       "      <td>NaN</td>\n",
       "      <td>NaN</td>\n",
       "      <td>NaN</td>\n",
       "      <td>IDEM</td>\n",
       "      <td>VIA MELZO, 28</td>\n",
       "      <td>IDCliente: 10044, RagSoc: IOI S.R.L. - BOMAKI ...</td>\n",
       "    </tr>\n",
       "    <tr>\n",
       "      <th>4555</th>\n",
       "      <td>10841</td>\n",
       "      <td>IOI S.R.L. - BOMAKI TORINO MURAZZI</td>\n",
       "      <td>BOMAKI</td>\n",
       "      <td>RISTORANTE</td>\n",
       "      <td>ROBERTA GIACOMINO</td>\n",
       "      <td>CORSO SEMPIONE,8</td>\n",
       "      <td>20154</td>\n",
       "      <td>MILANO</td>\n",
       "      <td>MI</td>\n",
       "      <td>Italia</td>\n",
       "      <td>...</td>\n",
       "      <td>NaN</td>\n",
       "      <td>NaN</td>\n",
       "      <td>NaN</td>\n",
       "      <td>NaN</td>\n",
       "      <td>NaN</td>\n",
       "      <td>NaN</td>\n",
       "      <td>NaN</td>\n",
       "      <td>IOI S.R.L. BOMAKI TORINO MURAZZI</td>\n",
       "      <td>VIA MURAZZI DEL PO,29  SUL FIUME DEL PO</td>\n",
       "      <td>IDCliente: 10841, RagSoc: IOI S.R.L. - BOMAKI ...</td>\n",
       "    </tr>\n",
       "    <tr>\n",
       "      <th>4780</th>\n",
       "      <td>11181</td>\n",
       "      <td>IOI S.R.L. - BOMAKI BATTISTI TORINO</td>\n",
       "      <td>BOMAKI</td>\n",
       "      <td>RISTORANTE</td>\n",
       "      <td>ROBERTA GIACOMINO</td>\n",
       "      <td>CORSO SEMPIONE,8</td>\n",
       "      <td>20154</td>\n",
       "      <td>MILANO</td>\n",
       "      <td>MI</td>\n",
       "      <td>Italia</td>\n",
       "      <td>...</td>\n",
       "      <td>NaN</td>\n",
       "      <td>NaN</td>\n",
       "      <td>NaN</td>\n",
       "      <td>NaN</td>\n",
       "      <td>NaN</td>\n",
       "      <td>NaN</td>\n",
       "      <td>NaN</td>\n",
       "      <td>IOI S.R.L. - BOMAKI BATTISTI TORINO</td>\n",
       "      <td>VIA CESARE BATTISTI,3 E</td>\n",
       "      <td>IDCliente: 11181, RagSoc: IOI S.R.L. - BOMAKI ...</td>\n",
       "    </tr>\n",
       "    <tr>\n",
       "      <th>4923</th>\n",
       "      <td>11397</td>\n",
       "      <td>IOI S.R.L. - BOMAKI GARIBALDI</td>\n",
       "      <td>BOMAKI</td>\n",
       "      <td>RISTORANTE</td>\n",
       "      <td>ROBERTA GIACOMINO</td>\n",
       "      <td>CORSO SEMPIONE,8</td>\n",
       "      <td>20154</td>\n",
       "      <td>MILANO</td>\n",
       "      <td>MI</td>\n",
       "      <td>Italia</td>\n",
       "      <td>...</td>\n",
       "      <td>NaN</td>\n",
       "      <td>NaN</td>\n",
       "      <td>NaN</td>\n",
       "      <td>NaN</td>\n",
       "      <td>NaN</td>\n",
       "      <td>NaN</td>\n",
       "      <td>NaN</td>\n",
       "      <td>IOI S.R.L. - BOMAKI GARIBALDI</td>\n",
       "      <td>CORSO GARIBALDI ,79</td>\n",
       "      <td>IDCliente: 11397, RagSoc: IOI S.R.L. - BOMAKI ...</td>\n",
       "    </tr>\n",
       "    <tr>\n",
       "      <th>5490</th>\n",
       "      <td>12205</td>\n",
       "      <td>IOI SRL - BOMAKI NAVIGLIO</td>\n",
       "      <td>BOMAKI</td>\n",
       "      <td>RISTORANTE</td>\n",
       "      <td>FRANCESCO</td>\n",
       "      <td>CORSO SEMPIONE, 8</td>\n",
       "      <td>20154</td>\n",
       "      <td>MILANO</td>\n",
       "      <td>MI</td>\n",
       "      <td>Italia</td>\n",
       "      <td>...</td>\n",
       "      <td>NaN</td>\n",
       "      <td>NaN</td>\n",
       "      <td>NaN</td>\n",
       "      <td>NaN</td>\n",
       "      <td>NaN</td>\n",
       "      <td>NaN</td>\n",
       "      <td>NaN</td>\n",
       "      <td>IOI SRL - BOMAKI NAVIGLIO</td>\n",
       "      <td>VIA ALZAIA NAVIGLIO GRANDE, 36</td>\n",
       "      <td>IDCliente: 12205, RagSoc: IOI SRL - BOMAKI NAV...</td>\n",
       "    </tr>\n",
       "    <tr>\n",
       "      <th>5569</th>\n",
       "      <td>12312</td>\n",
       "      <td>IOI S.R.L. - BOMAKI ROMA PROPERZIO</td>\n",
       "      <td>BOMAKI</td>\n",
       "      <td>RISTORANTE</td>\n",
       "      <td>ROBERTA GIACOMINO</td>\n",
       "      <td>CORSO SEMPIONE,8</td>\n",
       "      <td>20154</td>\n",
       "      <td>MILANO</td>\n",
       "      <td>MI</td>\n",
       "      <td>Italia</td>\n",
       "      <td>...</td>\n",
       "      <td>NaN</td>\n",
       "      <td>NaN</td>\n",
       "      <td>NaN</td>\n",
       "      <td>NaN</td>\n",
       "      <td>NaN</td>\n",
       "      <td>NaN</td>\n",
       "      <td>NaN</td>\n",
       "      <td>IOI S.R.L. -BOMAKI ROMA PROPERZIO</td>\n",
       "      <td>VIA PROPERZIO,20</td>\n",
       "      <td>IDCliente: 12312, RagSoc: IOI S.R.L. - BOMAKI ...</td>\n",
       "    </tr>\n",
       "    <tr>\n",
       "      <th>5703</th>\n",
       "      <td>12518</td>\n",
       "      <td>IOI S.R.L. - BOMAKI TOR DI QUINTO</td>\n",
       "      <td>BOMAKI</td>\n",
       "      <td>RISTORANTE</td>\n",
       "      <td>SIG. MARCO PERROTTA</td>\n",
       "      <td>CORSO SEMPIONE,8</td>\n",
       "      <td>20154</td>\n",
       "      <td>MILANO</td>\n",
       "      <td>MI</td>\n",
       "      <td>Italia</td>\n",
       "      <td>...</td>\n",
       "      <td>NaN</td>\n",
       "      <td>NaN</td>\n",
       "      <td>NaN</td>\n",
       "      <td>NaN</td>\n",
       "      <td>NaN</td>\n",
       "      <td>NaN</td>\n",
       "      <td>NaN</td>\n",
       "      <td>IOI S.R.L. - BOMAKI TOR DI QUINTO</td>\n",
       "      <td>VIALE TOR DI QUINTO,35</td>\n",
       "      <td>IDCliente: 12518, RagSoc: IOI S.R.L. - BOMAKI ...</td>\n",
       "    </tr>\n",
       "    <tr>\n",
       "      <th>5957</th>\n",
       "      <td>12830</td>\n",
       "      <td>DEA SRL - BOMAKI CARUGATE</td>\n",
       "      <td>BOMAKI</td>\n",
       "      <td>RISTORANTE</td>\n",
       "      <td>ELIE CHAMMAI</td>\n",
       "      <td>VICOLO DE GRADI,2</td>\n",
       "      <td>20900</td>\n",
       "      <td>MONZA</td>\n",
       "      <td>MB</td>\n",
       "      <td>Italia</td>\n",
       "      <td>...</td>\n",
       "      <td>NaN</td>\n",
       "      <td>NaN</td>\n",
       "      <td>NaN</td>\n",
       "      <td>NaN</td>\n",
       "      <td>NaN</td>\n",
       "      <td>NaN</td>\n",
       "      <td>NaN</td>\n",
       "      <td>DEA SRL - BOMAKI CARUGATE</td>\n",
       "      <td>CENTRO COMMERCIALE CAROSELLO SP 208 KM2</td>\n",
       "      <td>IDCliente: 12830, RagSoc: DEA SRL - BOMAKI CAR...</td>\n",
       "    </tr>\n",
       "    <tr>\n",
       "      <th>6560</th>\n",
       "      <td>13536</td>\n",
       "      <td>BOMAKI DEV SRL - SERRAVALLE SCRIVIA</td>\n",
       "      <td>BOMAKI SERRAVALLE SCRIVIA</td>\n",
       "      <td>RISTORANTE</td>\n",
       "      <td>ELIE CHAMMAY</td>\n",
       "      <td>CORSO SEMPIONE,8</td>\n",
       "      <td>20154</td>\n",
       "      <td>MILANO</td>\n",
       "      <td>MI</td>\n",
       "      <td>Italia</td>\n",
       "      <td>...</td>\n",
       "      <td>NaN</td>\n",
       "      <td>NaN</td>\n",
       "      <td>NaN</td>\n",
       "      <td>NaN</td>\n",
       "      <td>NaN</td>\n",
       "      <td>NaN</td>\n",
       "      <td>NaN</td>\n",
       "      <td>BOMAKI DEV S.R.L. - SERRAVALE SCRIVIA</td>\n",
       "      <td>VIA DELLA MODA,1</td>\n",
       "      <td>IDCliente: 13536, RagSoc: BOMAKI DEV SRL - SER...</td>\n",
       "    </tr>\n",
       "  </tbody>\n",
       "</table>\n",
       "<p>14 rows × 30 columns</p>\n",
       "</div>"
      ],
      "text/plain": [
       "      IDCliente                               RagSoc  \\\n",
       "3828       9549              IOI SRL - BOMAKI SANZIO   \n",
       "3829       9550        IOI SRL - BOMAKI PORTA ROMANA   \n",
       "3830       9551               IOI SRL - BOMAKI FOPPA   \n",
       "4103      10009        IOI S.R.L. - BOMAKI CITY LIFE   \n",
       "4104      10010         IOI S.R.L. - BOMAKI SEMPIONE   \n",
       "4128      10044            IOI S.R.L. - BOMAKI MELZO   \n",
       "4555      10841   IOI S.R.L. - BOMAKI TORINO MURAZZI   \n",
       "4780      11181  IOI S.R.L. - BOMAKI BATTISTI TORINO   \n",
       "4923      11397        IOI S.R.L. - BOMAKI GARIBALDI   \n",
       "5490      12205            IOI SRL - BOMAKI NAVIGLIO   \n",
       "5569      12312   IOI S.R.L. - BOMAKI ROMA PROPERZIO   \n",
       "5703      12518    IOI S.R.L. - BOMAKI TOR DI QUINTO   \n",
       "5957      12830            DEA SRL - BOMAKI CARUGATE   \n",
       "6560      13536  BOMAKI DEV SRL - SERRAVALLE SCRIVIA   \n",
       "\n",
       "                     Nominativo   Categoria   NominativoContatto  \\\n",
       "3828                     BOMAKI  RISTORANTE            FRANCESCO   \n",
       "3829                     BOMAKI  RISTORANTE            FRANCESCO   \n",
       "3830                     BOMAKI  RISTORANTE            FRANCESCO   \n",
       "4103                        NaN  RISTORANTE            FRANCESCO   \n",
       "4104                     BOMAKI  RISTORANTE            FRANCESCO   \n",
       "4128                     BOMAKI  RISTORANTE    ROBERTA GIACOMINO   \n",
       "4555                     BOMAKI  RISTORANTE    ROBERTA GIACOMINO   \n",
       "4780                     BOMAKI  RISTORANTE    ROBERTA GIACOMINO   \n",
       "4923                     BOMAKI  RISTORANTE    ROBERTA GIACOMINO   \n",
       "5490                     BOMAKI  RISTORANTE            FRANCESCO   \n",
       "5569                     BOMAKI  RISTORANTE    ROBERTA GIACOMINO   \n",
       "5703                     BOMAKI  RISTORANTE  SIG. MARCO PERROTTA   \n",
       "5957                     BOMAKI  RISTORANTE         ELIE CHAMMAI   \n",
       "6560  BOMAKI SERRAVALLE SCRIVIA  RISTORANTE         ELIE CHAMMAY   \n",
       "\n",
       "              Indirizzo    CAP  Comune Prov   Paese  ... emailpers3  \\\n",
       "3828  CORSO SEMPIONE, 8  20154  MILANO   MI  Italia  ...        NaN   \n",
       "3829  CORSO SEMPIONE, 8  20154  MILANO   MI  Italia  ...        NaN   \n",
       "3830  CORSO SEMPIONE, 8  20154  MILANO   MI  Italia  ...        NaN   \n",
       "4103  CORSO SEMPIONE, 8  20154  MILANO   MI  Italia  ...        NaN   \n",
       "4104  CORSO SEMPIONE, 8  20154  MILANO   MI  Italia  ...        NaN   \n",
       "4128  CORSO SEMPIONE, 8  20154  MILANO   MI  Italia  ...        NaN   \n",
       "4555   CORSO SEMPIONE,8  20154  MILANO   MI  Italia  ...        NaN   \n",
       "4780   CORSO SEMPIONE,8  20154  MILANO   MI  Italia  ...        NaN   \n",
       "4923   CORSO SEMPIONE,8  20154  MILANO   MI  Italia  ...        NaN   \n",
       "5490  CORSO SEMPIONE, 8  20154  MILANO   MI  Italia  ...        NaN   \n",
       "5569   CORSO SEMPIONE,8  20154  MILANO   MI  Italia  ...        NaN   \n",
       "5703   CORSO SEMPIONE,8  20154  MILANO   MI  Italia  ...        NaN   \n",
       "5957  VICOLO DE GRADI,2  20900   MONZA   MB  Italia  ...        NaN   \n",
       "6560   CORSO SEMPIONE,8  20154  MILANO   MI  Italia  ...        NaN   \n",
       "\n",
       "     cellulare4 persona4 emailpers4 cellulare5 persona5 emailpers5  \\\n",
       "3828        NaN      NaN        NaN        NaN      NaN        NaN   \n",
       "3829        NaN      NaN        NaN        NaN      NaN        NaN   \n",
       "3830        NaN      NaN        NaN        NaN      NaN        NaN   \n",
       "4103        NaN      NaN        NaN        NaN      NaN        NaN   \n",
       "4104        NaN      NaN        NaN        NaN      NaN        NaN   \n",
       "4128        NaN      NaN        NaN        NaN      NaN        NaN   \n",
       "4555        NaN      NaN        NaN        NaN      NaN        NaN   \n",
       "4780        NaN      NaN        NaN        NaN      NaN        NaN   \n",
       "4923        NaN      NaN        NaN        NaN      NaN        NaN   \n",
       "5490        NaN      NaN        NaN        NaN      NaN        NaN   \n",
       "5569        NaN      NaN        NaN        NaN      NaN        NaN   \n",
       "5703        NaN      NaN        NaN        NaN      NaN        NaN   \n",
       "5957        NaN      NaN        NaN        NaN      NaN        NaN   \n",
       "6560        NaN      NaN        NaN        NaN      NaN        NaN   \n",
       "\n",
       "                                RagSoc_Dest  \\\n",
       "3828                                   IDEM   \n",
       "3829                                   IDEM   \n",
       "3830                 IOI SRL - BOMAKI FOPPA   \n",
       "4103                                   IDEM   \n",
       "4104                                   IDEM   \n",
       "4128                                   IDEM   \n",
       "4555       IOI S.R.L. BOMAKI TORINO MURAZZI   \n",
       "4780    IOI S.R.L. - BOMAKI BATTISTI TORINO   \n",
       "4923          IOI S.R.L. - BOMAKI GARIBALDI   \n",
       "5490              IOI SRL - BOMAKI NAVIGLIO   \n",
       "5569      IOI S.R.L. -BOMAKI ROMA PROPERZIO   \n",
       "5703      IOI S.R.L. - BOMAKI TOR DI QUINTO   \n",
       "5957              DEA SRL - BOMAKI CARUGATE   \n",
       "6560  BOMAKI DEV S.R.L. - SERRAVALE SCRIVIA   \n",
       "\n",
       "                               Indirizzo_Dest  \\\n",
       "3828                 VIA RAFFAELLO SANZIO, 24   \n",
       "3829                  VIA BERNARDINO CORIO, 8   \n",
       "3830                         LARGO LA FOPPA,1   \n",
       "4103                     P.ZZA TRE TORRI, 1/L   \n",
       "4104                       CORSO SEMPIONE, 10   \n",
       "4128                            VIA MELZO, 28   \n",
       "4555  VIA MURAZZI DEL PO,29  SUL FIUME DEL PO   \n",
       "4780                  VIA CESARE BATTISTI,3 E   \n",
       "4923                      CORSO GARIBALDI ,79   \n",
       "5490           VIA ALZAIA NAVIGLIO GRANDE, 36   \n",
       "5569                         VIA PROPERZIO,20   \n",
       "5703                   VIALE TOR DI QUINTO,35   \n",
       "5957  CENTRO COMMERCIALE CAROSELLO SP 208 KM2   \n",
       "6560                         VIA DELLA MODA,1   \n",
       "\n",
       "                                              full_text  \n",
       "3828  IDCliente: 9549, RagSoc: IOI SRL - BOMAKI SANZ...  \n",
       "3829  IDCliente: 9550, RagSoc: IOI SRL - BOMAKI PORT...  \n",
       "3830  IDCliente: 9551, RagSoc: IOI SRL - BOMAKI FOPP...  \n",
       "4103  IDCliente: 10009, RagSoc: IOI S.R.L. - BOMAKI ...  \n",
       "4104  IDCliente: 10010, RagSoc: IOI S.R.L. - BOMAKI ...  \n",
       "4128  IDCliente: 10044, RagSoc: IOI S.R.L. - BOMAKI ...  \n",
       "4555  IDCliente: 10841, RagSoc: IOI S.R.L. - BOMAKI ...  \n",
       "4780  IDCliente: 11181, RagSoc: IOI S.R.L. - BOMAKI ...  \n",
       "4923  IDCliente: 11397, RagSoc: IOI S.R.L. - BOMAKI ...  \n",
       "5490  IDCliente: 12205, RagSoc: IOI SRL - BOMAKI NAV...  \n",
       "5569  IDCliente: 12312, RagSoc: IOI S.R.L. - BOMAKI ...  \n",
       "5703  IDCliente: 12518, RagSoc: IOI S.R.L. - BOMAKI ...  \n",
       "5957  IDCliente: 12830, RagSoc: DEA SRL - BOMAKI CAR...  \n",
       "6560  IDCliente: 13536, RagSoc: BOMAKI DEV SRL - SER...  \n",
       "\n",
       "[14 rows x 30 columns]"
      ]
     },
     "metadata": {},
     "output_type": "display_data"
    }
   ],
   "source": [
    "f_filtered"
   ]
  }
 ],
 "metadata": {
  "kernelspec": {
   "display_name": "zoppis",
   "language": "python",
   "name": "python3"
  },
  "language_info": {
   "codemirror_mode": {
    "name": "ipython",
    "version": 3
   },
   "file_extension": ".py",
   "mimetype": "text/x-python",
   "name": "python",
   "nbconvert_exporter": "python",
   "pygments_lexer": "ipython3",
   "version": "3.11.11"
  }
 },
 "nbformat": 4,
 "nbformat_minor": 2
}
