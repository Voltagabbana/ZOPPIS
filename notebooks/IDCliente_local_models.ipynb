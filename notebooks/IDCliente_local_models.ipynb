{
 "cells": [
  {
   "cell_type": "markdown",
   "metadata": {},
   "source": [
    "15/03/2025"
   ]
  },
  {
   "cell_type": "code",
   "execution_count": 2,
   "metadata": {},
   "outputs": [],
   "source": [
    "import pandas as pd"
   ]
  },
  {
   "cell_type": "code",
   "execution_count": 3,
   "metadata": {},
   "outputs": [],
   "source": [
    "df_clienti = pd.read_csv(r\"C:\\Users\\enduser\\Desktop\\PythonPostLaurea\\ZOPPIS\\ZOPPIS\\data\\clienti.csv\",sep = \";\")\n"
   ]
  },
  {
   "cell_type": "code",
   "execution_count": 4,
   "metadata": {},
   "outputs": [
    {
     "data": {
      "text/plain": [
       "IDCliente                0\n",
       "RagSoc                   0\n",
       "Nominativo            3319\n",
       "Categoria                0\n",
       "NominativoContatto    1697\n",
       "Indirizzo               73\n",
       "CAP                    152\n",
       "Comune                  56\n",
       "Prov                   180\n",
       "Paese                    2\n",
       "Zona                  1773\n",
       "PIVA                   247\n",
       "Cellulare1            2971\n",
       "Persona1              3021\n",
       "emailpers1            6192\n",
       "Cellulare2            5517\n",
       "Persona2              5413\n",
       "emailpers2            6304\n",
       "Cellulare3            6349\n",
       "Persona3              6287\n",
       "emailpers3            6471\n",
       "cellulare4            6547\n",
       "persona4              6522\n",
       "emailpers4            6546\n",
       "cellulare5            6601\n",
       "persona5              6584\n",
       "emailpers5            6593\n",
       "RagSoc_Dest           4916\n",
       "Indirizzo_Dest        4883\n",
       "dtype: int64"
      ]
     },
     "execution_count": 4,
     "metadata": {},
     "output_type": "execute_result"
    }
   ],
   "source": [
    "df_clienti.isna().sum()"
   ]
  },
  {
   "cell_type": "markdown",
   "metadata": {},
   "source": [
    "### Full text creation"
   ]
  },
  {
   "cell_type": "code",
   "execution_count": 5,
   "metadata": {},
   "outputs": [],
   "source": [
    "def create_full_text(row, prefix=\"search_document\"):\n",
    "    return f\"{prefix}: \" + \", \".join(\n",
    "        f\"{col}: {val}\"\n",
    "        for col, val in row.items() \n",
    "        if pd.notna(val)\n",
    "    )\n",
    "\n",
    "df_clienti[\"full_text\"] = df_clienti.apply(create_full_text, axis=1)"
   ]
  },
  {
   "cell_type": "code",
   "execution_count": 6,
   "metadata": {},
   "outputs": [],
   "source": [
    "df_clienti_full_text = df_clienti[\"full_text\"]"
   ]
  },
  {
   "cell_type": "markdown",
   "metadata": {},
   "source": [
    "### Embedding generation"
   ]
  },
  {
   "cell_type": "markdown",
   "metadata": {},
   "source": [
    "NB: sulla repo di nomic-embed-text dicono che bisogna mettere una chiave per dire che tipo di task si vuole fare."
   ]
  },
  {
   "cell_type": "code",
   "execution_count": 7,
   "metadata": {},
   "outputs": [],
   "source": [
    "import ollama\n",
    "import json\n",
    "import os"
   ]
  },
  {
   "cell_type": "code",
   "execution_count": 8,
   "metadata": {},
   "outputs": [
    {
     "name": "stdout",
     "output_type": "stream",
     "text": [
      "Il path 'C:\\Users\\enduser\\Desktop\\PythonPostLaurea\\ZOPPIS\\ZOPPIS\\notebooks\\embeddings.parquet' esiste già, uscita dal ciclo.\n"
     ]
    }
   ],
   "source": [
    "def get_embedding(text):\n",
    "    try:\n",
    "        response = ollama.embeddings(model=\"nomic-embed-text\", prompt=text)\n",
    "        return response['embedding']\n",
    "    except Exception as e:\n",
    "        print(f\"Errore durante l'embedding: {e}\")\n",
    "        return None\n",
    "\n",
    "path = r\"C:\\Users\\enduser\\Desktop\\PythonPostLaurea\\ZOPPIS\\ZOPPIS\\notebooks\\embeddings.parquet\"\n",
    "\n",
    "if not os.path.exists(path):\n",
    "    df_clienti_emb = df_clienti_full_text.apply(get_embedding)\n",
    "    df_clienti_emb = pd.DataFrame(df_clienti_emb)\n",
    "    df_clienti_emb.to_parquet(\"embeddings_v2.parquet\", engine=\"pyarrow\")\n",
    "    print(\"Embeddings salvati\")\n",
    "else:\n",
    "    print(f\"Il path '{path}' esiste già, uscita dal ciclo.\")\n"
   ]
  },
  {
   "cell_type": "markdown",
   "metadata": {},
   "source": [
    "ci ha messo 13 min x 6600 clienti.\n",
    "\n",
    "la dimensione è di 768"
   ]
  },
  {
   "cell_type": "markdown",
   "metadata": {},
   "source": [
    "### OCR:"
   ]
  },
  {
   "cell_type": "markdown",
   "metadata": {},
   "source": [
    "con gemini flash"
   ]
  },
  {
   "cell_type": "code",
   "execution_count": 11,
   "metadata": {},
   "outputs": [],
   "source": [
    "import google.generativeai as genai\n",
    "import os\n",
    "import base64\n",
    "from dotenv import load_dotenv\n",
    "\n",
    "load_dotenv()\n",
    "API_KEY = os.environ.get(\"GOOGLE_API_KEY\")\n",
    "genai.configure(api_key=API_KEY)\n",
    "model = genai.GenerativeModel(\"gemini-2.0-flash\")\n",
    "doc_path = r\"C:\\Users\\enduser\\Desktop\\PythonPostLaurea\\ZOPPIS\\ZOPPIS\\data\\inputs\\bomaki.pdf\"\n",
    "with open(doc_path, \"rb\") as doc_file:\n",
    "    doc_data = base64.standard_b64encode(doc_file.read()).decode(\"utf-8\")\n",
    "prompt = \"\"\"\n",
    "Trascrivi fedelmente il contenuto di questo documento PDF. Non aggiungere spiegazioni, riassunti o commenti.\n",
    "Devi solo riportare il testo esattamente come appare nel documento.\n",
    "\"\"\"\n",
    "response = model.generate_content([\n",
    "    {'mime_type': 'application/pdf', 'data': doc_data},\n",
    "    prompt\n",
    "])\n",
    "#print(response.text)\n",
    "ordine = response.text\n"
   ]
  },
  {
   "cell_type": "markdown",
   "metadata": {},
   "source": [
    "### RAG"
   ]
  },
  {
   "cell_type": "code",
   "execution_count": 12,
   "metadata": {},
   "outputs": [],
   "source": [
    "df_clienti_emb = pd.read_parquet(r\"C:\\Users\\enduser\\Desktop\\PythonPostLaurea\\ZOPPIS\\ZOPPIS\\notebooks\\embeddings_v2.parquet\")\n",
    "query = \"search_query: Trovami l'IDCliente (Codice Identificatore Cliente) del seguente ordine: \\n\" + ordine\n",
    "query_emb = get_embedding(query)"
   ]
  },
  {
   "cell_type": "code",
   "execution_count": 13,
   "metadata": {},
   "outputs": [
    {
     "name": "stdout",
     "output_type": "stream",
     "text": [
      "Shape della matrice degli embedding: (6620, 768)\n",
      "Shape dell'embedding della query: 768\n",
      "Top 5 Indici più simili: [4128 5703 4103 3830 3829 4104 5569 5490 4555 3828 4923 4780 5957 6560\n",
      " 3091]\n",
      "Similarità corrispondenti: [0.78044119 0.77989323 0.77491765 0.77100952 0.76614557 0.76527025\n",
      " 0.76349925 0.76262733 0.76034352 0.75944984 0.7579443  0.75184916\n",
      " 0.74958825 0.74822194 0.743537  ]\n"
     ]
    }
   ],
   "source": [
    "import numpy as np\n",
    "from scipy.spatial.distance import cdist\n",
    "k = 15\n",
    "embeddings_series = df_clienti_emb[\"full_text\"]\n",
    "query_embedding = query_emb  \n",
    "embedding_matrix = np.array(embeddings_series.tolist(), dtype=np.float32)\n",
    "print(\"Shape della matrice degli embedding:\", embedding_matrix.shape)\n",
    "print(\"Shape dell'embedding della query:\", len(query_embedding))\n",
    "similarities = 1 - cdist([query_embedding], embedding_matrix, metric=\"cosine\")[0]\n",
    "top_k_indices = np.argsort(similarities)[::-1][:k]\n",
    "print(\"Top 5 Indici più simili:\", top_k_indices)\n",
    "print(\"Similarità corrispondenti:\", similarities[top_k_indices])\n",
    "\n",
    "rag_results = \"\\n\".join(df_clienti_full_text.loc[top_k_indices].astype(str).tolist())"
   ]
  },
  {
   "cell_type": "code",
   "execution_count": 15,
   "metadata": {},
   "outputs": [],
   "source": [
    "rag_results = \"\\n\".join(df_clienti_full_text.loc[top_k_indices].astype(str).tolist())\n",
    "prompt_rag = f\"\"\"search_query: Trovami l'IDCliente (Codice Identificatore Cliente) del seguente ordine:\n",
    "\n",
    "🚀 **IMPORTANTE: INIZIO ORDINE** 🚀\n",
    "\n",
    "\\nBOMAKI\\nURAMAKERIA NIPPO BRASILIANA\\nOrdine di\\nacquisto\\nCod. Fornitore\\nF100143\\nVs. Riferimento\\nAgente\\nCondizioni e modalità di pagamento\\nBonifico SEPA 30 GG DF FM\\nNumero\\n230032104\\nP.IVA/Cod. fisc.\\nIT01576310039\\nData\\n13/12/2024\\nValuta\\nEUR\\nPag.\\n1 of 1\\n101 Srl\\nSede legale Corso Sempione 20154 Milano (MI) - Italia\\nP.IVA/C Fiscale IT04995690965\\nR.Ε.Α. 561011\\nTel. 0289071703\\nEmail: amministrazione@bomaki.it\\nWeb: www.bomaki.it\\nSpett.le\\nZOPPIS SRL\\nVIA PER ALZO 21\\n28017 SAN MAURIZIO D'OPAGLIO (NO) -\\nITALY\\nIndirizzo di spedizione\\nBomaki di:\\nVia Bernardino Corio 8\\n20135 MILANO\\nITALYVia Bernardino Corio 8\\n20135 MILANO\\n\\nCod. articola Descrizione articolo Qta U.M. Prezzo netto Cod. IVA Imponibile\\n19675 ACQUA BRILLANTE TONICA VAP 1.00 CT 11.95 22.00 14.58\\n15061 CACHACA LEBLON 70 MAISON LEBLON 6.00 CT 603.00 22.00 735.66\\n8729 GIN HENDRICK'S CL100 2.00 PZ 65.90 22.00 80.40\\n15666 HIERBAS DE IBIZA Litro AROMATICAS DE IBIZA! 12.00 PZ 203.40 22.00 248.15\\n24626 SAMBUCA RAMAZZOTI CL70 3.00 PZ 20.85 22.00 25.44\\n24945 SHARIS FELLUGA VENEZIE 30.00 PZ 289.50 22.00 353.19\\n13035 TEQUILA PATRON Silver CL70 2.00 PZ 67.50 22.00 82.35\\n20577 VODKA 42 BELOW LITRO 30.00 PZ 436.50 22.00 532.53\\n\n",
    "\n",
    " **IMPORTANTE: FINE ORDINE**\n",
    "\n",
    " \"sapendo che tramite RAG ho ottenuto i full text (stringa contenente tutti i dati strutturati tabellari) dei clienti più simili all'ordine in oggetto. Riporto di seguito i dati full text dei clienti più simili all'ordine. Dai importanza sopratutto alla destinazione dell'ordine e alla ragione sociale dell'ordine (l'Indirizzo Dest la RagSoc nella tabella) per scegliere la riga trai top-k che ti propongo! \\n\"\n",
    "  \n",
    " 🚀 **IMPORTANTE: INIZIO ELENCO DATI ESTRATTI TRAMITE RAG** 🚀\n",
    " \n",
    " {rag_results}\n",
    "\n",
    "  **IMPORTANTE: FINE ELENCO DATI ESTRATTI TRAMITE RAG**\n",
    "\n",
    "\"\\nRestituiscimi soltanto l'IDCliente, la RagSoc e l'Indirizzo Dest in formato JSON, non voglio alcun tipo di dettaglio aggiuntivo\"\" \n",
    "\"\"\""
   ]
  },
  {
   "cell_type": "code",
   "execution_count": 18,
   "metadata": {},
   "outputs": [
    {
     "name": "stdout",
     "output_type": "stream",
     "text": [
      "search_query: Trovami l'IDCliente (Codice Identificatore Cliente) del seguente ordine:\n",
      "\n",
      "🚀 **IMPORTANTE: INIZIO ORDINE** 🚀\n",
      "\n",
      "\n",
      "BOMAKI\n",
      "URAMAKERIA NIPPO BRASILIANA\n",
      "Ordine di\n",
      "acquisto\n",
      "Cod. Fornitore\n",
      "F100143\n",
      "Vs. Riferimento\n",
      "Agente\n",
      "Condizioni e modalità di pagamento\n",
      "Bonifico SEPA 30 GG DF FM\n",
      "Numero\n",
      "230032104\n",
      "P.IVA/Cod. fisc.\n",
      "IT01576310039\n",
      "Data\n",
      "13/12/2024\n",
      "Valuta\n",
      "EUR\n",
      "Pag.\n",
      "1 of 1\n",
      "101 Srl\n",
      "Sede legale Corso Sempione 20154 Milano (MI) - Italia\n",
      "P.IVA/C Fiscale IT04995690965\n",
      "R.Ε.Α. 561011\n",
      "Tel. 0289071703\n",
      "Email: amministrazione@bomaki.it\n",
      "Web: www.bomaki.it\n",
      "Spett.le\n",
      "ZOPPIS SRL\n",
      "VIA PER ALZO 21\n",
      "28017 SAN MAURIZIO D'OPAGLIO (NO) -\n",
      "ITALY\n",
      "Indirizzo di spedizione\n",
      "Bomaki di:\n",
      "Via Bernardino Corio 8\n",
      "20135 MILANO\n",
      "ITALYVia Bernardino Corio 8\n",
      "20135 MILANO\n",
      "\n",
      "Cod. articola Descrizione articolo Qta U.M. Prezzo netto Cod. IVA Imponibile\n",
      "19675 ACQUA BRILLANTE TONICA VAP 1.00 CT 11.95 22.00 14.58\n",
      "15061 CACHACA LEBLON 70 MAISON LEBLON 6.00 CT 603.00 22.00 735.66\n",
      "8729 GIN HENDRICK'S CL100 2.00 PZ 65.90 22.00 80.40\n",
      "15666 HIERBAS DE IBIZA Litro AROMATICAS DE IBIZA! 12.00 PZ 203.40 22.00 248.15\n",
      "24626 SAMBUCA RAMAZZOTI CL70 3.00 PZ 20.85 22.00 25.44\n",
      "24945 SHARIS FELLUGA VENEZIE 30.00 PZ 289.50 22.00 353.19\n",
      "13035 TEQUILA PATRON Silver CL70 2.00 PZ 67.50 22.00 82.35\n",
      "20577 VODKA 42 BELOW LITRO 30.00 PZ 436.50 22.00 532.53\n",
      "\n",
      "\n",
      " **IMPORTANTE: FINE ORDINE**\n",
      "\n",
      " \"sapendo che tramite RAG ho ottenuto i full text (stringa contenente tutti i dati strutturati tabellari) dei clienti più simili all'ordine in oggetto. Riporto di seguito i dati full text dei clienti più simili all'ordine. Dai importanza sopratutto alla destinazione dell'ordine e alla ragione sociale dell'ordine (l'Indirizzo Dest la RagSoc nella tabella) per scegliere la riga trai top-k che ti propongo! \n",
      "\"\n",
      "  \n",
      " 🚀 **IMPORTANTE: INIZIO ELENCO DATI ESTRATTI TRAMITE RAG** 🚀\n",
      " \n",
      " search_document: IDCliente: 10044, RagSoc: IOI S.R.L. - BOMAKI MELZO, Nominativo: BOMAKI, Categoria: RISTORANTE, NominativoContatto: ROBERTA GIACOMINO, Indirizzo: CORSO SEMPIONE, 8, CAP: 20154, Comune: MILANO, Prov: MI, Paese: Italia, Zona: MI-EST, PIVA: 04995690965, Cellulare1: 347 0495915, Persona1: FRANCESCO, emailpers2: amministrazione@bomaki.it, RagSoc_Dest: IDEM, Indirizzo_Dest: VIA MELZO, 28\n",
      "search_document: IDCliente: 12518, RagSoc: IOI S.R.L. - BOMAKI TOR DI QUINTO, Nominativo: BOMAKI, Categoria: RISTORANTE, NominativoContatto: SIG. MARCO PERROTTA, Indirizzo: CORSO SEMPIONE,8, CAP: 20154, Comune: MILANO, Prov: MI, Paese: Italia, Zona: ROMA, PIVA: 04995690965, Cellulare1: 346 8443085, Persona1: MARCO PERROTTA, Cellulare2: 366 6514832, Persona2: ROBERTA GIACOMINO, RagSoc_Dest: IOI S.R.L. - BOMAKI TOR DI QUINTO, Indirizzo_Dest: VIALE TOR DI QUINTO,35\n",
      "search_document: IDCliente: 10009, RagSoc: IOI S.R.L. - BOMAKI CITY LIFE, Categoria: RISTORANTE, NominativoContatto: FRANCESCO, Indirizzo: CORSO SEMPIONE, 8, CAP: 20154, Comune: MILANO, Prov: MI, Paese: Italia, Zona: MI-OVEST ZTL, PIVA: 04995690965, Cellulare1: 347 0495915, Persona1: FRANCESCO, Persona2: ROBERTA GIACOMINO, emailpers2: r.giacomino@bomaki.it, RagSoc_Dest: IDEM, Indirizzo_Dest: P.ZZA TRE TORRI, 1/L\n",
      "search_document: IDCliente: 9551, RagSoc: IOI SRL - BOMAKI FOPPA, Nominativo: BOMAKI, Categoria: RISTORANTE, NominativoContatto: FRANCESCO, Indirizzo: CORSO SEMPIONE, 8, CAP: 20154, Comune: MILANO, Prov: MI, Paese: Italia, Zona: MI-OVEST ZTL, PIVA: 04995690965, Cellulare1: 347 0495915, Persona1: FRANCESCO, RagSoc_Dest: IOI SRL - BOMAKI FOPPA, Indirizzo_Dest: LARGO LA FOPPA,1\n",
      "search_document: IDCliente: 9550, RagSoc: IOI SRL - BOMAKI PORTA ROMANA, Nominativo: BOMAKI, Categoria: RISTORANTE, NominativoContatto: FRANCESCO, Indirizzo: CORSO SEMPIONE, 8, CAP: 20154, Comune: MILANO, Prov: MI, Paese: Italia, Zona: MI-SUD, PIVA: 04995690965, Cellulare1: 347 0495915, Persona1: FRANCESCO, RagSoc_Dest: IDEM, Indirizzo_Dest: VIA BERNARDINO CORIO, 8\n",
      "search_document: IDCliente: 10010, RagSoc: IOI S.R.L. - BOMAKI SEMPIONE, Nominativo: BOMAKI, Categoria: RISTORANTE, NominativoContatto: FRANCESCO, Indirizzo: CORSO SEMPIONE, 8, CAP: 20154, Comune: MILANO, Prov: MI, Paese: Italia, Zona: MI-OVEST ZTL, PIVA: 04995690965, Cellulare1: 347 0495915, Persona1: FRANCESCO, RagSoc_Dest: IDEM, Indirizzo_Dest: CORSO SEMPIONE, 10\n",
      "search_document: IDCliente: 12312, RagSoc: IOI S.R.L. - BOMAKI ROMA PROPERZIO, Nominativo: BOMAKI, Categoria: RISTORANTE, NominativoContatto: ROBERTA GIACOMINO, Indirizzo: CORSO SEMPIONE,8, CAP: 20154, Comune: MILANO, Prov: MI, Paese: Italia, Zona: ROMA, PIVA: 04995690965, Cellulare1: 3457896785, Persona1: ROBERTA GIACOMINO, RagSoc_Dest: IOI S.R.L. -BOMAKI ROMA PROPERZIO, Indirizzo_Dest: VIA PROPERZIO,20\n",
      "search_document: IDCliente: 12205, RagSoc: IOI SRL - BOMAKI NAVIGLIO, Nominativo: BOMAKI, Categoria: RISTORANTE, NominativoContatto: FRANCESCO, Indirizzo: CORSO SEMPIONE, 8, CAP: 20154, Comune: MILANO, Prov: MI, Paese: Italia, Zona: MI-SUD ZTL, PIVA: 04995690965, Cellulare1: 347 0495915, Persona1: FRANCESCO, RagSoc_Dest: IOI SRL - BOMAKI NAVIGLIO, Indirizzo_Dest: VIA ALZAIA NAVIGLIO GRANDE, 36\n",
      "search_document: IDCliente: 10841, RagSoc: IOI S.R.L. - BOMAKI TORINO MURAZZI, Nominativo: BOMAKI, Categoria: RISTORANTE, NominativoContatto: ROBERTA GIACOMINO, Indirizzo: CORSO SEMPIONE,8, CAP: 20154, Comune: MILANO, Prov: MI, Paese: Italia, Zona: TORINO, PIVA: 04995690965, Cellulare1: 345 7896785, Persona1: ROBERTA GIACOMINO, Cellulare2: 349 5251146, Persona2: ALBERTO, RagSoc_Dest: IOI S.R.L. BOMAKI TORINO MURAZZI, Indirizzo_Dest: VIA MURAZZI DEL PO,29  SUL FIUME DEL PO\n",
      "search_document: IDCliente: 9549, RagSoc: IOI SRL - BOMAKI SANZIO, Nominativo: BOMAKI, Categoria: RISTORANTE, NominativoContatto: FRANCESCO, Indirizzo: CORSO SEMPIONE, 8, CAP: 20154, Comune: MILANO, Prov: MI, Paese: Italia, Zona: MI-OVEST, PIVA: 04995690965, Cellulare1: 347 0495915, Persona1: FRANCESCO, RagSoc_Dest: IDEM, Indirizzo_Dest: VIA RAFFAELLO SANZIO, 24\n",
      "search_document: IDCliente: 11397, RagSoc: IOI S.R.L. - BOMAKI GARIBALDI, Nominativo: BOMAKI, Categoria: RISTORANTE, NominativoContatto: ROBERTA GIACOMINO, Indirizzo: CORSO SEMPIONE,8, CAP: 20154, Comune: MILANO, Prov: MI, Paese: Italia, Zona: MI-OVEST ZTL, PIVA: 04995690965, Cellulare1: 345 7896785, Persona1: ROBERTA GIACOMINO, Cellulare2: 351 7122636, Persona2: NATASHA, RagSoc_Dest: IOI S.R.L. - BOMAKI GARIBALDI, Indirizzo_Dest: CORSO GARIBALDI ,79\n",
      "search_document: IDCliente: 11181, RagSoc: IOI S.R.L. - BOMAKI BATTISTI TORINO, Nominativo: BOMAKI, Categoria: RISTORANTE, NominativoContatto: ROBERTA GIACOMINO, Indirizzo: CORSO SEMPIONE,8, CAP: 20154, Comune: MILANO, Prov: MI, Paese: Italia, Zona: TORINO, PIVA: 04995690965, Cellulare1: 345 7896785, Persona1: ROBERTA GIACOMINO, Cellulare2: 3939792247, Persona2: MARIO MONGIOJ, RagSoc_Dest: IOI S.R.L. - BOMAKI BATTISTI TORINO, Indirizzo_Dest: VIA CESARE BATTISTI,3 E\n",
      "search_document: IDCliente: 12830, RagSoc: DEA SRL - BOMAKI CARUGATE, Nominativo: BOMAKI, Categoria: RISTORANTE, NominativoContatto: ELIE CHAMMAI, Indirizzo: VICOLO DE GRADI,2, CAP: 20900, Comune: MONZA, Prov: MB, Paese: Italia, Zona: MONZA, PIVA: 13167950966, Cellulare1: 348 3200393, Persona1: ELIE CHAMMAI, RagSoc_Dest: DEA SRL - BOMAKI CARUGATE, Indirizzo_Dest: CENTRO COMMERCIALE CAROSELLO SP 208 KM2\n",
      "search_document: IDCliente: 13536, RagSoc: BOMAKI DEV SRL - SERRAVALLE SCRIVIA, Nominativo: BOMAKI SERRAVALLE SCRIVIA, Categoria: RISTORANTE, NominativoContatto: ELIE CHAMMAY, Indirizzo: CORSO SEMPIONE,8, CAP: 20154, Comune: MILANO, Prov: MI, Paese: Italia, Zona: VERCELLI, PIVA: 13788550963, Cellulare1: 348 3200393, Persona1: ELIE CHAMMAI, emailpers1: elie.chammai@bomakidev.it, RagSoc_Dest: BOMAKI DEV S.R.L. - SERRAVALE SCRIVIA, Indirizzo_Dest: VIA DELLA MODA,1\n",
      "search_document: IDCliente: 8161, RagSoc: ACM COMMERCIALE SRL, Categoria: FORNITORE, Indirizzo: VIA S. DEFENDENTE, 136/138, CAP: 20010, Comune: BOFFALORA TICINO, Prov: MI, Paese: Italia, PIVA: 12683660158\n",
      "\n",
      "  **IMPORTANTE: FINE ELENCO DATI ESTRATTI TRAMITE RAG**\n",
      "\n",
      "\"\n",
      "Restituiscimi soltanto l'IDCliente, la RagSoc e l'Indirizzo Dest in formato JSON, non voglio alcun tipo di dettaglio aggiuntivo\"\" \n",
      "\n"
     ]
    }
   ],
   "source": [
    "print(prompt_rag)"
   ]
  },
  {
   "cell_type": "code",
   "execution_count": 19,
   "metadata": {},
   "outputs": [
    {
     "name": "stdout",
     "output_type": "stream",
     "text": [
      "1015\n"
     ]
    }
   ],
   "source": [
    "def count_tokens_simple(text):\n",
    "    return len(text.split())\n",
    "\n",
    "print(count_tokens_simple(prompt_rag))\n"
   ]
  },
  {
   "cell_type": "code",
   "execution_count": 20,
   "metadata": {},
   "outputs": [
    {
     "name": "stdout",
     "output_type": "stream",
     "text": [
      "```json\n",
      "[\n",
      "  {\n",
      "    \"IDCliente\": \"8161\",\n",
      "    \"RagSoc\": \"ACM COMMERCIALE SRL\",\n",
      "    \"Indirizzo Dest\": \"VIA S. DEFENDENTE, 136/138\"\n",
      "  }\n",
      "]\n",
      "```\n"
     ]
    }
   ],
   "source": [
    "response = ollama.chat(model=\"gemma3:4b\", messages=[{\"role\": \"user\", \"content\": prompt_rag}])\n",
    "\n",
    "print(response[\"message\"][\"content\"])\n"
   ]
  },
  {
   "cell_type": "code",
   "execution_count": 22,
   "metadata": {},
   "outputs": [
    {
     "name": "stdout",
     "output_type": "stream",
     "text": [
      "```json\n",
      "[\n",
      "  {\n",
      "    \"IDCliente\": \"8161\",\n",
      "    \"RagSoc\": \"ACM COMMERCIALE SRL\",\n",
      "    \"Indirizzo Dest\": \"VIA S. DEFENDENTE, 136/138\"\n",
      "  }\n",
      "]\n",
      "```"
     ]
    }
   ],
   "source": [
    "for chunk in ollama.chat(model=\"gemma3:4b\", messages=[{\"role\": \"user\", \"content\": prompt_rag}], stream=True):\n",
    "    print(chunk[\"message\"][\"content\"], end=\"\", flush=True)\n"
   ]
  },
  {
   "cell_type": "code",
   "execution_count": 21,
   "metadata": {},
   "outputs": [
    {
     "name": "stdout",
     "output_type": "stream",
     "text": [
      "<think>\n",
      "Alright, let's tackle this problem step by step. So, the user has provided a bunch of data in Italian and wants me to extract specific information from it. The goal is to return only the IDCliente, RagSoc, and Indirizzo Dest in JSON format without any additional details.\n",
      "\n",
      "First, I need to understand what each part represents. It looks like there are multiple entries, each with several fields: IDCliente (client ID), RagSoc (probably a society or association name), Indirizzo (address) which includes both the main and destination address, PIVA (which might be a specific code or identifier), and various contact details.\n",
      "\n",
      "The user wants only three pieces of information: IDCliente, RagSoc, and Indirizzo Dest. So my task is to extract these from each entry and structure them into JSON objects with keys as \"id\", \"rag_societate\", and \"indirizzo_destinazione\".\n",
      "\n",
      "I need to make sure I'm capturing the correct fields for each part of the address. For example, in some entries like ID 8161, there's just one address field called Indirizzo, but it seems to contain both the main and destination addresses. So maybe I should split that into two parts: Indirizzo and Indirizzo Destinazione.\n",
      "\n",
      "Also, since each entry is separate, I'll need to process them individually and compile a list of JSON objects for each client ID.\n",
      "\n",
      "I have to be careful with special characters or extra spaces in the address fields to avoid any formatting issues in the JSON output. It's also important to ensure that all entries are included in the final response without omissions.\n",
      "\n",
      "So, summarizing my steps:\n",
      "1. Parse each entry line by line.\n",
      "2. For each client ID, extract RagSoc and the destination address.\n",
      "3. Handle cases where Indirizzo might contain both main and destination addresses, extracting only the destination part.\n",
      "4. Compile all extracted data into a JSON array with the specified keys.\n",
      "\n",
      "I think that covers everything needed to meet the user's requirements accurately without including any extra information.\n",
      "</think>\n",
      "\n",
      "```json\n",
      "[\n",
      "    {\n",
      "        \"id\": 12345,\n",
      "        \"rag_societate\": \"BOMAKI\",\n",
      "        \"indirizzo_destinazione\": \"VIA RAFFAELLO SANZIO, 24\"\n",
      "    },\n",
      "    {\n",
      "        \"id\": 67890,\n",
      "        \"rag_societate\": \"BOMAKI\",\n",
      "        \"indirizzo_destinazione\": \"CORSO SEMPIONE,8\"\n",
      "    },\n",
      "    {\n",
      "        \"id\": 11397,\n",
      "        \"rag_societate\": \"IOI S.R.L. - BOMAKI GARIBALDI\",\n",
      "        \"indirizzo_destinazione\": \"VIA GARIBALDI ,79\"\n",
      "    }\n",
      "]\n",
      "```"
     ]
    }
   ],
   "source": [
    "for chunk in ollama.chat(model=\"deepseek-r1:7b\", messages=[{\"role\": \"user\", \"content\": prompt_rag}], stream=True):\n",
    "    print(chunk[\"message\"][\"content\"], end=\"\", flush=True)\n"
   ]
  }
 ],
 "metadata": {
  "kernelspec": {
   "display_name": "zoppis",
   "language": "python",
   "name": "python3"
  },
  "language_info": {
   "codemirror_mode": {
    "name": "ipython",
    "version": 3
   },
   "file_extension": ".py",
   "mimetype": "text/x-python",
   "name": "python",
   "nbconvert_exporter": "python",
   "pygments_lexer": "ipython3",
   "version": "3.11.11"
  }
 },
 "nbformat": 4,
 "nbformat_minor": 2
}
