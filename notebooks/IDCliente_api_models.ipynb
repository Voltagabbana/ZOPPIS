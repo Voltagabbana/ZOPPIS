{
 "cells": [
  {
   "cell_type": "markdown",
   "metadata": {},
   "source": [
    "15/03/2025"
   ]
  },
  {
   "cell_type": "code",
   "execution_count": 1,
   "metadata": {},
   "outputs": [],
   "source": [
    "import pandas as pd"
   ]
  },
  {
   "cell_type": "code",
   "execution_count": 2,
   "metadata": {},
   "outputs": [],
   "source": [
    "df_clienti = pd.read_csv(r\"C:\\Users\\enduser\\Desktop\\PythonPostLaurea\\ZOPPIS\\ZOPPIS\\data\\clienti.csv\",sep = \";\")\n"
   ]
  },
  {
   "cell_type": "markdown",
   "metadata": {},
   "source": [
    "### Full text creation"
   ]
  },
  {
   "cell_type": "code",
   "execution_count": 3,
   "metadata": {},
   "outputs": [],
   "source": [
    "import ollama\n",
    "import json\n",
    "import os"
   ]
  },
  {
   "cell_type": "code",
   "execution_count": 4,
   "metadata": {},
   "outputs": [],
   "source": [
    "def create_full_text(row, prefix=\"search_document\"):\n",
    "    return f\"{prefix}: \" + \", \".join(\n",
    "        f\"{col}: {val}\"\n",
    "        for col, val in row.items() \n",
    "        if pd.notna(val)\n",
    "    )\n",
    "\n",
    "df_clienti[\"full_text\"] = df_clienti.apply(create_full_text, axis=1)"
   ]
  },
  {
   "cell_type": "code",
   "execution_count": 5,
   "metadata": {},
   "outputs": [],
   "source": [
    "df_clienti_full_text = df_clienti[\"full_text\"]"
   ]
  },
  {
   "cell_type": "markdown",
   "metadata": {},
   "source": [
    "### Embedding generation"
   ]
  },
  {
   "cell_type": "markdown",
   "metadata": {},
   "source": [
    "NB: sulla repo di nomic-embed-text dicono che bisogna mettere una chiave per dire che tipo di task si vuole fare."
   ]
  },
  {
   "cell_type": "code",
   "execution_count": 22,
   "metadata": {},
   "outputs": [],
   "source": [
    "import google.generativeai as genai\n",
    "import os\n",
    "import base64\n",
    "from dotenv import load_dotenv\n",
    "\n",
    "load_dotenv()\n",
    "API_KEY = os.environ.get(\"GOOGLE_API_KEY\")"
   ]
  },
  {
   "cell_type": "code",
   "execution_count": 23,
   "metadata": {},
   "outputs": [],
   "source": [
    "# import google.generativeai as genai\n",
    "\n",
    "# genai.configure(api_key=API_KEY)\n",
    "\n",
    "# models = genai.list_models()\n",
    "\n",
    "# for model in models:\n",
    "#     print(model.name)\n"
   ]
  },
  {
   "cell_type": "code",
   "execution_count": 101,
   "metadata": {},
   "outputs": [
    {
     "name": "stdout",
     "output_type": "stream",
     "text": [
      "Il path 'C:\\Users\\enduser\\Desktop\\PythonPostLaurea\\ZOPPIS\\ZOPPIS\\embeddings\\gemini_text_embedding_004.parquet' esiste già, uscita dal ciclo.\n"
     ]
    }
   ],
   "source": [
    "import os\n",
    "import pandas as pd\n",
    "import ollama\n",
    "import google.generativeai as genai\n",
    "import time\n",
    "\n",
    "def get_embedding(text, method=\"local\", task_type = \"retrieval_document\"):\n",
    "    if method == \"local\":\n",
    "        try:\n",
    "            response = ollama.embeddings(model=\"nomic-embed-text\", prompt=text)\n",
    "            return response[\"embedding\"]\n",
    "        except Exception as e:\n",
    "            print(f\"Errore durante l'embedding: {e}\")\n",
    "            return None\n",
    "    if method == \"api\":\n",
    "        try:\n",
    "            #time.sleep(2)\n",
    "            response = genai.embed_content(\n",
    "                model=\"models/text-embedding-004\",\n",
    "                content=text,\n",
    "                task_type=task_type\n",
    "            )\n",
    "            return response[\"embedding\"]\n",
    "            \n",
    "        except Exception as e:\n",
    "            print(f\"Errore durante l'embedding: {e}\")\n",
    "            return None\n",
    "\n",
    "path = r\"C:\\Users\\enduser\\Desktop\\PythonPostLaurea\\ZOPPIS\\ZOPPIS\\embeddings\\gemini_text_embedding_004.parquet\"\n",
    "\n",
    "if not os.path.exists(path):\n",
    "    df_clienti_emb = df_clienti_full_text.apply(get_embedding, method=\"api\")\n",
    "    df_clienti_emb = pd.DataFrame(df_clienti_emb)\n",
    "    df_clienti_emb.to_parquet(path, engine=\"pyarrow\")\n",
    "    print(\"Embeddings salvati\")\n",
    "else:\n",
    "    print(f\"Il path '{path}' esiste già, uscita dal ciclo.\")\n"
   ]
  },
  {
   "cell_type": "code",
   "execution_count": 84,
   "metadata": {},
   "outputs": [],
   "source": [
    "df_clienti_emb = pd.read_parquet(path)"
   ]
  },
  {
   "cell_type": "markdown",
   "metadata": {},
   "source": [
    "ci ha messo 13 min x 6600 clienti.\n",
    "\n",
    "la dimensione è di 768"
   ]
  },
  {
   "cell_type": "markdown",
   "metadata": {},
   "source": [
    "### OCR:"
   ]
  },
  {
   "cell_type": "markdown",
   "metadata": {},
   "source": [
    "con gemini flash"
   ]
  },
  {
   "cell_type": "code",
   "execution_count": 141,
   "metadata": {},
   "outputs": [],
   "source": [
    "import google.generativeai as genai\n",
    "import os\n",
    "import base64\n",
    "from dotenv import load_dotenv\n",
    "\n",
    "load_dotenv()\n",
    "API_KEY = os.environ.get(\"GOOGLE_API_KEY\")\n",
    "genai.configure(api_key=API_KEY)\n",
    "model = genai.GenerativeModel(\"gemini-2.0-flash\")\n",
    "doc_path = r\"C:\\Users\\enduser\\Desktop\\PythonPostLaurea\\ZOPPIS\\ZOPPIS\\data\\inputs\\moam.pdf\"\n",
    "with open(doc_path, \"rb\") as doc_file:\n",
    "    doc_data = base64.standard_b64encode(doc_file.read()).decode(\"utf-8\")\n",
    "prompt = \"\"\"\n",
    "Trascrivi fedelmente il contenuto di questo documento PDF. Non aggiungere spiegazioni, riassunti o commenti.\n",
    "Devi solo riportare il testo esattamente come appare nel documento.\n",
    "\"\"\"\n",
    "response = model.generate_content([\n",
    "    {'mime_type': 'application/pdf', 'data': doc_data},\n",
    "    prompt\n",
    "])\n",
    "#print(response.text)\n",
    "ordine = response.text\n"
   ]
  },
  {
   "cell_type": "code",
   "execution_count": 142,
   "metadata": {},
   "outputs": [
    {
     "data": {
      "text/plain": [
       "\"ORDINE MOAM 13/12/24 Milano\\nMittente Erik Calati <erikcalati@gmail.com>\\nDestinatario Zoppis Srl-ordini <ordini@zoppis.com>\\nCc <flavio.allaria@gmail.com>\\nData 2024-12-13 18:14\\n\\nBuona sera in allegato l'ordine in oggetto:\\n• 2 box asahi 330 ml\\n• 3box nastro azzurro 330 ml\\n• 3 box Thomas Henry pompelmo rosa\\n• 1 box coca cola 200 ml\\n• 1 box coca cola 0 200 ml\\n• 1 box Espolon Blanco\\n• 1 box Campari\\n• 2 bt Maraschino\\n• 1 Punt e mes\\n• 1 Ketel One Vodka\\n• 1 box achillea arancia 200 ml\\n• 1 box achillea pera 200 ml\\n\\nGrazie, Erik\\n\""
      ]
     },
     "execution_count": 142,
     "metadata": {},
     "output_type": "execute_result"
    }
   ],
   "source": [
    "ordine"
   ]
  },
  {
   "cell_type": "code",
   "execution_count": 150,
   "metadata": {},
   "outputs": [],
   "source": [
    "ordine = \"ORDINE per il cliente MOAM di stresa, golf club alpino 13/12/24. ristorante Paolo Boneschi. Milano\\nMittente Erik Calati <erikcalati@gmail.com>\\nDestinatario Zoppis Srl-ordini <ordini@zoppis.com>\\nCc <flavio.allaria@gmail.com>\\nData 2024-12-13 18:14\\n\\nBuona sera in allegato l'ordine in oggetto:\\n• 2 box asahi 330 ml\\n• 3box nastro azzurro 330 ml\\n• 3 box Thomas Henry pompelmo rosa\\n• 1 box coca cola 200 ml\\n• 1 box coca cola 0 200 ml\\n• 1 box Espolon Blanco\\n• 1 box Campari\\n• 2 bt Maraschino\\n• 1 Punt e mes\\n• 1 Ketel One Vodka\\n• 1 box achillea arancia 200 ml\\n• 1 box achillea pera 200 ml\\n\\nGrazie, Erik\\n\""
   ]
  },
  {
   "cell_type": "markdown",
   "metadata": {},
   "source": [
    "### RAG"
   ]
  },
  {
   "cell_type": "code",
   "execution_count": null,
   "metadata": {},
   "outputs": [],
   "source": [
    "path = r\"C:\\Users\\enduser\\Desktop\\PythonPostLaurea\\ZOPPIS\\ZOPPIS\\embeddings\\gemini_text_embedding_004.parquet\"\n",
    "\n",
    "df_clienti_emb = pd.read_parquet(path)\n",
    "query = \"search_query: Trovami l'IDCliente (Codice Identificatore Cliente) del seguente ordine: \\n\" + ordine\n",
    "query_emb = get_embedding(query, task_type=\"retrieval_query\", method=\"api\")"
   ]
  },
  {
   "cell_type": "code",
   "execution_count": 159,
   "metadata": {},
   "outputs": [
    {
     "name": "stdout",
     "output_type": "stream",
     "text": [
      "Shape della matrice degli embedding: (6620, 768)\n",
      "Shape dell'embedding della query: 768\n",
      "Top k Indici più simili: [4054 4688 3281 3840 3873 5942 4245 1710 1576 2061 2597 3089 6226 3914\n",
      " 2065]\n",
      "Similarità corrispondenti: [0.7871963  0.76671059 0.76107913 0.75556207 0.75427078 0.75357112\n",
      " 0.75231406 0.75210652 0.75146088 0.75030701 0.7499963  0.74902284\n",
      " 0.74866227 0.74787257 0.74730569]\n"
     ]
    }
   ],
   "source": [
    "import numpy as np\n",
    "from scipy.spatial.distance import cdist\n",
    "k = 15\n",
    "embeddings_series = df_clienti_emb[\"full_text\"]\n",
    "query_embedding = query_emb  \n",
    "embedding_matrix = np.array(embeddings_series.tolist(), dtype=np.float32)\n",
    "print(\"Shape della matrice degli embedding:\", embedding_matrix.shape)\n",
    "print(\"Shape dell'embedding della query:\", len(query_embedding))\n",
    "similarities = 1 - cdist([query_embedding], embedding_matrix, metric=\"cosine\")[0]\n",
    "top_k_indices = np.argsort(similarities)[::-1][:k]\n",
    "print(\"Top k Indici più simili:\", top_k_indices)\n",
    "print(\"Similarità corrispondenti:\", similarities[top_k_indices])\n",
    "\n",
    "rag_results = \"\\n\".join(df_clienti_full_text.loc[top_k_indices].astype(str).tolist())"
   ]
  },
  {
   "cell_type": "code",
   "execution_count": 160,
   "metadata": {},
   "outputs": [],
   "source": [
    "rag_results = \"\\n\".join(df_clienti_full_text.loc[top_k_indices].astype(str).tolist())\n",
    "prompt_rag = f\"\"\"search_query: Trovami l'IDCliente (Codice Identificatore Cliente) del seguente ordine:\n",
    "\n",
    "🚀 **IMPORTANTE: INIZIO ORDINE** 🚀\n",
    "\n",
    "{ordine}\n",
    "\n",
    " **IMPORTANTE: FINE ORDINE**\n",
    "\n",
    " \"sapendo che tramite RAG ho ottenuto i full text (stringa contenente tutti i dati strutturati tabellari) dei clienti più simili all'ordine in oggetto. Riporto di seguito i dati full text dei clienti più simili all'ordine. Dai importanza sopratutto alla destinazione dell'ordine e alla ragione sociale dell'ordine (l'Indirizzo Dest la RagSoc nella tabella) per scegliere la riga trai top-k che ti propongo! \\n\"\n",
    "  \n",
    " 🚀 **IMPORTANTE: INIZIO ELENCO DATI ESTRATTI TRAMITE RAG** 🚀\n",
    " \n",
    " {rag_results}\n",
    "\n",
    "  **IMPORTANTE: FINE ELENCO DATI ESTRATTI TRAMITE RAG**\n",
    "\n",
    "\"\\nRestituiscimi soltanto l'IDCliente, la RagSoc e l'Indirizzo Dest in formato JSON, non voglio alcun tipo di dettaglio aggiuntivo\"\" \n",
    "\"\"\""
   ]
  },
  {
   "cell_type": "code",
   "execution_count": 161,
   "metadata": {},
   "outputs": [
    {
     "name": "stdout",
     "output_type": "stream",
     "text": [
      "search_query: Trovami l'IDCliente (Codice Identificatore Cliente) del seguente ordine:\n",
      "\n",
      "🚀 **IMPORTANTE: INIZIO ORDINE** 🚀\n",
      "\n",
      "ORDINE per il cliente MOAM di stresa, golf club alpino 13/12/24. ristorante Paolo Boneschi. Milano\n",
      "Mittente Erik Calati <erikcalati@gmail.com>\n",
      "Destinatario Zoppis Srl-ordini <ordini@zoppis.com>\n",
      "Cc <flavio.allaria@gmail.com>\n",
      "Data 2024-12-13 18:14\n",
      "\n",
      "Buona sera in allegato l'ordine in oggetto:\n",
      "• 2 box asahi 330 ml\n",
      "• 3box nastro azzurro 330 ml\n",
      "• 3 box Thomas Henry pompelmo rosa\n",
      "• 1 box coca cola 200 ml\n",
      "• 1 box coca cola 0 200 ml\n",
      "• 1 box Espolon Blanco\n",
      "• 1 box Campari\n",
      "• 2 bt Maraschino\n",
      "• 1 Punt e mes\n",
      "• 1 Ketel One Vodka\n",
      "• 1 box achillea arancia 200 ml\n",
      "• 1 box achillea pera 200 ml\n",
      "\n",
      "Grazie, Erik\n",
      "\n",
      "\n",
      " **IMPORTANTE: FINE ORDINE**\n",
      "\n",
      " \"sapendo che tramite RAG ho ottenuto i full text (stringa contenente tutti i dati strutturati tabellari) dei clienti più simili all'ordine in oggetto. Riporto di seguito i dati full text dei clienti più simili all'ordine. Dai importanza sopratutto alla destinazione dell'ordine e alla ragione sociale dell'ordine (l'Indirizzo Dest la RagSoc nella tabella) per scegliere la riga trai top-k che ti propongo! \n",
      "\"\n",
      "  \n",
      " 🚀 **IMPORTANTE: INIZIO ELENCO DATI ESTRATTI TRAMITE RAG** 🚀\n",
      " \n",
      " search_document: IDCliente: 9941, RagSoc: VILLA OLONA SPA, Nominativo: GOLF CLUB LE ROBINIE, Categoria: RISTORANTE, NominativoContatto: RESP. ACQUISTI COSIMO, Indirizzo: VIA UGO MARA, 8, CAP: 21052, Comune: BUSTO ARSIZIO, Prov: VA, Paese: Italia, Zona: GALLARATE, PIVA: 12977910152, Cellulare1: 349 6325255, Persona1: COSIMO, RagSoc_Dest: CLUB HOUSE DEL GOLF - LE ROBINIE, Indirizzo_Dest: VIA PER BUSTO ARSIZIO, 9\n",
      "search_document: IDCliente: 11036, RagSoc: PANETTERIA ZOPPIS SRL, Categoria: BAR, NominativoContatto: MARTA, Indirizzo: CORSO CAVOUR 70, CAP: 28021, Comune: BORGOMANERO, Prov: NO, Paese: Italia, Zona: GOZZANO, PIVA: 01428400038, Cellulare1: 331 5699816, Persona1: MAIA, RagSoc_Dest: PANETTERIA ZOPPIS DI ZOPPIS G. & C. SNC, Indirizzo_Dest: VIA A. DE GASPERI 12\n",
      "search_document: IDCliente: 8518, RagSoc: MOTETTA MICHELE - OSTERIA LA BAITA, Nominativo: OSTERIA LA BAITA, Categoria: RISTORANTE, NominativoContatto: michele, Indirizzo: VIA CRUSINALLO, 24, CAP: 28881, Comune: CASALE CORTE CERRO, Prov: VB, Paese: Italia, Zona: OMEGNA, PIVA: 02068280037, Cellulare1: 340 2169491, Persona1: YARI, RagSoc_Dest: OSTERIA LA BAITA, Indirizzo_Dest: LOC. ALPE COLLA SNC\n",
      "search_document: IDCliente: 9577, RagSoc: HOSTARIA BORROMEI SRL, Nominativo: HOSTARIA BORROMEI, Categoria: RISTORANTE, NominativoContatto: SIG. STEFANO, Indirizzo: VIA BRUSUGLIO, 62, CAP: 20161, Comune: MILANO, Prov: MI, Paese: Italia, Zona: MI-OVEST ZTL, PIVA: 06844490968, Cellulare1: 339 8236253, Persona1: STEFANO, RagSoc_Dest: HOSTARIA BORROMEI SRL, Indirizzo_Dest: VIA BORROMEI , 4\n",
      "search_document: IDCliente: 9646, RagSoc: MILANO TASTING ROOM SRL, Nominativo: MILANO TASTING ROOM, Categoria: PUB, NominativoContatto: ELISA, Indirizzo: VIA SAN ROCCO, 5, CAP: 20090, Comune: SEGRATE, Prov: MI, Paese: Italia, Zona: MI-OVEST, PIVA: 10543040967, Cellulare1: 347 2918692, Persona1: ELISA, Cellulare2: 348 2937804, Persona2: ROBERTO, RagSoc_Dest: MILANO TASTING ROOM SRL, Indirizzo_Dest: VIA GIOVANNI RANDACCIO,8\n",
      "search_document: IDCliente: 12814, RagSoc: BAR CAFFETTERIA DI BARONCHELLI SILVIA, Categoria: BAR, Indirizzo: VIA L.A COTTA 2, CAP: 28010, Comune: AMENO, Prov: NO, Paese: Italia, Zona: ORTA SAN GIULIO, PIVA: 02555690037, RagSoc_Dest: BAR CAFFETTERIA DI BARONCHELLI SILVIA, Indirizzo_Dest: VIA L.A COTTA 2\n",
      "search_document: IDCliente: 10308, RagSoc: LIQUORS&SPIRITS SRL, Nominativo: BOTTEGA LIQUORI&SPIRITI, Categoria: ALTRO, NominativoContatto: LUCA PIROLA, Indirizzo: VIA SAVONA, 94, CAP: 20144, Comune: MILANO, Prov: MI, Paese: Italia, Zona: MI-OVEST, PIVA: 09694080962, Cellulare1: 3355697386, Persona1: LUCA PIROLA, RagSoc_Dest: LIQUORS&SPIRITS SRL, Indirizzo_Dest: VIA MELETTE DI GALLIO,11\n",
      "search_document: IDCliente: 5129, RagSoc: CHEZ DRINK DISTRIBUZIONE DI MIOZZI G. & C. SNC, Categoria: GROSSISTA, NominativoContatto: EMILIO, Indirizzo: CORSO IVREA 95, CAP: 11100, Comune: AOSTA, Prov: AO, Paese: Italia, Zona: AOSTA, PIVA: 01108030071, Cellulare1: 340 2557407, Persona1: EMILIO\n",
      "search_document: IDCliente: 4804, RagSoc: CAPRIS MARIO, Nominativo: BAR MAUI, Categoria: BAR, Indirizzo: VIA ACHILLE GRANDI 74, CAP: 28887, Comune: OMEGNA, Prov: VB, Paese: Italia, Zona: OMEGNA, PIVA: 02388050037, Cellulare2: 334 3500449, Persona2: vecchio numero, RagSoc_Dest: BAR MAUI, Indirizzo_Dest: P.ZZA MARTIRI 12\n",
      "search_document: IDCliente: 6054, RagSoc: VIAZZI GIOVANNI - GOLF BOGOGNO, Nominativo: RISTORANTE GOLF BOGOGNO, Categoria: RISTORANTE, NominativoContatto: VIAZZI GIOVANNI, Indirizzo: VIA MARIO CAMERINI 1, CAP: 28016, Comune: ORTA SAN GIULIO, Prov: NO, Paese: Italia, Zona: NOVARA, PIVA: 02035940036, Cellulare1: 380 7108203, Persona1: VIAZZI GIOVANNI, RagSoc_Dest: RISTORANTE GOLF BOGOGNO, Indirizzo_Dest: VIA SANT'ISIDORO, 1\n",
      "search_document: IDCliente: 7188, RagSoc: LA NOSTRA OSTERIA S.R.L., Nominativo: RISTORANTE GOLF CLUB BOGOGNO, Categoria: RISTORANTE, NominativoContatto: CLAUDIO RAIMONDI - ADELE - MICHELA, Indirizzo: VIA S. ISIDORO, 1, CAP: 28010, Comune: BOGOGNO, Prov: NO, Paese: Italia, Zona: NOVARA, PIVA: 02580640031, Cellulare1: 345 0368103, Persona1: MICHELA, RagSoc_Dest: RISTORANTE GOLF BOGOGNO, Indirizzo_Dest: VIA SANT'ISIDORO, 1\n",
      "search_document: IDCliente: 8159, RagSoc: FILOTTI MASSIMO, Nominativo: GIL CAFE', Categoria: BAR, NominativoContatto: CLARISSA, Indirizzo: VIA VILLETTE 2, CAP: 28024, Comune: GOZZANO, Prov: NO, Paese: Italia, Zona: BORGOMANERO, PIVA: 01867680033, Cellulare1: 346 3552010, Persona1: CLARISSA, RagSoc_Dest: GIL CAFE', Indirizzo_Dest: VIALE ZOPPIS\n",
      "search_document: IDCliente: 13158, RagSoc: LAZZATI SRL, Nominativo: OSTERIA LAZZATI, Categoria: RISTORANTE, Indirizzo: VIA MAURIZIO GONZAGA,2, CAP: 20123, Comune: MILANO, Prov: MI, Paese: Italia, Zona: MI-OVEST, PIVA: 13398740962, Persona1: PINO SCALISE, Cellulare2: 393 9334657, Persona2: UFFICIO, RagSoc_Dest: LAZZATI SRL, Indirizzo_Dest: VIA LAZZATI,6\n",
      "search_document: IDCliente: 9706, RagSoc: OCRAM SAS DI AMOROSO GELTRUDE E C., Nominativo: VENTOTTO BISTROT, Categoria: BAR, NominativoContatto: ENZO MELFI, Indirizzo: VIA CAVOUR, 4/A, CAP: 28053, Comune: CASTELLETTO SOPRA TICINO, Prov: NO, Paese: Italia, Zona: GALLARATE, PIVA: 02589030036, Cellulare1: 345 5060766, Persona1: CAROLINA, Cellulare2: 335 6376667, Persona2: ENZO MELFI, RagSoc_Dest: OCRAM SRL, Indirizzo_Dest: VIA GRAMSCI, 89\n",
      "search_document: IDCliente: 6062, RagSoc: GATTI MONICA, Nominativo: X BACCO, Categoria: BAR, NominativoContatto: MARCO, Indirizzo: VIA ROMA 51, CAP: 28040, Comune: LESA, Prov: NO, Paese: Italia, Zona: VERBANIA, PIVA: 02369830035, Cellulare1: 340 6425151, Persona1: MARCO, RagSoc_Dest: X BACCO, Indirizzo_Dest: CORSO MAMELI 7/A\n",
      "\n",
      "  **IMPORTANTE: FINE ELENCO DATI ESTRATTI TRAMITE RAG**\n",
      "\n",
      "\"\n",
      "Restituiscimi soltanto l'IDCliente, la RagSoc e l'Indirizzo Dest in formato JSON, non voglio alcun tipo di dettaglio aggiuntivo\"\" \n",
      "\n"
     ]
    }
   ],
   "source": [
    "print(prompt_rag)"
   ]
  },
  {
   "cell_type": "code",
   "execution_count": 162,
   "metadata": {},
   "outputs": [
    {
     "name": "stdout",
     "output_type": "stream",
     "text": [
      "915\n"
     ]
    }
   ],
   "source": [
    "def count_tokens_simple(text):\n",
    "    return len(text.split())\n",
    "\n",
    "print(count_tokens_simple(prompt_rag))\n"
   ]
  },
  {
   "cell_type": "code",
   "execution_count": 163,
   "metadata": {},
   "outputs": [
    {
     "name": "stdout",
     "output_type": "stream",
     "text": [
      "[\n",
      "  {\n",
      "    \"IDCliente\": \"11036\",\n",
      "    \"RagSoc\": \"PANETTERIA ZOPPIS SRL\",\n",
      "    \"Indirizzo_Dest\": \"VIA A. DE GASPERI 12\"\n",
      "  }\n",
      "]\n"
     ]
    }
   ],
   "source": [
    "generation_config = {\n",
    "  \"temperature\": 0.1,\n",
    "  \"top_p\": 0.95,\n",
    "  \"top_k\": 40,\n",
    "  \"max_output_tokens\": 8192,\n",
    "  \"response_mime_type\": \"application/json\", # posso richiedere esplicitamente il formato strutturato della risposta\n",
    "}\n",
    "\n",
    "model = genai.GenerativeModel(\n",
    "    model_name=\"gemini-2.0-flash-exp\",\n",
    "    generation_config=generation_config,\n",
    "    #system_instruction=\"Sei un venditore, quindi i campi vuoti non li sostituisci con Null ma con valori inventati!\" # solo come esperimento..\n",
    ")\n",
    "\n",
    "output_rag = model.generate_content(prompt_rag)\n",
    "print(output_rag.text)"
   ]
  }
 ],
 "metadata": {
  "kernelspec": {
   "display_name": "zoppis",
   "language": "python",
   "name": "python3"
  },
  "language_info": {
   "codemirror_mode": {
    "name": "ipython",
    "version": 3
   },
   "file_extension": ".py",
   "mimetype": "text/x-python",
   "name": "python",
   "nbconvert_exporter": "python",
   "pygments_lexer": "ipython3",
   "version": "3.11.11"
  }
 },
 "nbformat": 4,
 "nbformat_minor": 2
}
