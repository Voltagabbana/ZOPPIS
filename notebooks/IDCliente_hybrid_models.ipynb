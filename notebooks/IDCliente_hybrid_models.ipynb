{
 "cells": [
  {
   "cell_type": "markdown",
   "metadata": {},
   "source": [
    "15/03/2025"
   ]
  },
  {
   "cell_type": "code",
   "execution_count": 1,
   "metadata": {},
   "outputs": [],
   "source": [
    "import pandas as pd"
   ]
  },
  {
   "cell_type": "code",
   "execution_count": 2,
   "metadata": {},
   "outputs": [],
   "source": [
    "df_clienti = pd.read_csv(r\"C:\\Users\\enduser\\Desktop\\PythonPostLaurea\\ZOPPIS\\ZOPPIS\\data\\clienti.csv\",sep = \";\")\n"
   ]
  },
  {
   "cell_type": "markdown",
   "metadata": {},
   "source": [
    "### Full text creation"
   ]
  },
  {
   "cell_type": "code",
   "execution_count": 3,
   "metadata": {},
   "outputs": [],
   "source": [
    "import ollama\n",
    "import json\n",
    "import os"
   ]
  },
  {
   "cell_type": "code",
   "execution_count": 4,
   "metadata": {},
   "outputs": [],
   "source": [
    "def create_full_text(row, prefix=\"search_document\"):\n",
    "    return f\"{prefix}: \" + \", \".join(\n",
    "        f\"{col}: {val}\"\n",
    "        for col, val in row.items() \n",
    "        if pd.notna(val)\n",
    "    )\n",
    "\n",
    "df_clienti[\"full_text\"] = df_clienti.apply(create_full_text, axis=1)"
   ]
  },
  {
   "cell_type": "code",
   "execution_count": 25,
   "metadata": {},
   "outputs": [],
   "source": [
    "df_clienti_full_text = df_clienti[\"full_text\"]"
   ]
  },
  {
   "cell_type": "markdown",
   "metadata": {},
   "source": [
    "### Embedding generation"
   ]
  },
  {
   "cell_type": "markdown",
   "metadata": {},
   "source": [
    "NB: sulla repo di nomic-embed-text dicono che bisogna mettere una chiave per dire che tipo di task si vuole fare."
   ]
  },
  {
   "cell_type": "code",
   "execution_count": 5,
   "metadata": {},
   "outputs": [],
   "source": [
    "import google.generativeai as genai\n",
    "import os\n",
    "import base64\n",
    "from dotenv import load_dotenv\n",
    "\n",
    "load_dotenv()\n",
    "API_KEY = os.environ.get(\"GOOGLE_API_KEY\")"
   ]
  },
  {
   "cell_type": "code",
   "execution_count": 23,
   "metadata": {},
   "outputs": [],
   "source": [
    "# import google.generativeai as genai\n",
    "\n",
    "# genai.configure(api_key=API_KEY)\n",
    "\n",
    "# models = genai.list_models()\n",
    "\n",
    "# for model in models:\n",
    "#     print(model.name)\n"
   ]
  },
  {
   "cell_type": "code",
   "execution_count": 6,
   "metadata": {},
   "outputs": [
    {
     "name": "stdout",
     "output_type": "stream",
     "text": [
      "Il path 'C:\\Users\\enduser\\Desktop\\PythonPostLaurea\\ZOPPIS\\ZOPPIS\\embeddings\\nomic_search_index.parquet' esiste già, uscita dal ciclo.\n"
     ]
    }
   ],
   "source": [
    "import os\n",
    "import pandas as pd\n",
    "import ollama\n",
    "import google.generativeai as genai\n",
    "import time\n",
    "\n",
    "def get_embedding(text, method=\"local\", task_type = \"retrieval_document\"):\n",
    "    if method == \"local\":\n",
    "        try:\n",
    "            response = ollama.embeddings(model=\"nomic-embed-text\", prompt=text)\n",
    "            return response[\"embedding\"]\n",
    "        except Exception as e:\n",
    "            print(f\"Errore durante l'embedding: {e}\")\n",
    "            return None\n",
    "    if method == \"api\":\n",
    "        try:\n",
    "            #time.sleep(2)\n",
    "            response = genai.embed_content(\n",
    "                model=\"models/text-embedding-004\",\n",
    "                content=text,\n",
    "                task_type=task_type\n",
    "            )\n",
    "            return response[\"embedding\"]\n",
    "            \n",
    "        except Exception as e:\n",
    "            print(f\"Errore durante l'embedding: {e}\")\n",
    "            return None\n",
    "\n",
    "path = r\"C:\\Users\\enduser\\Desktop\\PythonPostLaurea\\ZOPPIS\\ZOPPIS\\embeddings\\nomic_search_index.parquet\"\n",
    "\n",
    "if not os.path.exists(path):\n",
    "    df_clienti_emb = df_clienti_full_text.apply(get_embedding, method=\"api\")\n",
    "    df_clienti_emb = pd.DataFrame(df_clienti_emb)\n",
    "    df_clienti_emb.to_parquet(path, engine=\"pyarrow\")\n",
    "    print(\"Embeddings salvati\")\n",
    "else:\n",
    "    print(f\"Il path '{path}' esiste già, uscita dal ciclo.\")\n"
   ]
  },
  {
   "cell_type": "code",
   "execution_count": 7,
   "metadata": {},
   "outputs": [],
   "source": [
    "df_clienti_emb = pd.read_parquet(path)"
   ]
  },
  {
   "cell_type": "markdown",
   "metadata": {},
   "source": [
    "ci ha messo 13 min x 6600 clienti.\n",
    "\n",
    "la dimensione è di 768"
   ]
  },
  {
   "cell_type": "markdown",
   "metadata": {},
   "source": [
    "### OCR:"
   ]
  },
  {
   "cell_type": "markdown",
   "metadata": {},
   "source": [
    "con gemini flash"
   ]
  },
  {
   "cell_type": "code",
   "execution_count": 65,
   "metadata": {},
   "outputs": [],
   "source": [
    "import google.generativeai as genai\n",
    "import os\n",
    "import base64\n",
    "from dotenv import load_dotenv\n",
    "\n",
    "load_dotenv()\n",
    "API_KEY = os.environ.get(\"GOOGLE_API_KEY\")\n",
    "genai.configure(api_key=API_KEY)\n",
    "model = genai.GenerativeModel(\"gemini-2.0-flash\")\n",
    "doc_path = r\"C:\\Users\\enduser\\Desktop\\PythonPostLaurea\\ZOPPIS\\ZOPPIS\\data\\inputs\\sunflower.pdf\"\n",
    "with open(doc_path, \"rb\") as doc_file:\n",
    "    doc_data = base64.standard_b64encode(doc_file.read()).decode(\"utf-8\")\n",
    "prompt = \"\"\"\n",
    "Trascrivi fedelmente il contenuto di questo documento PDF. Non aggiungere spiegazioni, riassunti o commenti.\n",
    "Devi solo riportare il testo esattamente come appare nel documento.\n",
    "\"\"\"\n",
    "response = model.generate_content([\n",
    "    {'mime_type': 'application/pdf', 'data': doc_data},\n",
    "    prompt\n",
    "])\n",
    "#print(response.text)\n",
    "ordine = response.text\n"
   ]
  },
  {
   "cell_type": "code",
   "execution_count": 66,
   "metadata": {},
   "outputs": [
    {
     "data": {
      "text/plain": [
       "\"ordini_in@zoppis.com\\nDa:\\nInviato:\\nA:\\nOggetto:\\nzoppis@zoppis.com\\nvenerdi 13 dicembre 2024 14:21\\nordini_in@zoppis.com\\nNuovo ordine on-line\\n****** Nuovo ordine da Internet ******§\\nValOrd:#2024_12_13#1421081*14285\\nIDOrdine:20010057035\\nCodUtente:270002805\\nData:13/12/2024 14:20:385\\nStato:Da preparareş\\nRagSoc_Dest:SUNFLOWER SRL§\\nIndirizzo Dest: VIA BORGO VICO 395\\nCAP_Dest:221005\\nComune_Dest:COMO§\\nProv_Dest:CO§\\nPaese_Dest:Italia§\\nNumTel_Dest:3936886595§\\nNumCellulare_Dest:39368865955\\nPersona_Dest:GIUSEPPES\\nNumFax_Dest:§\\nPagamento:Contrassegnos\\nTipoConsegna:Normales\\nNote: DA CONSEGNARE MARTEDI' 17/12 CON IL RESTO DELL'ORDINE CHE VI MANDERANNO !!! GRAZIE MILLES\\nTipoOrdine:Normales\\nMessaggio:§\\nDocum:15\\nIDContatto:2085\\nInviato:Vero§\\nTotOrdinelvalncl:49,9595\\nTotPesoLordo:1,52§\\nSpese TrasportolvaEscl:05\\nSpeselmballaggiolvaEscl:05\\nSpeseAssicurazionelva Escl:0§\\nSpese ConsRapidalvaEscl:05\\n####>>>>RigheOrdine<<<<####§\\nDProdotto | NomeProdottoCompleto | Quantita | LivSconto | Prezzo | Offertaş\\n18361|GIN KI NO BI KYOTO DRY GIN, 0, 0, 70|1|0|40,95| Falso§\\n***FINEORDINE***§\\n\""
      ]
     },
     "execution_count": 66,
     "metadata": {},
     "output_type": "execute_result"
    }
   ],
   "source": [
    "ordine"
   ]
  },
  {
   "cell_type": "code",
   "execution_count": 73,
   "metadata": {},
   "outputs": [],
   "source": [
    "# ordine = \"ORDINE per il cliente MOAM di stresa, golf club alpino 13/12/24. ristorante Paolo Boneschi. Milano\\nMittente Erik Calati <erikcalati@gmail.com>\\nDestinatario Zoppis Srl-ordini <ordini@zoppis.com>\\nCc <flavio.allaria@gmail.com>\\nData 2024-12-13 18:14\\n\\nBuona sera in allegato l'ordine in oggetto:\\n• 2 box asahi 330 ml\\n• 3box nastro azzurro 330 ml\\n• 3 box Thomas Henry pompelmo rosa\\n• 1 box coca cola 200 ml\\n• 1 box coca cola 0 200 ml\\n• 1 box Espolon Blanco\\n• 1 box Campari\\n• 2 bt Maraschino\\n• 1 Punt e mes\\n• 1 Ketel One Vodka\\n• 1 box achillea arancia 200 ml\\n• 1 box achillea pera 200 ml\\n\\nGrazie, Erik\\n\"\n",
    "# ordine = \"ORDINE per il cliente MOAM di stresa, golf club alpino 13/12/24. ristorante Paolo Boneschi. Milano\\nMittente Erik Calati <erikcalati@gmail.com>\\nDestinatario Zoppis Srl-ordini <ordini@zoppis.com>\\nCc <flavio.allaria@gmail.com>\\nData 2024-12-13 18:14\\n\\nBuona sera in allegato l'ordine in oggetto:\\n• 2 box asahi 330 ml\\n• 3box nastro azzurro 330 ml\\n• 3 box Thomas Henry pompelmo rosa\\n• 1 box coca cola 200 ml\\n• 1 box coca cola 0 200 ml\\n• 1 box Espolon Blanco\\n• 1 box Campari\\n• 2 bt Maraschino\\n• 1 Punt e mes\\n• 1 Ketel One Vodka\\n• 1 box achillea arancia 200 ml\\n• 1 box achillea pera 200 ml\\n\\nGrazie, Erik\\n\"\n",
    "# ordine = \"BOMAKI\\nURAMAKERIA NIPPO BRASILIANA\\nOrdine di\\nacquisto\\nCod. Fornitore\\nF100143\\nNumero\\n230032104\\nP.IVA/Cod. fisc,\\nIT01576310039\\nData\\n13/12/2024\\nVs. Riferimento\\nValuta\\nEUR\\nAgente\\nPag.\\n1 of 1\\nCondizioni e modalità di pagamento\\nBonifico SEPA 30 GG DF FM\\n101 Srl\\nSede legale Corso Sempione 20154 Milano (MI) - Italia\\nP.IVA/C Fiscale IT04995690965\\nR.Ε.Α. 561011\\nTel. 0289071703\\nEmail: amministrazione@bomaki.it\\nWeb: www.bomaki.it\\nSpett.le\\nZOPPIS SRL\\nVIA PER ALZO 21\\n28017 SAN MAURIZIO D'OPAGLIO (NO) -\\nITALY\\nIndirizzo di spedizione\\nBomaki di:\\nVia Bernardino Corio 8\\n20135 MILANO\\nITALYVia Bernardino Corio 8\\n20135 MILANO\\nCod. articolo\\nDescrizione articolo\\nQta U.M. Prezzo netto Cod. IVA Imponibile\\n19675\\nACQUA BRILLANTE TONICA VAP\\n1.00 CT\\n11.95\\n22.00\\n14.58\\n15061\\nCACHACA LEBLON 70 MAISON LEBLON\\n6.00 CT\\n603.00\\n22.00\\n735.66\\n8729\\nGIN HENDRICK'S CL100\\n2.00 PZ\\n65.90\\n22.00\\n80.40\\n15666\\nHIERBAS DE IBIZA Litro AROMATICAS DE IBIZA!\\n12.00 PZ\\n203.40\\n22.00\\n248.15\\n24626\\nSAMBUCA RAMAZZOTI CL70\\n3.00 PZ\\n20.85\\n22.00\\n25.44\\n24945\\nSHARIS FELLUGA VENEZIE\\n30.00 PZ\\n289.50\\n22.00\\n353.19\\n13035\\nTEQUILA PATRON Silver CL70\\n2.00 PZ\\n67.50\\n22.00\\n82.35\\n20577\\nVODKA 42 BELOW LITRO\\n30.00 PZ\\n436.50\\n22.00\\n532.53\\n\"\n",
    "# ordine = \"BOMAKI\\nURAMAKERIA NIPPO BRASILIANA\\nOrdine di\\nacquisto\\nCod. Fornitore\\nF100143\\nNumero\\n230032104\\nP.IVA/Cod. fisc,\\nIT01576310039\\nData\\n13/12/2024\\nVs. Riferimento\\nValuta\\nEUR\\nAgente\\nPag.\\n1 of 1\\nCondizioni e modalità di pagamento\\nBonifico SEPA 30 GG DF FM\\n101 Srl\\nSede legale Corso Sempione 20154 Milano (MI) - Italia\\nP.IVA/C Fiscale IT04995690965\\nR.Ε.Α. 561011\\nTel. 0289071703\\nEmail: amministrazione@bomaki.it\\nWeb: www.bomaki.it\\nSpett.le\\nZOPPIS SRL\\nVIA PER ALZO 21\\n28017 SAN MAURIZIO D'OPAGLIO (NO) -\\nITALY\\nIndirizzo di spedizione\\nBomaki di:\\nVia Bernardino Corio 8\\n20135 MILANO\\nITALYVia Bernardino Corio 8\\n20135 MILANO\\nCod. articolo\\nDescrizione articolo\\nQta U.M. Prezzo netto Cod. IVA Imponibile\\n19675\\nACQUA BRILLANTE TONICA VAP\\n1.00 CT\\n11.95\\n22.00\\n14.58\\n15061\\nCACHACA LEBLON 70 MAISON LEBLON\\n6.00 CT\\n603.00\\n22.00\\n735.66\\n8729\\nGIN HENDRICK'S CL100\\n2.00 PZ\\n65.90\\n22.00\\n80.40\\n15666\\nHIERBAS DE IBIZA Litro AROMATICAS DE IBIZA!\\n12.00 PZ\\n203.40\\n22.00\\n248.15\\n24626\\nSAMBUCA RAMAZZOTI CL70\\n3.00 PZ\\n20.85\\n22.00\\n25.44\\n24945\\nSHARIS FELLUGA VENEZIE\\n30.00 PZ\\n289.50\\n22.00\\n353.19\\n13035\\nTEQUILA PATRON Silver CL70\\n2.00 PZ\\n67.50\\n22.00\\n82.35\\n20577\\nVODKA 42 BELOW LITRO\\n30.00 PZ\\n436.50\\n22.00\\n532.53\\n\"\n",
    "ordine = \"nData:13/12/2024 14:20:385\\nStato:Da preparareş\\nRagSoc_Dest:SUNFLOWER SRL\\nIndirizzo Dest: VIA BORGO VICO 395\\nCAP_Dest:221005\\nComune_Dest:COMO§\\nProv_Dest:CO§\\nPaese_Dest:Italia§\\nNumTel_Dest:3936886595§\\nNumCellulare_Dest:39368865955\\nPersona_Dest:GIUSEPPES\\nNumFax_Dest:§\\nPagamento:Contrassegnos\\nTipoConsegna:Normales\\nNote: DA CONSEGNARE MARTEDI' 17/12 CON IL RESTO DELL'ORDINE CHE VI MANDERANNO !!! GRAZIE MILLES\\nTipoOrdine:Normales\\nMessaggio:§\\nDocum:15\\nIDContatto:2085\\nInviato:Vero§\\nTotOrdinelvalncl:49,9595\\nTotPesoLordo:1,52§\\nSpese TrasportolvaEscl:05\\nSpeselmballaggiolvaEscl:05\\nSpeseAssicurazionelva Escl:0§\\nSpese ConsRapidalvaEscl:05\\n####>>>>RigheOrdine<<<<####§\\nDProdotto | NomeProdottoCompleto | Quantita | LivSconto | Prezzo | Offertaş\\n18361|GIN KI NO BI KYOTO DRY GIN, 0, 0, 70|1|0|40,95| Falso§\\n***FINEORDINE***§\\n\"\n",
    "\n"
   ]
  },
  {
   "cell_type": "markdown",
   "metadata": {},
   "source": [
    "### RAG"
   ]
  },
  {
   "cell_type": "code",
   "execution_count": 57,
   "metadata": {},
   "outputs": [],
   "source": [
    "path = r\"C:\\Users\\enduser\\Desktop\\PythonPostLaurea\\ZOPPIS\\ZOPPIS\\embeddings\\nomic_search_index.parquet\"\n",
    "df_clienti_emb = pd.read_parquet(path)"
   ]
  },
  {
   "cell_type": "code",
   "execution_count": 74,
   "metadata": {},
   "outputs": [],
   "source": [
    "query = \"search_query: Trovami l'IDCliente (Codice Identificatore Cliente) del seguente ordine: \\n\" + ordine\n",
    "query_emb = get_embedding(query,task_type=\"retrieval_query\",method=\"local\")"
   ]
  },
  {
   "cell_type": "code",
   "execution_count": 75,
   "metadata": {},
   "outputs": [
    {
     "name": "stdout",
     "output_type": "stream",
     "text": [
      "Shape della matrice degli embedding: (6620, 768)\n",
      "Shape dell'embedding della query: 768\n",
      "Top k Indici più simili: [4264  728 3595 3678 6219 6171  259 2529 4212 3451 1276 4016  863 4022\n",
      " 2788 1704 4295   42 5655 2480   90 4010 5389 5836 4574 1190 1142 2091\n",
      " 3721 5033 2976 5799   78 6051 3150 1947 2706  676 2446 3308  536 2288\n",
      " 1187 1587 4741  709 4048 4236  803 4502  425  967 4013 1685 4996 2922\n",
      " 3548 6241 4863  294 1318 3233  104 3755 3238 3130 4939 5403 2418 3244\n",
      " 4059 3181 5838 6585 6523 1663  646 5692 4504 4715 3627  956 4397 2574\n",
      " 1189 1238 2473 1385 4781 2866 6072  853 3587 4512 2549 2614 5994 5852\n",
      " 3275 3043]\n",
      "Similarità corrispondenti: [0.77674715 0.77136293 0.77064446 0.76960013 0.76675216 0.766708\n",
      " 0.76632928 0.76481963 0.76333173 0.76267658 0.76261844 0.76228274\n",
      " 0.76205494 0.76132369 0.76084531 0.76067765 0.76061716 0.76013039\n",
      " 0.75983874 0.75977646 0.75974411 0.7596456  0.75926386 0.75889156\n",
      " 0.7581871  0.75812721 0.75805054 0.75798922 0.75797092 0.75791978\n",
      " 0.75788632 0.75780433 0.75779807 0.75775072 0.75764514 0.75757437\n",
      " 0.75752057 0.75722014 0.75721422 0.75693483 0.75667673 0.75660377\n",
      " 0.75659538 0.75651727 0.75640599 0.75640529 0.75631602 0.75629448\n",
      " 0.75621944 0.75594975 0.75563352 0.75544907 0.75515773 0.75504716\n",
      " 0.75501953 0.75456409 0.7544125  0.75440024 0.75436106 0.7543066\n",
      " 0.7540305  0.75379982 0.75372914 0.7536462  0.75362425 0.75359781\n",
      " 0.75354836 0.75354792 0.75347655 0.75338965 0.75298715 0.75298532\n",
      " 0.75298038 0.75292889 0.7528478  0.75282137 0.75258012 0.75247953\n",
      " 0.75245892 0.7524147  0.75224102 0.7521662  0.75213966 0.75208002\n",
      " 0.75200461 0.75200022 0.75198176 0.75188055 0.75178303 0.75178231\n",
      " 0.75175799 0.75175346 0.75157805 0.7514075  0.75138295 0.7513673\n",
      " 0.75134865 0.75133862 0.75133848 0.75133737]\n"
     ]
    }
   ],
   "source": [
    "import numpy as np\n",
    "from scipy.spatial.distance import cdist\n",
    "k = 100\n",
    "embeddings_series = df_clienti_emb[\"full_text\"]\n",
    "query_embedding = query_emb  \n",
    "embedding_matrix = np.array(embeddings_series.tolist(), dtype=np.float32)\n",
    "print(\"Shape della matrice degli embedding:\", embedding_matrix.shape)\n",
    "print(\"Shape dell'embedding della query:\", len(query_embedding))\n",
    "similarities = 1 - cdist([query_embedding], embedding_matrix, metric=\"cosine\")[0]\n",
    "top_k_indices = np.argsort(similarities)[::-1][:k]\n",
    "print(\"Top k Indici più simili:\", top_k_indices)\n",
    "print(\"Similarità corrispondenti:\", similarities[top_k_indices])\n",
    "\n",
    "rag_results = \"\\n\".join(df_clienti_full_text.loc[top_k_indices].astype(str).tolist())"
   ]
  },
  {
   "cell_type": "code",
   "execution_count": 76,
   "metadata": {},
   "outputs": [],
   "source": [
    "rag_results = \"\\n\".join(df_clienti_full_text.loc[top_k_indices].astype(str).tolist())\n",
    "prompt_rag = f\"\"\"search_query: Trovami l'IDCliente (Codice Identificatore Cliente) del seguente ordine:\n",
    "\n",
    "🚀 **IMPORTANTE: INIZIO ORDINE** 🚀\n",
    "\n",
    "{ordine}\n",
    "\n",
    " **IMPORTANTE: FINE ORDINE**\n",
    "\n",
    " \"sapendo che tramite RAG ho ottenuto i full text (stringa contenente tutti i dati strutturati tabellari) dei clienti più simili all'ordine in oggetto. Riporto di seguito i dati full text dei clienti più simili all'ordine. Dai importanza sopratutto alla destinazione dell'ordine e alla ragione sociale dell'ordine (l'Indirizzo Dest la RagSoc nella tabella) per scegliere la riga trai top-k che ti propongo! \\n\"\n",
    "  \n",
    " 🚀 **IMPORTANTE: INIZIO ELENCO DATI ESTRATTI TRAMITE RAG** 🚀\n",
    " \n",
    " {rag_results}\n",
    "\n",
    "  **IMPORTANTE: FINE ELENCO DATI ESTRATTI TRAMITE RAG**\n",
    "\n",
    "\"\\nRestituiscimi soltanto l'IDCliente, la RagSoc e l'Indirizzo Dest in formato JSON, non voglio alcun tipo di dettaglio aggiuntivo\"\" \n",
    "\"\"\""
   ]
  },
  {
   "cell_type": "code",
   "execution_count": 70,
   "metadata": {},
   "outputs": [
    {
     "name": "stdout",
     "output_type": "stream",
     "text": [
      "search_query: Trovami l'IDCliente (Codice Identificatore Cliente) del seguente ordine:\n",
      "\n",
      "🚀 **IMPORTANTE: INIZIO ORDINE** 🚀\n",
      "\n",
      "ordini_in@zoppis.com\n",
      "Da:\n",
      "Inviato:\n",
      "A:\n",
      "Oggetto:\n",
      "zoppis@zoppis.com\n",
      "venerdi 13 dicembre 2024 14:21\n",
      "ordini_in@zoppis.com\n",
      "Nuovo ordine on-line\n",
      "****** Nuovo ordine da Internet ******§\n",
      "ValOrd:#2024_12_13#1421081*14285\n",
      "IDOrdine:20010057035\n",
      "CodUtente:270002805\n",
      "Data:13/12/2024 14:20:385\n",
      "Stato:Da preparareş\n",
      "RagSoc_Dest:SUNFLOWER SRL§\n",
      "Indirizzo Dest: VIA BORGO VICO 395\n",
      "CAP_Dest:221005\n",
      "Comune_Dest:COMO§\n",
      "Prov_Dest:CO§\n",
      "Paese_Dest:Italia§\n",
      "NumTel_Dest:3936886595§\n",
      "NumCellulare_Dest:39368865955\n",
      "Persona_Dest:GIUSEPPES\n",
      "NumFax_Dest:§\n",
      "Pagamento:Contrassegnos\n",
      "TipoConsegna:Normales\n",
      "Note: DA CONSEGNARE MARTEDI' 17/12 CON IL RESTO DELL'ORDINE CHE VI MANDERANNO !!! GRAZIE MILLES\n",
      "TipoOrdine:Normales\n",
      "Messaggio:§\n",
      "Docum:15\n",
      "IDContatto:2085\n",
      "Inviato:Vero§\n",
      "TotOrdinelvalncl:49,9595\n",
      "TotPesoLordo:1,52§\n",
      "Spese TrasportolvaEscl:05\n",
      "SpeselmballaggiolvaEscl:05\n",
      "SpeseAssicurazionelva Escl:0§\n",
      "Spese ConsRapidalvaEscl:05\n",
      "####>>>>RigheOrdine<<<<####§\n",
      "DProdotto | NomeProdottoCompleto | Quantita | LivSconto | Prezzo | Offertaş\n",
      "18361|GIN KI NO BI KYOTO DRY GIN, 0, 0, 70|1|0|40,95| Falso§\n",
      "***FINEORDINE***§\n",
      "\n",
      "\n",
      " **IMPORTANTE: FINE ORDINE**\n",
      "\n",
      " \"sapendo che tramite RAG ho ottenuto i full text (stringa contenente tutti i dati strutturati tabellari) dei clienti più simili all'ordine in oggetto. Riporto di seguito i dati full text dei clienti più simili all'ordine. Dai importanza sopratutto alla destinazione dell'ordine e alla ragione sociale dell'ordine (l'Indirizzo Dest la RagSoc nella tabella) per scegliere la riga trai top-k che ti propongo! \n",
      "\"\n",
      "  \n",
      " 🚀 **IMPORTANTE: INIZIO ELENCO DATI ESTRATTI TRAMITE RAG** 🚀\n",
      " \n",
      " search_document: IDCliente: 1943, RagSoc: F.LLI GANCIA & C. SPA, Categoria: AZIENDA, NominativoContatto: BARACHETTI CLAUDIO, Indirizzo: C.SO LIBERTA' 66, CAP: 14053, Comune: CANELLI, Prov: AT, Paese: Italia, PIVA: 00619260052, Cellulare1: 348 2290542, Persona1: CAVALIERE GILBERTO, Cellulare2: 348 4412057, Persona2: CLAUDIO BARACHETTI, Cellulare3: 348 7492513, Persona3: RENATO PARDINI - DIRETTORE COMMERCIALE ITALIA\n",
      "search_document: IDCliente: 10348, RagSoc: 40 SETTE SRL, Nominativo: 40 SETTE, Categoria: BAR, NominativoContatto: LUIGI, Indirizzo: CORSO LODI, 47, CAP: 20135, Comune: MILANO, Prov: MI, Paese: Italia, Zona: MI-SUD, PIVA: 10369790968\n",
      "search_document: IDCliente: 12371, RagSoc: ORTOFOOD SRL, Nominativo: ORTOFOOD, Categoria: GROSSISTA, NominativoContatto: UMBERTO VISCONTI, Indirizzo: VIA NOVA N. 58, CAP: 28069, Comune: TRECATE, Prov: NO, Paese: Italia, Zona: NOVARA, PIVA: 02543260034, Cellulare1: 351 3558007, Persona1: MARCO ARRIGO, emailpers1: arrigo.ortofood@gmail.com, Cellulare2: 351 3346737, Persona2: UMBERTO VISCONTI, emailpers2: umbertovisconti@ortofood.it\n",
      "search_document: IDCliente: 2820, RagSoc: DPM SRL, Categoria: FORNITORE, Indirizzo: VIA GIUSTI 67/A, CAP: 20090, Comune: VIMODRONE, Prov: MI, Paese: Italia, PIVA: 04160120962\n",
      "search_document: IDCliente: 8828, RagSoc: CEDRAL TASSONI S.P.A., Categoria: FORNITORE, NominativoContatto: DANIELE DE LUCA, Indirizzo: VIALE M.E. BOSSI, 3/5, CAP: 25087, Comune: SALO', Prov: BS, Paese: Italia, PIVA: 00295980171, Cellulare1: 335 298727, Persona1: RICCARDO LODIGIANI, emailpers1: r.lodigiani1@virgilio.it, Cellulare2: 347 3755729, Persona2: DANIELE DE LUCA, emailpers2: daniele.deluca@gruppolunelli.it\n",
      "search_document: IDCliente: 10268, RagSoc: ZERO COMPANY SRL, Nominativo: ZERO LOUNGE GARDEN, Categoria: DISCOTECA, NominativoContatto: SIMONE CARDANI, Indirizzo: VIA BIGLI, 21, CAP: 20121, Comune: MILANO, Prov: MI, Paese: Italia, Zona: GALLARATE, PIVA: 12859050960, emailpers1: federico.borsari@lusaf.it, emailpers2: simone.cardani@lusaf.it, RagSoc_Dest: LUSAF SRL, Indirizzo_Dest: VIA SAN FRANCESCO D'ASSISI 19\n",
      "search_document: IDCliente: 12949, RagSoc: EDIZIONI CONDE' NAST S.P.A., Nominativo: LA CUCINA ITALIANA, Categoria: AZIENDA, NominativoContatto: ANGELA ODONE, Indirizzo: PAIZZALE CADORNA,5, CAP: 20123, Comune: MILANO, Prov: MI, Paese: Italia, Zona: MI-SUD, PIVA: 00834980153, Persona1: ANGELA ODONE, RagSoc_Dest: EDIZIONI CONDE' NASTS S.P.A., Indirizzo_Dest: VIA DEI MISSAGLIA,89/B\n",
      "search_document: IDCliente: 10756, RagSoc: DATA ELECTRONICS SRLS, Categoria: GROSSISTA, NominativoContatto: GIOVANNI, Indirizzo: VIA PIETRO ORLANDI, 24, CAP: 20080, Comune: BUBBIANO, Prov: MI, Paese: Italia, PIVA: 09560590961, Cellulare1: 3423254562, Persona1: GIOVANNI\n",
      "search_document: IDCliente: 6088, RagSoc: CROCETTA S.R.L., Nominativo: CROCETTA, Categoria: RISTORANTE, NominativoContatto: TOMMASO TORRIANI, Indirizzo: CORSO DI PORTA ROMANA 67, CAP: 20122, Comune: MILANO, Prov: MI, Paese: Italia, Zona: MI-SUD ZTL, PIVA: 08340430969, Cellulare1: 342 1487028, Persona1: TOMMASO, Cellulare2: 342 6548104, Persona2: GIOVANNI ROMA, Cellulare3: 349 3591553, Persona3: JACOPO DE MARTINIS, emailpers3: j_demartinis@yahoo.it\n",
      "search_document: IDCliente: 4167, RagSoc: ASSOCIAZIONE CULTURALE LA DELIZIA, Categoria: ALTRO, Indirizzo: VIA VERDI 5, CAP: 28831, Prov: VB, Paese: Italia, Zona: VERBANIA, PIVA: 93031660033, Cellulare1: 340 7176172, Persona1: DANILO GUIDI\n",
      "search_document: IDCliente: 2627, RagSoc: IPER ORIO, Categoria: FORNITORE, Indirizzo: VIA PORTICO, 71, CAP: 24050, Comune: ORIO AL SERIO, Prov: BG, Paese: Italia, PIVA: 12682880153\n",
      "search_document: IDCliente: 13562, RagSoc: ORGANICA EXPERIENCE SRL, Categoria: AZIENDA, NominativoContatto: PATRICK ORIOT, Indirizzo: VIA PIETRO TAMBURINI,6, CAP: 20123, Comune: MILANO, Prov: MI, Paese: Italia, Zona: MI-EST, PIVA: 12464100960, Cellulare1: 348 6545311, Persona1: PATRICK ORIOT\n",
      "search_document: IDCliente: 4080, RagSoc: BISCALDI LUIGI IMPORT EXPORT SRL, Categoria: ALTRO, NominativoContatto: CLAUDIO MERIGGI GENERAL MANAGER, Indirizzo: C.SO CAVOUR 38, CAP: 28079, Comune: VESPOLATE, Prov: NO, Paese: Italia, PIVA: 00887140036, Cellulare1: 335 6974374, Persona1: CLAUDIO MERIGGI, Cellulare2: 3356103692, Persona2: AZZIMONTI DANILO, RagSoc_Dest: IDEM, Indirizzo_Dest: VIA DELLE FABBRICHE 8 CD-R\n",
      "search_document: IDCliente: 13088, RagSoc: DARDANIA SRLS, Categoria: BAR, NominativoContatto: DARDANI, Indirizzo: VIALE CONSEIL DES COMMIS 13, CAP: 11100, Comune: AOSTA, Prov: AO, Paese: Italia, Zona: LESA, PIVA: 01294590078, RagSoc_Dest: DARDANIA SRLS, Indirizzo_Dest: VIA PORTICO 32\n",
      "search_document: IDCliente: 4572, RagSoc: FLEMAV SRL, Nominativo: NEW GENERATION, Categoria: BAR, NominativoContatto: IRINA, Indirizzo: VIALE ZOPPIS 29A, CAP: 28021, Comune: BORGOMANERO, Prov: NO, Paese: Italia, Zona: BORGOMANERO, PIVA: 01307260115\n",
      "search_document: IDCliente: 7401, RagSoc: DISTILLERIA MARZADRO SPA, Categoria: FORNITORE, Indirizzo: VIA PER BRANCOLINO 10, CAP: 38060, Comune: NOGAREDO, Prov: TN, Paese: Italia, PIVA: 01451450223\n",
      "search_document: IDCliente: 7577, RagSoc: VIDA' SRL, Nominativo: FUORIONDA, Categoria: RISTORANTE, NominativoContatto: GIUSEPPE (ORDINI E ASSORTIMENTO), Indirizzo: VIA TADINO 54, CAP: 20134, Comune: MILANO, Prov: MI, Paese: Italia, Zona: MONZA, PIVA: 08888530964, Cellulare1: 335 6887933, Persona1: TONINO (TITOLARE), RagSoc_Dest: FUORIONDA, Indirizzo_Dest: C.SO EUROPA 35\n",
      "search_document: IDCliente: 13563, RagSoc: STUDIO 54 SRL, Categoria: AZIENDA, NominativoContatto: PATRICK ORIOT, Indirizzo: VIA MECENATE, 84/7, CAP: 20138, Comune: MILANO, Prov: MI, Paese: Italia, Zona: MI-EST, PIVA: 07405650966, Cellulare1: 348 6545311, Persona1: PATRICK ORIOT\n",
      "search_document: IDCliente: 9258, RagSoc: ORCHI DIVINI SNC DI PETERLE S. & BARBAGLIA E., Nominativo: ORCOBACCO, Categoria: RISTORANTE, NominativoContatto: SIMONE E EMANUELE, Indirizzo: VIALE MARAZZA, 4, CAP: 28021, Comune: BORGOMANERO, Prov: NO, Paese: Italia, Zona: BORGOMANERO, PIVA: 02491030033, RagSoc_Dest: IDEM, Indirizzo_Dest: VIA FELICE PIANA, 90\n",
      "search_document: IDCliente: 11182, RagSoc: EATRIGHT SRL - QUINTILIANO, Nominativo: DEPOSITO QUINTILIANO, Categoria: ALTRO, NominativoContatto: DAVIDE MARCOMIN, Indirizzo: LARGO AUGUSTO, 8, CAP: 20122, Comune: MILANO, Prov: MI, Paese: Italia, Zona: MI-EST, PIVA: 10343500962, Cellulare1: 349 2357222, Persona1: DAVIDE MARCOMIN, Persona2: AMMINISTRAZIONE, emailpers2: amministrazione@erbert.it, Persona3: RACHELE BARBARO, emailpers3: rachele.barbaro@erbert.it, cellulare4: 340 1731356, persona4: DAVIDE QUINZI, emailpers4: davide.quinzi@erbert.it, RagSoc_Dest: EATRIGHT SRL, Indirizzo_Dest: VIA QUINTILIANO, 23\n",
      "search_document: IDCliente: 1500, RagSoc: LEON  D'ORO SRL, Categoria: RISTORANTE, NominativoContatto: GIANMARIO, Indirizzo: P.ZZA MOTTA, 42, CAP: 28016, Comune: ORTA S. GIULIO, Prov: NO, Paese: Italia, Zona: ORTA SAN GIULIO, PIVA: 00177460037, Cellulare2: 338 7753521, Persona2: GIANMARIO, emailpers2: info@albergoleondoro.it\n",
      "search_document: IDCliente: 9094, RagSoc: IST. DELLE SUORE DELLA CARITA', Categoria: ALTRO, NominativoContatto: FABRIZIO E BARBARA, Indirizzo: CIRCONVALLAZ. CLODIA, 3, CAP: 00195, Comune: ROMA, Prov: RM, Paese: Italia, Zona: ORTA SAN GIULIO, PIVA: 01066191006, Cellulare1: 348 9023916, Persona1: BARBARA, Cellulare2: 347 2125216, Persona2: FABRIZIO, RagSoc_Dest: IDEM, Indirizzo_Dest: VIALE CADORNA, 19\n",
      "search_document: IDCliente: 11440, RagSoc: EATRIGHT SRL - VETRA, Nominativo: ERBERT VETRA, Categoria: ALTRO, NominativoContatto: DAVIDE MARCOMIN, Indirizzo: LARGO AUGUSTO, 8, CAP: 20122, Comune: MILANO, Prov: MI, Paese: Italia, Zona: MI-SUD ZTL, PIVA: 10343500962, Cellulare1: 349 2357222, Persona1: DAVIDE MARCOMIN, Persona2: AMMINISTRAZIONE, emailpers2: amministrazione@erbert.it, Persona3: RACHELE BARBARO, emailpers3: rachele.barbaro@erbert.it, cellulare4: 340 1731356, persona4: DAVIDE QUINZI, emailpers4: davide.quinzi@erbert.it, RagSoc_Dest: EATRIGHT SRL, Indirizzo_Dest: PIAZZA QUASIMODO, 2\n",
      "search_document: IDCliente: 12102, RagSoc: OPUS S.R.L., Nominativo: OPUS, Categoria: RISTORANTE, NominativoContatto: FRANCESCO DIMOLFETTA, Indirizzo: VIA SOLFERINO,56, CAP: 20121, Comune: MILANO, Prov: MI, Paese: Italia, Zona: MI-EST ZTL, PIVA: 12596300967, Cellulare1: 342 3517699, Persona1: FRANCESCO DIMOLFETTA, Cellulare2: 328 2980591, Persona2: EDOARDO MICHELI, emailpers2: edoardo.micheli@icloud.com\n",
      "search_document: IDCliente: 8677, RagSoc: MM ONE GROUP SRL, Nominativo: CONSULENZA SITO ZOPPIS, Categoria: FORNITORE, Indirizzo: VIA CALNOVA, 119, CAP: 30020, Comune: NOVENTA DI PIAVE, Prov: VE, Paese: Italia, PIVA: 03884670278\n",
      "search_document: IDCliente: 11115, RagSoc: DISTILLERIA TUONO SRLS, Categoria: FORNITORE, NominativoContatto: SIMONE MARTINI, Indirizzo: CORSO MATTEOTTI, 4/9, CAP: 48018, Comune: FAENZA, Prov: RA, Paese: Italia, PIVA: 02658770397, Persona1: SIMONE MARTINI, emailpers1: distilleriatuono@gmail.com\n",
      "search_document: IDCliente: 13149, RagSoc: EMME G S.A.S. DI CARTERI ANNUNZIATA & C., Nominativo: AL LAGO BISTRO' & GELATERIA, Categoria: RISTORANTE, NominativoContatto: MARINO, Indirizzo: VIA CONTRADA CARDARA SNC, CAP: 89036, Comune: BRANCALEONE, Prov: RC, Paese: Italia, Zona: ARONA, PIVA: 02911360804, Cellulare1: 3930692807, Persona1: MARINO, RagSoc_Dest: EMME G S.A.S. DI CARTERI ANNUNZIATA & C., Indirizzo_Dest: CORSO GUGLIELMO MARCONI 21\n",
      "search_document: IDCliente: 10408, RagSoc: DD RESTAURANT S.R.L., Nominativo: RISTORANTE CAVEAU, Categoria: RISTORANTE, NominativoContatto: DOMENICO DE CRISTOFARO, Indirizzo: CORSO SEMPIONE, 38, CAP: 20154, Comune: MILANO, Prov: MI, Paese: Italia, Zona: MI-OVEST, PIVA: 10477780968, Cellulare1: 392 5727017, Persona1: DOMENICO, Cellulare2: 347 1706686, Persona2: DOMENICO TOSCANO, Cellulare3: 339 8417684, Persona3: MARIANO\n",
      "search_document: IDCliente: 1264, RagSoc: S.P.I. SRL SOC. PRODUZIONE IDROSANITARI S.R.L., Categoria: AZIENDA, Indirizzo: VIA PULICE 4, CAP: 28060, Comune: COMIGNAGO, Prov: NO, Paese: ITALIA, Zona: BORGOMANERO, PIVA: 00118120039\n",
      "search_document: IDCliente: 1984, RagSoc: DUO SRL, Categoria: FORNITORE, Indirizzo: P.ZZA PERTINI 7, CAP: 20067, Comune: PAULLO, Prov: MI, Paese: Italia, PIVA: 10225010155\n",
      "search_document: IDCliente: 12692, RagSoc: D&C SPA, Categoria: FORNITORE, NominativoContatto: ALESSANDRO FREGUGIA, Indirizzo: VIA PRIVATA TACITO, 10/B, CAP: 20094, Comune: CORSICO, Prov: MI, Paese: Italia, PIVA: 00612491209, Cellulare1: 338 8468002, Persona1: ALESSANDRO FREGUGIA, emailpers1: a.fregugia85@gmail.com, Cellulare2: 335 5731465, Persona2: ANDREA TORRES, emailpers2: andrea.torres@dec.it, Persona3: UFFICIO VENDITE, emailpers3: sve@dec.it\n",
      "search_document: IDCliente: 9879, RagSoc: INCANTO E DELIZIE DI MARIA CONSELMO, Nominativo: BENVENUTI AL SUD, Categoria: RISTORANTE, NominativoContatto: MICHELE, Indirizzo: P.ZZA CATTANEO, 37, CAP: 28069, Comune: TRECATE, Prov: NO, Paese: Italia, Zona: BORGOMANERO, PIVA: 02480260039, Cellulare1: 348 4458187, Persona1: MICHELE, RagSoc_Dest: IDEM, Indirizzo_Dest: VIALE KENNEDY, 6\n",
      "search_document: IDCliente: 8719, RagSoc: A.S.D. RIVIERA D'ORTA, Categoria: ALTRO, NominativoContatto: MICHELA, Indirizzo: VIA PIANO LEGRO 26, CAP: 28016, Comune: ORTA SAN GIULIO, Prov: NO, Paese: Italia, Zona: ORTA SAN GIULIO, PIVA: 02157790037, Cellulare1: 339 2217099, Persona1: MICHELA, Cellulare2: 3882992684, Persona2: LUCIO\n",
      "search_document: IDCliente: 11417, RagSoc: CONDIVIDO S.P.A, Nominativo: EDIT, Categoria: BAR, NominativoContatto: NICOLA DINI, Indirizzo: CORSO STATI UNITI, 41, CAP: 10129, Comune: TORINO, Prov: TO, Paese: Italia, Zona: MI-EST, PIVA: 11575340010, Cellulare1: 340 0555712, Persona1: SAMUEL DONNIACUO, emailpers1: samuel.donniacuo@edit-to.com, Cellulare2: 342 3273858, Persona2: NICOLA DINI, emailpers3: contabilita@editbrewing.com, cellulare4: 348 7116988, persona4: GIOVANNI RASTRELLI, RagSoc_Dest: CONDIVIDO S.P.A, Indirizzo_Dest: VIA DELL'APRICA, 12\n",
      "search_document: IDCliente: 11867, RagSoc: 6AM SNC, Nominativo: CAP CLUB, Categoria: DISCOTECA, NominativoContatto: EMANUELE CASATI, Indirizzo: CORSO LODI,18, CAP: 20135, Comune: MILANO, Prov: MI, Paese: Italia, Zona: MI-SUD, PIVA: 12400240961, Cellulare1: 327 1848497, Persona1: EMANUELE CASATI, RagSoc_Dest: 6 AM SNC, Indirizzo_Dest: VIA RIMINI,38\n",
      "search_document: IDCliente: 10867, RagSoc: MEMORABILIA SRL, Nominativo: SIXIEME BISTRO, Categoria: RISTORANTE, NominativoContatto: GABRIELE, Indirizzo: VIA SCALDASOLE,7, CAP: 20123, Comune: MILANO, Prov: MI, Paese: Italia, Zona: MI-SUD ZTL, PIVA: 09831950960, Cellulare1: 335 6370902, Persona1: MAURO ORLANDELLI, Cellulare2: 351 8311808, Persona2: GABRIELE, emailpers2: gabriele.dodi95@gmail.com\n",
      "search_document: IDCliente: 3125, RagSoc: ROY S.R.L., Nominativo: SHED, Categoria: DISCOTECA, NominativoContatto: ANDREA MARCELLA, Indirizzo: VIA FRATELLI D' ITALIA, 5, CAP: 21052, Comune: BUSTO ARSIZIO, Prov: VA, Paese: Italia, Zona: LEGNANO, PIVA: 05788520962, Cellulare1: 389 5971366, Persona1: ALESSANDRO, Cellulare2: 347 6416853, Persona2: ANDREA, Cellulare3: 349 0523511, Persona3: CHIARA, emailpers3: cgiavini@roygroup.it, cellulare4: 392 2031424, persona4: ANGELO, emailpers4: acquisti@gruppoamholding.it, RagSoc_Dest: IDEM, Indirizzo_Dest: VIA TORQUATO TASSO, 16\n",
      "search_document: IDCliente: 9393, RagSoc: YOU SRL, Categoria: ALTRO, NominativoContatto: PATRICK ORIOT, Indirizzo: VIA VARESE, 8, CAP: 20121, Comune: MILANO, Prov: MI, Paese: Italia, Zona: MI-OVEST ZTL, PIVA: 05602960964, Cellulare1: 348 6545311, Persona1: PATRICK\n",
      "search_document: IDCliente: 10845, RagSoc: RINOMATI SRLS, Nominativo: FABRIKA HAMBIRRERIA, Categoria: PUB, NominativoContatto: NICCOLO' RONDONI, Indirizzo: CORSO LIBERTA' 49, CAP: 13100, Comune: VERCELLI, Prov: VC, Paese: Italia, Zona: VERCELLI, PIVA: 02704880026, Cellulare1: 3516699407, Persona1: NICCOLO' RONDONI\n",
      "search_document: IDCliente: 12446, RagSoc: A.MA.RE.SRLS, Nominativo: NOTE DI CUCINA, Categoria: RISTORANTE, NominativoContatto: MAURIZIO, Indirizzo: VIA BEZZECCA 6, CAP: 20135, Comune: MILANO, Prov: MI, Paese: Italia, Zona: MI-EST, PIVA: 09224980962, Cellulare1: 3926344845, Persona1: MAURIZIO, Cellulare2: 3388030395, Persona2: SIMONA, Cellulare3: 327 3276211, Persona3: MASSIMO, RagSoc_Dest: A.MA.RE.SRLS - RISTORANTE NOTE DI CUCINA, Indirizzo_Dest: VIALE MONZA 16\n",
      "search_document: IDCliente: 12173, RagSoc: FINBAL SRL, Nominativo: VINRAGE JAZZ FOOD&WINE, Categoria: RISTORANTE, NominativoContatto: BALLERINI DAVIDE, Indirizzo: VIA OLGINATI 14, CAP: 22100, Comune: COMO, Prov: CO, Paese: Italia, Zona: COMO, PIVA: 03391640137, Cellulare1: 3288911783, Persona1: DAVIDE BALLERINI\n",
      "search_document: IDCliente: 11079, RagSoc: ALDILADELVINO DI PASQUALE MALAFRONTE, Nominativo: ALDILADELVINO, Categoria: ALTRO, NominativoContatto: CAMILLO, Indirizzo: VIA G.SILVA,43, CAP: 20149, Comune: MILANO, Prov: MI, Paese: Italia, Zona: MI-OVEST, PIVA: 09041990962, Cellulare1: 347 8580277, Persona1: CAMILLO DEGANELLO, Cellulare2: 346 0390503\n",
      "search_document: IDCliente: 11548, RagSoc: EATRIGHT SRL - VIA GIOVENALE, Nominativo: ERBERT, Categoria: ALTRO, NominativoContatto: DAVIDE MARCOMIN, Indirizzo: LARGO AUGUSTO, 8, CAP: 20122, Comune: MILANO, Prov: MI, Paese: Italia, Zona: MI-SUD, PIVA: 10343500962, Cellulare1: 349 2357222, Persona1: DAVIDE MARCOMIN, emailpers1: davide.marcomin@erbert.it, Persona2: AMMINISTRAZIONE, emailpers2: amministrazione@erbert.it, Persona3: RACHELE BARBARO, emailpers3: rachele.barbaro@erbert.it, cellulare4: 340 1731356, persona4: DAVIDE QUINZI, emailpers4: davide.quinzi@erbert.it, RagSoc_Dest: EATRIGHT SRL - VIA GIOVENALE, Indirizzo_Dest: VIA GIOVENALE, 15\n",
      "search_document: IDCliente: 9868, RagSoc: CST ITALIA SRL - OFFICINA MILANESE, Nominativo: OFFICINA MILANESE, Categoria: BAR, NominativoContatto: FABIO, Indirizzo: VIALE COL DI LANA, 8, CAP: 20136, Comune: MILANO, Prov: MI, Paese: Italia, Zona: MI-SUD, PIVA: 05682381008, Cellulare1: 333 2139112, Persona1: GIORGIO SANTAMBROGIO, Cellulare2: 340 9763738, Persona2: FABIO, RagSoc_Dest: CST ITALIA SRL, Indirizzo_Dest: VIA GIOVENALE,7\n",
      "search_document: IDCliente: 5991, RagSoc: CIEMME LIQUORI SPA, Categoria: FORNITORE, Indirizzo: VIA GREGORIC 28, CAP: 34170, Comune: GORIZIA, Prov: GO, Paese: Italia, Cellulare1: 335 5474053, Persona1: GIOVANNI GROVA, emailpers1: grovagiovanni@gmail.com, Persona2: LUCA ZONGAR, emailpers2: l.zongar@ciemmeliquori.it\n",
      "search_document: IDCliente: 8430, RagSoc: COMPAGNIA DEI CARAIBI SPA SOCIETA' BENEFIT, Categoria: FORNITORE, NominativoContatto: ALESSANDRO GUZZO, Indirizzo: VIA MARCONI, 8, CAP: 10080, Comune: VIDRACCO, Prov: TO, Paese: Italia, PIVA: 09971520011, Persona1: FRANCESCA COCCO, emailpers1: f.cocco@compagniadeicaraibi.com, emailpers2: customercare@compagniadeicaraibi.com, emailpers3: iena@compagniadeicaraibi.com, persona4: CARLO RAVINA, emailpers4: c.ravina@compagniadeicaraibi.com\n",
      "search_document: IDCliente: 13117, RagSoc: CLIVATI 1969 SRL, Categoria: BAR, NominativoContatto: SIG. GIAMPIETRO LORENZO, Indirizzo: VIALE CONI ZUGNA, 57, CAP: 20144, Comune: MILANO, Prov: MI, Paese: Italia, Zona: MI-SUD, PIVA: 09565320968\n",
      "search_document: IDCliente: 9754, RagSoc: NASTI BAR SORSI & MORSI DI ANASTASIIA GOROBETS, Nominativo: NASTI BAR, Categoria: BAR, NominativoContatto: DENIS FILIPPINI, Indirizzo: CORSO MARCONI, 21, CAP: 28041, Comune: ARONA, Prov: NO, Paese: Italia, Zona: DOMODOSSOLA, PIVA: 02576570036, Cellulare1: 333 1129454, Persona1: DENIS FILIPPINI, Cellulare2: 331 7810110, Persona2: ANASTASIIA GOROBETS\n",
      "search_document: IDCliente: 2526, RagSoc: MEDICI ERMETE & FIGLI SRL, Categoria: FORNITORE, NominativoContatto: RESP. COMM. ITALIA FRANCO LUCCHETTI, Indirizzo: VIA I. NEWTON 13/A, CAP: 42040, Comune: GAIDA, Prov: RE, Paese: Italia, PIVA: 00126840354\n",
      "search_document: IDCliente: 9988, RagSoc: YOU 2 SRL, Categoria: ALTRO, NominativoContatto: PATRIK ORIOT, Indirizzo: VIA VARESE,8, CAP: 20121, Comune: MILANO, Prov: MI, Paese: Italia, Zona: MI-OVEST ZTL, PIVA: 06024950963, Cellulare1: 348 6545311, Persona1: PATRICK ORIOT\n",
      "search_document: IDCliente: 2622, RagSoc: RONER SPA, Categoria: FORNITORE, Indirizzo: VIA ZALLINGER 44, CAP: 39040, Comune: TERMENO, Prov: BZ, Paese: Italia, PIVA: 00120270210, Cellulare1: 339 7537868, Persona1: SIMONA TROMBETTA, emailpers1: info@simonatrombetta.it, Cellulare2: 335 1303898, Persona2: PETER WIEDMER, emailpers2: peter.wiedmer@roner.com\n",
      "search_document: IDCliente: 7836, RagSoc: OXA33 SRL, Nominativo: OPERA 33, Categoria: PUB, NominativoContatto: TERRY, Indirizzo: VIA CARLO FARINI, 33, CAP: 20159, Comune: MILANO, Prov: MI, Paese: Italia, Zona: MI-EST, PIVA: 03262670965, Cellulare1: 338 3566177, Persona1: TERRY\n",
      "search_document: IDCliente: 12645, RagSoc: GIU RESTAURANT SRL, Nominativo: DON TANO, Categoria: RISTORANTE, NominativoContatto: DEMMETRA, Indirizzo: VIA VITTORIO VENETO,28, CAP: 20124, Comune: MILANO, Prov: MI, Paese: Italia, Zona: MI-EST, PIVA: 12956430966, Cellulare1: 389 1995371, Persona1: DEMMETRA, Cellulare2: 337 1274869, Persona2: GIANLUCA, Cellulare3: 347 8489182, Persona3: GIULIA\n",
      "search_document: IDCliente: 9888, RagSoc: X&D S.A.S. DI HU DONGDONG E C., Nominativo: SALA BONUS - EX ELETTRONICA 3 - MILANO, Categoria: BAR, NominativoContatto: RAMONA DE GIOVANNI, Indirizzo: VIA PAOLO LOMAZZO, 10, CAP: 20154, Comune: MILANO, Prov: MI, Paese: Italia, Zona: MI-OVEST ZTL, PIVA: 10843590968, Cellulare1: 320 1621242, Persona1: RAMONA DE GIOVANNI\n",
      "search_document: IDCliente: 11593, RagSoc: IL BARETTO DI ORLANDI PAOLO, Nominativo: IL BARETTO, Categoria: BAR, NominativoContatto: ORLANDI PAOLO, Indirizzo: VIA RIPAMONTI,2, CAP: 20136, Comune: MILANO, Prov: MI, Paese: Italia, Zona: MI-SUD, PIVA: 05639440964, Cellulare1: 347 9416674, Persona1: PAOLO\n",
      "search_document: IDCliente: 1419, RagSoc: S. CATERINA SRL, Nominativo: RISTORANTE OLINA, Categoria: RISTORANTE, NominativoContatto: DANIELA, Indirizzo: VIA MARCONI 10, CAP: 28016, Comune: ORTA SAN GIULIO, Prov: NO, Paese: Italia, Zona: ORTA SAN GIULIO, PIVA: 00626320030, Cellulare1: 348 5106018, Cellulare2: 338 6660211, RagSoc_Dest: RISTORANTE OLINA, Indirizzo_Dest: VICOLO OLINA, 40\n",
      "search_document: IDCliente: 12305, RagSoc: EATRIGHT SRL - VIA FREGUGLIA, Nominativo: ERBERT, Categoria: ALTRO, NominativoContatto: DAVIDE MARCOMIN, Indirizzo: LARGO AUGUSTO, 8, CAP: 20122, Comune: MILANO, Prov: MI, Paese: Italia, Zona: MI-EST, PIVA: 10343500962, Cellulare1: 349 2357222, Persona1: DAVIDE MARCOMIN, emailpers1: davide.marcomin@erbert.it, Persona2: AMMINISTRAZIONE, emailpers2: amministrazione@erbert.it, Persona3: RACHELE BARBARO, emailpers3: rachele.barbaro@erbert.it, cellulare4: 340 1731356, persona4: DAVIDE QUINZI, emailpers4: davide.quinzi@erbert.it, cellulare5: 0200 244000, persona5: MICHEAL DASCANIO, emailpers5: michael.dascanio@erbert.it, RagSoc_Dest: EATRIGHT SRL, Indirizzo_Dest: VIA FREGUGLIA, 4\n",
      "search_document: IDCliente: 1387, RagSoc: CIRCOLO DELLE ALPI, Categoria: BAR, NominativoContatto: ROMINA, Indirizzo: VICOLO FILIBERTI 8, CAP: 28010, Comune: AMENO, Prov: NO, Paese: ITALIA, Zona: ORTA SAN GIULIO, PIVA: 02087280034, Cellulare1: 320 9410498, Persona1: ROMINA, Cellulare2: 348 8127881, Persona2: mariano\n",
      "search_document: IDCliente: 3343, RagSoc: PéRLAGE SRL, Categoria: FORNITORE, Indirizzo: VIALE ITALIA 125, CAP: 36051, Comune: CREAZZO, Prov: VI, Paese: Italia, PIVA: 03295830248\n",
      "search_document: IDCliente: 12494, RagSoc: IBC FORTE S.R.L., Nominativo: HOTEL LE PLEIADI, Categoria: PUB, NominativoContatto: STEFANO BONI, Indirizzo: VIA DELL'ORSO,8, CAP: 20121, Comune: MILANO, Prov: MI, Paese: Italia, Zona: FORTE DEI MARMI, PIVA: 01173330463, Cellulare1: 339 4129133, Persona1: STEFANO BONI, RagSoc_Dest: IBC FORTE S.R.L., Indirizzo_Dest: VIA MATTEO CIVITALI,51\n",
      "search_document: IDCliente: 6928, RagSoc: TUTTI PER UNO S.R.L., Nominativo: FABRIQUE, Categoria: DISCOTECA, NominativoContatto: FABIO, Indirizzo: VIALE TUNISIA, 13, CAP: 20124, Comune: MILANO, Prov: MI, Paese: Italia, Zona: MI-EST, PIVA: 08435070969, Cellulare1: 338 7299135, Persona1: FABIO, Cellulare2: 333 9403280, Persona2: MONICA, RagSoc_Dest: TUTTI PER UNO S.R.L., Indirizzo_Dest: VIA FANTOLI,9\n",
      "search_document: IDCliente: 11816, RagSoc: TRIPSTILLERY MILANO S.R.L., Nominativo: TRIPSTILLERY, Categoria: PUB, NominativoContatto: FRANCESCO ZINI, Indirizzo: VIA JOE COLOMBO,16, CAP: 20124, Comune: MILANO, Prov: MI, Paese: Italia, Zona: MI-EST, PIVA: 11688140968, Cellulare1: 351 8196543, Persona1: ALESSANDRO, Cellulare2: 338 7483784, Persona2: LUCA, Cellulare3: 340 0984023, Persona3: FLAVIO ANGIOLILLO, persona4: LORENZO RAIMONDI, emailpers4: amministrazione.milano@tripstillery.com, cellulare5: 392 8419597, persona5: FRANCESCO BONAZZI\n",
      "search_document: IDCliente: 13600, RagSoc: OSTERIA DEI VECCHI SAPORI SRL, Nominativo: OSTERIA DEI VECCHI SAPORI, Categoria: RISTORANTE, NominativoContatto: MASSIMO, Indirizzo: VIA CARMAGNOLA 3, CAP: 20159, Comune: MILANO, Prov: MI, Paese: Italia, Zona: MI-EST, PIVA: 09314600967, Cellulare1: 3357141079, Persona1: MASSIMO, Cellulare2: 3478187176, Persona2: MARGHERITA, emailpers2: amministrazione@vecchisapori.it\n",
      "search_document: IDCliente: 9420, RagSoc: ORIOLI SILVIO SRL, Nominativo: PASTIFICIO ORIOLI, Categoria: AZIENDA, NominativoContatto: SIGNORA YLENIA, Indirizzo: VIA ORSINI, 6, CAP: 21013, Comune: GALLARATE, Prov: VA, Paese: ITALIA, Zona: GALLARATE, PIVA: 02188740126\n",
      "search_document: IDCliente: 5776, RagSoc: CANTINA TRAMIN SOC. AGR. COOP., Categoria: FORNITORE, NominativoContatto: PETRA BORTOLOTTI, Indirizzo: STRADA DEL VINO, 144, CAP: 39040, Comune: TERMENO, Prov: BZ, Paese: Italia, PIVA: 00120790217\n",
      "search_document: IDCliente: 13552, RagSoc: BEA SRL, Nominativo: COMMERCIALE BEVANDE E AFFINI, Categoria: GROSSISTA, NominativoContatto: MASSIMO RAPPOLDI, Indirizzo: VIA GRAMSCI, 252, CAP: 13876, Comune: SANDIGLIANO, Prov: BI, Paese: Italia, Zona: BIELLA, PIVA: 00208490029, Cellulare1: 3331109623, Persona1: ANDREA CERETTI, emailpers1: andrea.ceretti@beabevande.it, Cellulare2: 3489116186, Persona2: MASSIMO RAPPOLDI\n",
      "search_document: IDCliente: 10759, RagSoc: OSTERIA DEL GENERALE SRLS, Nominativo: OSTERIA DEL GENERALE, Categoria: RISTORANTE, NominativoContatto: LUIGI, Indirizzo: VIA ORTICA,15, CAP: 20134, Comune: MILANO, Prov: MI, Paese: Italia, Zona: MI-EST, PIVA: 10709620966, Cellulare1: 380 1277530, Persona1: LUIGI\n",
      "search_document: IDCliente: 12651, RagSoc: CANTINA PRODUTTORI VALLE ISARCO SOC. AGR. COOP., Nominativo: VALLE ISARCO, Categoria: ALTRO, NominativoContatto: FABRIZIO BOTTONI, Indirizzo: VIA COSTE, 50, CAP: 39043, Comune: CHIUSA, Prov: BZ, Paese: Italia, Zona: BOLZANO, PIVA: 00124420217, Cellulare1: 0472 847553, Persona1: MARGARETH NIEDERSTäTTER, emailpers1: margareth.niederstaetter@cantinavalleisarco.it, Cellulare2: 0472 847553, Persona2: JASMIN SCHENK, emailpers2: jasmin.schenk@kellerei-eisacktal.it, Cellulare3: 0472 847553, Persona3: MANUELA SECCO, emailpers3: manuela.secco@cantinavalleisarco.it, cellulare4: 331 2104353, persona4: ARMIN GRATL, emailpers4: armin.gratl@cantinavalleisarco.it, cellulare5: 346 3527519, persona5: FABRIZIO BOTTONI\n",
      "search_document: IDCliente: 10581, RagSoc: CONAD RESCALDINA, Categoria: FORNITORE, Indirizzo: VIA P. TOGLIATTI, 1, CAP: 20027, Comune: RESCALDINA, Prov: MI, Paese: Italia, PIVA: 11215360964\n",
      "search_document: IDCliente: 13194, RagSoc: MILANO TECHNOLOGY SAS, Nominativo: DISCOTECA MAD, Categoria: DISCOTECA, NominativoContatto: ING SALVATORE CONTI, Indirizzo: VIA SISTINA,121, CAP: 00187, Comune: ROMA, Prov: RM, Paese: Italia, Zona: MI-SUD, PIVA: 00881650808, Cellulare1: 327 3522928, Persona1: ING. SALVATORE CONTI, RagSoc_Dest: MILANO TECHNOLOGY SAS, Indirizzo_Dest: CORSO LODI,100\n",
      "search_document: IDCliente: 2210, RagSoc: DAL FORNO ROMANO AZ. AGRICOLA, Categoria: FORNITORE, Indirizzo: LOC. LODOLETTA 1, CAP: 37030, Comune: CELLORE D'ILLASI, Prov: VR, Paese: Italia, PIVA: 00900760232, Cellulare1: 348 8804244, Persona1: SIMONA ZANETTA, emailpers1: info@methodositalia.com\n",
      "search_document: IDCliente: 12628, RagSoc: BITETENNIS ASD, Categoria: BAR, NominativoContatto: DARIA, Indirizzo: VIA VISCONTI, 2, CAP: 24047, Comune: TREVIGLIO, Prov: BG, Paese: Italia, Zona: BERGAMO, PIVA: 04670680166\n",
      "search_document: IDCliente: 10945, RagSoc: OTTO.OTTO.OTTO S.R.L., Nominativo: MI CUCINA DI CONFINE, Categoria: RISTORANTE, NominativoContatto: FABIO PRINETTI, Indirizzo: VIA CASSIODORO, 5, CAP: 20145, Comune: MILANO, Prov: MI, Paese: Italia, Zona: MI-OVEST, PIVA: 06980250960, Cellulare1: 340 9916587, Persona1: FABIO PRINETTI\n",
      "search_document: IDCliente: 2397, RagSoc: ONESTI GROUP S.P.A., Categoria: GROSSISTA, Indirizzo: VIA TOSCANA 5/7, CAP: 29017, Comune: FIORENZUOLA D'ARDA, Prov: PC, Paese: Italia, PIVA: 00934460338, Persona1: AMMINISTRAZIONE, emailpers1: amministrazione@onestigroup.com, Cellulare2: 335 6743175, Persona2: ANDREA ONESTI, emailpers2: andrea.onesti@onestigroup.com, Cellulare3: 335 7171640, Persona3: ROBERTO ZAVATTONI, cellulare4: 0523 245556, persona4: Emanuela Agnoli, emailpers4: Emanuela.Agnoli@onestigroup.com, cellulare5: 366 6606678, persona5: DANIELE GANDOLFI, emailpers5: Daniele.Gandolfi@onestigroup.com\n",
      "search_document: IDCliente: 3099, RagSoc: BENEDETTI SOC. AGR. CONTE ANTICA DI GIUSEPPE DAVIDE E SIMONE SNC, Categoria: FORNITORE, Indirizzo: VIA CASE SPARSE PRUNEA DI SOTTO 5, CAP: 37015, Comune: SANT' AMBROGIO DI VALPOLICELLA, Prov: VR, Paese: Italia, PIVA: 02638790234, Cellulare1: 335 1219485, Persona1: DAVIDE\n",
      "search_document: IDCliente: 1206, RagSoc: F.LLI FANTINI SPA, Categoria: AZIENDA, NominativoContatto: DANIELA FANTINI, Indirizzo: VIA BUONARROTI, CAP: 28010, Comune: PELLA, Prov: NO, Paese: ITALIA, Zona: SAN MAURIZIO D'OPAGLIO, PIVA: 00582310033\n",
      "search_document: IDCliente: 9507, RagSoc: PRANDELLI F.LLI SRL, Categoria: GROSSISTA, NominativoContatto: DANTE, Indirizzo: VIA ADUA, 42, CAP: 25034, Comune: ORZINUOVI, Prov: BS, Paese: Italia, Zona: BRESCIA, PIVA: 00563230986\n",
      "search_document: IDCliente: 8574, RagSoc: CASCINA CHICCO SOCIETA' AGRICOLA SEMPLICE, Categoria: FORNITORE, NominativoContatto: EDOARDO FREDDI, Indirizzo: VIA VALENTINO, 14, CAP: 12043, Comune: CANALE, Prov: CN, Paese: Italia, PIVA: 03307150049, Cellulare1: 339 7325686, Persona1: EDOARDO FREDDI, Cellulare2: 328 9160028, Persona2: ENRICO FACCENDA\n",
      "search_document: IDCliente: 10436, RagSoc: DI.S.MA SAS DI COPPOLA GAETANO, Categoria: RISTORANTE, NominativoContatto: CRISTINA, Indirizzo: VIA GASPARE SPONTINI, 6, CAP: 20131, Comune: MILANO, Prov: MI, Paese: Italia, Zona: MI-EST, PIVA: 03921020966, Cellulare1: 331 3132636, Persona1: CRISTINA - ORDINI E AMMINISTRAZIONE\n",
      "search_document: IDCliente: 2302, RagSoc: DAC SPA, Categoria: FORNITORE, Indirizzo: VIA G. MARCONI  15, CAP: 25020, Comune: FLERO, Prov: BS, Paese: Italia, PIVA: 03038290171\n",
      "search_document: IDCliente: 1667, RagSoc: TENUTE PIERALISI s.r.l. Società Agricola, Nominativo: MONTESCHIAVO, Categoria: FORNITORE, NominativoContatto: ORRU' DAVIDE A. D., Indirizzo: VIA VIVAIO F.MONTESCHIAVO, CAP: 60030, Comune: MAIOLATI SPONTINI, Prov: AN, Paese: ITALIA, PIVA: 01381030426, Cellulare1: 335 7498222, Persona1: SERGIO FRANCESCONI, emailpers1: sergio.francesconi@tenutepieralisi.it, Cellulare2: 0731 1943010, Persona2: PAMELA (ORDINI)\n",
      "search_document: IDCliente: 3130, RagSoc: SIMONE CARDANI, Nominativo: OSTERIA ELENA, Categoria: RISTORANTE, Indirizzo: VIA UMBERTO I  18, CAP: 28040, Comune: MEZZOMERICO, Prov: NO, Paese: Italia, Zona: NOVARA, PIVA: 02077520035\n",
      "search_document: IDCliente: 9347, RagSoc: SEGNALE SALUTE SRL, Nominativo: RISTORANTE IGEA, Categoria: RISTORANTE, NominativoContatto: IACOPO FUMAGALLI, Indirizzo: VIA CARLO BORROMEO 13, CAP: 20871, Comune: VIMERCATE, Prov: MB, Paese: Italia, Zona: MONZA, PIVA: 09601720965, Cellulare1: 347 8829064, Persona1: IACOPO, Cellulare2: 338 2255064, Persona2: PIETRO\n",
      "search_document: IDCliente: 2408, RagSoc: PLANET SRL, Categoria: FORNITORE, Indirizzo: STRADA NAZIONALE 66/A, CAP: 12020, Comune: SAN DEFENDENTE DI CERVASCA, Prov: CN, Paese: Italia, PIVA: 02495640043, Cellulare1: 3356284442, Persona1: IVO TARICCO, Cellulare2: 338 1165914, Persona2: FILIPPI EZIO, Cellulare3: 01\n",
      "search_document: IDCliente: 2197, RagSoc: SIL SPA, Categoria: FORNITORE, Indirizzo: STRADA COMUNALE CERQUETO, CAP: 86077, Comune: POZZILLI, Prov: NO, Paese: Italia, PIVA: 00302250949\n",
      "search_document: IDCliente: 9265, RagSoc: DPIU' DISCOUNT, Categoria: FORNITORE, Indirizzo: VIA BUSTO ARSIZIO SNC, CAP: 21054, Comune: FAGANANO OLONA, Prov: VA, Paese: Italia, Zona: VARESE, PIVA: 00542090238\n",
      "search_document: IDCliente: 9230, RagSoc: BIMBI SPERDUTI SRL, Nominativo: JAZZ CAFE, Categoria: PUB, NominativoContatto: ANTONIO, Indirizzo: CORSO SEMPIONE, 8, CAP: 20154, Comune: MILANO, Prov: MI, Paese: Italia, Zona: MI-OVEST ZTL, PIVA: 12263560158, Cellulare1: 342 5926717, Persona1: ANTONIO, Cellulare2: 331 1771298, Persona2: ROBERTO, Cellulare3: 349 6449901, Persona3: STEFANO, cellulare4: 349 5251146, persona4: ALBERTO, persona5: DANIELA SENESI, emailpers5: contabilita@jazzholding.it, RagSoc_Dest: BIMIB SPERDUTI SRL - JAZZ CAFE', Indirizzo_Dest: CORSO SEMPIONE, 8\n",
      "search_document: IDCliente: 3730, RagSoc: RISTORANTE LIDO TOSCANO SNC DI VOLPI L. & C., Categoria: RISTORANTE, NominativoContatto: SIG FABIO, Indirizzo: VIA ADDA 33, CAP: 23898, Comune: IMBERSAGO, Prov: LC, Paese: Italia, Zona: LECCO, PIVA: 01252480130\n",
      "search_document: IDCliente: 12935, RagSoc: HOTEL GIARDINI DI D.M.V. SNC, Nominativo: HOTEL RISTORANTE GIARDINI, Categoria: RISTORANTE, NominativoContatto: VALENTINA PERONI, Indirizzo: VIA UMBERTO I, 9, CAP: 13020, Comune: PIODE, Prov: VC, Paese: Italia, Zona: ALAGNA, PIVA: 02452350024\n",
      "search_document: IDCliente: 12961, RagSoc: INFINITY ECOMMERCE SRL, Categoria: FORNITORE, Indirizzo: VIA FRATELLI DI DIO, 323, CAP: 20099, Comune: SESTO SAN GIOVANNI, Prov: MI, Paese: Italia, Zona: MI-EST, PIVA: 12409320962, Cellulare1: 329 3887598, Persona1: MAMO FONIO, emailpers1: massimiliano.fonio@gmail.com\n",
      "search_document: IDCliente: 8781, RagSoc: PROGETTO NORD OVEST SRL, Categoria: BAR, NominativoContatto: UMBERTO GNANI, Indirizzo: VIA LUINO 111, CAP: 21037, Comune: LAVENA PONTE TRESA, Prov: VA, Paese: Italia, Zona: VARESE, PIVA: 03394820124\n",
      "search_document: IDCliente: 12932, RagSoc: OPPURE SRL, Categoria: ALTRO, NominativoContatto: ANNALISA DEL VICARIO, Indirizzo: VIA VIGEVANO 8, CAP: 20144, Comune: MILANO, Prov: MI, Paese: Italia, Zona: MI-SUD, PIVA: 12062620963, Cellulare1: 331 3334203, Persona1: LUCIO, Persona2: ANALISA DEL VICARIO, emailpers2: annalisa.delvicario@gholding.it\n",
      "search_document: IDCliente: 7076, RagSoc: RISTO' P&B S.N.C.DI FUSAR POLI LUCIANO & C., Categoria: BAR, NominativoContatto: CRISTIAN, Indirizzo: VIA ROMA, 32, CAP: 20020, Comune: LAINATE, Prov: MI, Paese: Italia, Zona: LEGNANO, PIVA: 08707610963, Cellulare1: 348 8739652, Persona1: CRISTIAN, Cellulare2: 320 8729249\n",
      "search_document: IDCliente: 5605, RagSoc: PRONTO GAS DI LUPO SALVATORE, Nominativo: RIVENDITA COMBUSTILE PER USO DOMESTICO E ALTRO, Categoria: ALTRO, NominativoContatto: LUPO SALVATORE, Indirizzo: VIA SOLFERINO 155, CAP: 96018, Comune: PACHINO, Prov: SR, Paese: Italia, PIVA: 01635750894, Cellulare1: 3288232157, Persona1: TITOLARE\n",
      "search_document: IDCliente: 1289, RagSoc: PERNOD RICARD ITALIA SPA, Categoria: FORNITORE, NominativoContatto: NICHOLAS MERLI - ns account, Indirizzo: VIA GAETANO DE CASTILLIA, 23, CAP: 20124, Comune: MILANO, Prov: MI, Paese: ITALIA, Zona: MI-EST, PIVA: 00867250151, Cellulare1: 340 3639645, Persona1: NICHOLAS MERLI, emailpers1: nicholas.merli@pernod-ricard.com, Cellulare2: 335 7410128, Persona2: CLAUDIO MISCIOSCIA - direttore vendite nord Italia, Cellulare3: 335 7410132, Persona3: MATTEO OLGIATI - direttore commerciale\n",
      "search_document: IDCliente: 10601, RagSoc: ARTI GRAFICHE FIMOGNARI SRL, Categoria: FORNITORE, Indirizzo: VIA FERRANTE APORTI, 24, CAP: 20125, Comune: MILANO, Prov: MI, Paese: Italia, PIVA: 06026620960\n",
      "search_document: IDCliente: 2570, RagSoc: RONCO CALINO SOCIETA' AGRICOLA S.R.L., Categoria: AZIENDA, NominativoContatto: LARA IMBERTI, Indirizzo: VIA FENICE 45 - FRAZ. TORBIATO, CAP: 25030, Comune: ADRO, Prov: BS, Paese: Italia, PIVA: 03946180985, Cellulare1: 335 5853746, Persona1: LARA IMBERTI, Cellulare2: 338 6376889, Persona2: ANNA ZANARDINI, emailpers2: anna.zanardini@roncocalino.it, Cellulare3: 030 7451073, Persona3: STEFANIA TABAI, persona4: per ordini, emailpers4: silvia.ghilardi@roncocalino.it, RagSoc_Dest: RONCO CALINO SOCIETA' AGRICOLA S.R.L., Indirizzo_Dest: VIA FENICE 45, LOCALITA' 4 CAMINI\n",
      "search_document: IDCliente: 7036, RagSoc: DIEMME SRL, Categoria: FORNITORE, Indirizzo: C.SO RISORGIMENTO, 5, CAP: 28823, Comune: GHIFFA, Prov: VB, Paese: Italia, Zona: VERBANIA, PIVA: 01529940031\n",
      "search_document: IDCliente: 5116, RagSoc: SISTE.IMP, Categoria: ALTRO, NominativoContatto: STARA LUCA, Indirizzo: VIA UMBERTO CORONAS, CAP: 08029, Comune: SINISCOLA, Prov: NU, Paese: Italia, PIVA: 01306950914\n",
      "search_document: IDCliente: 12065, RagSoc: INFOCONSULTING S.R.L., Categoria: ALTRO, NominativoContatto: CERUTTI ALDO, Indirizzo: VIA RIMEMBRANZE 3, CAP: 28010, Comune: SORISO, Prov: NO, Paese: Italia, Zona: GOZZANO, PIVA: 01901060036\n",
      "\n",
      "  **IMPORTANTE: FINE ELENCO DATI ESTRATTI TRAMITE RAG**\n",
      "\n",
      "\"\n",
      "Restituiscimi soltanto l'IDCliente, la RagSoc e l'Indirizzo Dest in formato JSON, non voglio alcun tipo di dettaglio aggiuntivo\"\" \n",
      "\n"
     ]
    }
   ],
   "source": [
    "print(prompt_rag)"
   ]
  },
  {
   "cell_type": "code",
   "execution_count": 77,
   "metadata": {},
   "outputs": [
    {
     "name": "stdout",
     "output_type": "stream",
     "text": [
      "4230\n"
     ]
    }
   ],
   "source": [
    "def count_tokens_simple(text):\n",
    "    return len(text.split())\n",
    "\n",
    "print(count_tokens_simple(prompt_rag))\n"
   ]
  },
  {
   "cell_type": "code",
   "execution_count": 78,
   "metadata": {},
   "outputs": [
    {
     "name": "stdout",
     "output_type": "stream",
     "text": [
      "[\n",
      "  {\n",
      "    \"IDCliente\": \"8443\",\n",
      "    \"RagSoc\": \"SUNFLOWER SRL - BISTROT\",\n",
      "    \"Indirizzo_Dest\": \"VIA BORGOVICO, 39/A\"\n",
      "  }\n",
      "]\n"
     ]
    }
   ],
   "source": [
    "generation_config = {\n",
    "  \"temperature\": 0.1,\n",
    "  \"top_p\": 0.95,\n",
    "  \"top_k\": 40,\n",
    "  \"max_output_tokens\": 8192,\n",
    "  \"response_mime_type\": \"application/json\", # posso richiedere esplicitamente il formato strutturato della risposta\n",
    "}\n",
    "\n",
    "model = genai.GenerativeModel(\n",
    "    model_name=\"gemini-2.0-flash-exp\",\n",
    "    generation_config=generation_config,\n",
    "    #system_instruction=\"Sei un venditore, quindi i campi vuoti non li sostituisci con Null ma con valori inventati!\" # solo come esperimento..\n",
    ")\n",
    "\n",
    "output_rag = model.generate_content(prompt_rag)\n",
    "print(output_rag.text)"
   ]
  }
 ],
 "metadata": {
  "kernelspec": {
   "display_name": "zoppis",
   "language": "python",
   "name": "python3"
  },
  "language_info": {
   "codemirror_mode": {
    "name": "ipython",
    "version": 3
   },
   "file_extension": ".py",
   "mimetype": "text/x-python",
   "name": "python",
   "nbconvert_exporter": "python",
   "pygments_lexer": "ipython3",
   "version": "3.11.11"
  }
 },
 "nbformat": 4,
 "nbformat_minor": 2
}
